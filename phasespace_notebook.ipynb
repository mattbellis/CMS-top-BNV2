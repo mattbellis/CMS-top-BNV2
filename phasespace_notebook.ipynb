{
 "cells": [
  {
   "cell_type": "code",
   "execution_count": null,
   "id": "9e397e22-ddbd-4405-b8c0-31640263d8b3",
   "metadata": {},
   "outputs": [],
   "source": [
    "import sys\n",
    "print(f\"{sys.version = }\\n\")"
   ]
  },
  {
   "cell_type": "code",
   "execution_count": null,
   "id": "ef55e649-6b5e-4d6e-94c9-4cb7a99be8d8",
   "metadata": {},
   "outputs": [],
   "source": [
    "# The classics\n",
    "import numpy as np\n",
    "import matplotlib.pylab as plt\n",
    "import matplotlib # To get the version"
   ]
  },
  {
   "cell_type": "code",
   "execution_count": null,
   "id": "c7a2ad53-bdf9-47e9-8935-cc26a76a8ea2",
   "metadata": {},
   "outputs": [],
   "source": [
    "import zfit\n",
    "from particle import Particle\n",
    "from decaylanguage import DecFileParser, DecayChainViewer, DecayChain, DecayMode\n",
    "import tensorflow as tf\n",
    "\n",
    "from phasespace.fromdecay import GenMultiDecay"
   ]
  },
  {
   "cell_type": "code",
   "execution_count": null,
   "id": "48345733-73b2-4c9e-8c66-8ec1b2d9c1e7",
   "metadata": {},
   "outputs": [],
   "source": [
    "from pprint import pprint"
   ]
  },
  {
   "cell_type": "code",
   "execution_count": null,
   "id": "cb4893a3-f63f-4645-968c-1509f166c127",
   "metadata": {},
   "outputs": [],
   "source": [
    "parser = DecFileParser('/home/samyak/micromamba/envs/pyhep/lib/python3.11/site-packages/tests/fromdecay/example_decays.dec')\n",
    "parser.parse()"
   ]
  },
  {
   "cell_type": "code",
   "execution_count": null,
   "id": "e8a1074d-f81b-4e97-bd60-8626acd39c3d",
   "metadata": {},
   "outputs": [],
   "source": [
    "pi0_chain = parser.build_decay_chains(\"pi0\")\n",
    "pprint(pi0_chain)"
   ]
  },
  {
   "cell_type": "code",
   "execution_count": null,
   "id": "1442e5bb-832b-4bd9-ae14-d0d773473950",
   "metadata": {},
   "outputs": [],
   "source": [
    "DecayChainViewer(pi0_chain)"
   ]
  },
  {
   "cell_type": "code",
   "execution_count": null,
   "id": "b52e0051-9287-4f1a-b275-1fdf734c572c",
   "metadata": {},
   "outputs": [],
   "source": [
    "dplus_decay = DecayMode(1, \"K- pi+ pi+ pi0\", model=\"PHSP\")\n",
    "pi0_decay = DecayMode(1, \"gamma gamma\")\n",
    "dplus_single = DecayChain(\"D+\", {\"D+\": dplus_decay, \"pi0\": pi0_decay})\n",
    "DecayChainViewer(dplus_single.to_dict())"
   ]
  },
  {
   "cell_type": "markdown",
   "id": "fa6318c8-d4bc-4f68-b62a-56cf5f19ae86",
   "metadata": {},
   "source": [
    "# Generating a GenMultiDecayObject"
   ]
  },
  {
   "cell_type": "code",
   "execution_count": null,
   "id": "d5b1dadd-8b9a-464c-bbf5-ecf47a276f01",
   "metadata": {},
   "outputs": [],
   "source": [
    "pi0_decay = GenMultiDecay.from_dict(pi0_chain)\n",
    "\n",
    "for probability, particle in pi0_decay.gen_particles:\n",
    "    print(f\"There is a probability of {probability} \"\n",
    "          f\"that pi0 decays into {', '.join(child.name for child in particle.children)}\")"
   ]
  },
  {
   "cell_type": "code",
   "execution_count": null,
   "id": "94e310d8-3f2e-4e7f-b1de-c2001691efce",
   "metadata": {},
   "outputs": [],
   "source": [
    "weights, events = pi0_decay.generate(n_events=10_000)\n",
    "print(\"Number of events for each decay mode:\", \", \".join(str(len(w)) for w in weights))"
   ]
  },
  {
   "cell_type": "markdown",
   "id": "433f6645-2396-45f6-b908-c1901646323f",
   "metadata": {},
   "source": [
    "# Changing Mass Settings"
   ]
  },
  {
   "cell_type": "markdown",
   "id": "2ca505e2-01df-471c-9767-6334572e2c44",
   "metadata": {},
   "source": [
    "## Constant vs Variable Mass"
   ]
  },
  {
   "cell_type": "code",
   "execution_count": null,
   "id": "ca498121-b028-46bc-aca9-3a5faa6f5d33",
   "metadata": {},
   "outputs": [],
   "source": [
    "dsplus_chain = parser.build_decay_chains(\"D*+\", stable_particles=[\"D+\"])\n",
    "DecayChainViewer(dsplus_chain)"
   ]
  },
  {
   "cell_type": "code",
   "execution_count": null,
   "id": "1c73e1b7-985a-43be-9e5b-eee5f05eaa75",
   "metadata": {},
   "outputs": [],
   "source": [
    "print(f\"pi0 width = {Particle.from_evtgen_name('pi0').width}\\n\"\n",
    "      f\"D0 width = {Particle.from_evtgen_name('D0').width}\")"
   ]
  },
  {
   "cell_type": "code",
   "execution_count": null,
   "id": "968e23c7-332d-4906-b000-c2cb9803cec3",
   "metadata": {},
   "outputs": [],
   "source": [
    "dstar_decay = GenMultiDecay.from_dict(dsplus_chain, tolerance=1e-8)\n",
    "# Loop over D0 and pi+ particles, see graph above\n",
    "for particle in dstar_decay.gen_particles[0][1].children:\n",
    "    # If a particle width is less than tolerance or if it does not have any children, its mass will be fixed.\n",
    "    assert particle.has_fixed_mass\n",
    "\n",
    "# Loop over D+ and pi0. See above.\n",
    "for particle in dstar_decay.gen_particles[1][1].children:\n",
    "    if particle.name == \"pi0\":\n",
    "        assert not particle.has_fixed_mass"
   ]
  },
  {
   "cell_type": "markdown",
   "id": "2e6867b3-f877-4d52-adbc-04637843307b",
   "metadata": {},
   "source": [
    "# Configuring Mass Options"
   ]
  },
  {
   "cell_type": "code",
   "execution_count": null,
   "id": "f5221398-a3fa-447e-97d4-dace799764f0",
   "metadata": {},
   "outputs": [],
   "source": [
    "dsplus_custom_mass_func = dsplus_chain.copy()\n",
    "dsplus_chain_subset = dsplus_custom_mass_func[\"D*+\"][1][\"fs\"][1]\n",
    "print(\"Before:\")\n",
    "pprint(dsplus_chain_subset)\n",
    "# Set the mass function of pi0 to a gaussian distribution when it decays into two photons (gamma)\n",
    "dsplus_chain_subset[\"pi0\"][0][\"zfit\"] = \"gauss\"\n",
    "print(\"After:\")\n",
    "pprint(dsplus_chain_subset)"
   ]
  },
  {
   "cell_type": "code",
   "execution_count": null,
   "id": "31c6f284-c7a9-4085-8bbb-c7227167b0d0",
   "metadata": {},
   "outputs": [],
   "source": [
    "dplus_decay = DecayMode(1, \"K- pi+ pi+ pi0\", model=\"PHSP\")  # The model parameter will be ignored by GenMultiDecay\n",
    "pi0_decay = DecayMode(1, \"gamma gamma\", zfit=\"gauss\")   # Make pi0 have a gaussian mass distribution\n",
    "dplus_single = DecayChain(\"D+\", {\"D+\": dplus_decay, \"pi0\": pi0_decay})\n",
    "GenMultiDecay.from_dict(dplus_single.to_dict())"
   ]
  },
  {
   "cell_type": "code",
   "execution_count": null,
   "id": "d6cc782c-58d9-4f6c-b597-00c7f0562f4c",
   "metadata": {},
   "outputs": [],
   "source": [
    "def custom_gauss(mass, width):\n",
    "    particle_mass = tf.cast(mass, tf.float64)\n",
    "    particle_width = tf.cast(width, tf.float64)\n",
    "\n",
    "    # This is the actual mass function that will be returned\n",
    "    def mass_func(min_mass, max_mass, n_events):\n",
    "        min_mass = tf.cast(min_mass, tf.float64)\n",
    "        max_mass = tf.cast(max_mass, tf.float64)\n",
    "        # Use a zfit PDF\n",
    "        pdf = zfit.pdf.Gauss(mu=particle_mass, sigma=particle_width, obs=\"\")\n",
    "        iterator = tf.stack([min_mass, max_mass], axis=-1)\n",
    "        return tf.vectorized_map(\n",
    "            lambda lim: pdf.sample(1, limits=(lim[0], lim[1])), iterator\n",
    "        )\n",
    "\n",
    "    return mass_func"
   ]
  },
  {
   "cell_type": "code",
   "execution_count": null,
   "id": "7943ad57-6b7c-4b37-961e-3bec0fe7a385",
   "metadata": {},
   "outputs": [],
   "source": [
    "dsplus_chain_subset = dsplus_custom_mass_func[\"D*+\"][1][\"fs\"][1]\n",
    "print(\"Before:\")\n",
    "pprint(dsplus_chain_subset)\n",
    "\n",
    "# Set the mass function of pi0 to the custom gaussian distribution\n",
    "#  when it decays into an electron-positron pair and a photon (gamma)\n",
    "dsplus_chain_subset[\"pi0\"][1][\"zfit\"] = \"custom_gauss\"\n",
    "print(\"After:\")\n",
    "pprint(dsplus_chain_subset)"
   ]
  },
  {
   "cell_type": "code",
   "execution_count": null,
   "id": "1148f8a1-3e0b-4b24-aa9a-4f53f1903ff7",
   "metadata": {},
   "outputs": [],
   "source": [
    "DecayChainViewer(dsplus_chain_subset)"
   ]
  },
  {
   "cell_type": "code",
   "execution_count": null,
   "id": "2ca60486-1828-4c34-a19a-a686cebdf785",
   "metadata": {},
   "outputs": [],
   "source": []
  }
 ],
 "metadata": {
  "kernelspec": {
   "display_name": "Python 3 (ipykernel)",
   "language": "python",
   "name": "python3"
  },
  "language_info": {
   "codemirror_mode": {
    "name": "ipython",
    "version": 3
   },
   "file_extension": ".py",
   "mimetype": "text/x-python",
   "name": "python",
   "nbconvert_exporter": "python",
   "pygments_lexer": "ipython3",
   "version": "3.11.12"
  }
 },
 "nbformat": 4,
 "nbformat_minor": 5
}
