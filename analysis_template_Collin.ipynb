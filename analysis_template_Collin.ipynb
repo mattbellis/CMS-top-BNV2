{
 "cells": [
  {
   "cell_type": "markdown",
   "id": "bd03606f-4095-4934-a6ca-967f623f8a73",
   "metadata": {
    "id": "bd03606f-4095-4934-a6ca-967f623f8a73"
   },
   "source": [
    "# Install or upgrade libraries\n",
    "\n",
    "It might be that you are running with the latest libraries and that they all work together fine.\n",
    "\n",
    "Running the following cell takes a minute or so but ensures that you have a consistent set of python tools."
   ]
  },
  {
   "cell_type": "code",
   "execution_count": null,
   "id": "43fe6edd-2ae6-4e0e-b143-c6198e14f79d",
   "metadata": {
    "colab": {
     "base_uri": "https://localhost:8080/"
    },
    "id": "43fe6edd-2ae6-4e0e-b143-c6198e14f79d",
    "outputId": "0544e11b-a424-4bb2-a777-c3bfdbbba133"
   },
   "outputs": [],
   "source": [
    "import sys\n",
    "print(f\"{sys.version = }\\n\")\n"
   ]
  },
  {
   "cell_type": "code",
   "execution_count": null,
   "id": "3c3fc0fa-3975-4b80-aa87-898c99c88b2b",
   "metadata": {
    "id": "3c3fc0fa-3975-4b80-aa87-898c99c88b2b"
   },
   "outputs": [],
   "source": [
    "# If there are issues with fsspect-xrootd not being found, run this outside of Jupyter-notebook and restart\n",
    "# !pip install --upgrade fsspec-xrootd"
   ]
  },
  {
   "cell_type": "code",
   "execution_count": null,
   "id": "f599a70a-2b2d-4492-9e03-fc3f5e037d6c",
   "metadata": {
    "colab": {
     "base_uri": "https://localhost:8080/",
     "height": 1000
    },
    "id": "f599a70a-2b2d-4492-9e03-fc3f5e037d6c",
    "jupyter": {
     "source_hidden": true
    },
    "outputId": "548b3728-5a4f-420d-a744-027b33a3a90d",
    "scrolled": true
   },
   "outputs": [],
   "source": [
    "#'''\n",
    "!pip install --upgrade pip\n",
    "\n",
    "!pip install futures\n",
    "\n",
    "!pip install --user --upgrade coffea\n",
    "\n",
    "!pip install --upgrade awkward\n",
    "!pip install --upgrade uproot\n",
    "\n",
    "!pip install --upgrade fsspec-xrootd\n",
    "\n",
    "!pip install vector\n",
    "\n",
    "!pip install --upgrade pandas\n",
    "\n",
    "\n",
    "!pip install --upgrade matplotlib\n",
    "#'''"
   ]
  },
  {
   "cell_type": "markdown",
   "id": "8dabf953-ba6f-4fb0-b27d-b7de01a4437b",
   "metadata": {
    "id": "8dabf953-ba6f-4fb0-b27d-b7de01a4437b"
   },
   "source": [
    "We've also prepared some helper code that makes it easier to work with the data in this lesson.\n",
    "\n",
    "You can see the code [here](https://github.com/cms-opendata-workshop/workshop2024-lesson-event-selection/blob/main/instructors/dpoa_workshop_utilities.py) but we will explain the functions and data objects in this notebook.\n",
    "\n",
    "Let's download it first."
   ]
  },
  {
   "cell_type": "code",
   "execution_count": null,
   "id": "4ffabd1e-4faa-4c99-b123-c2808d43ee46",
   "metadata": {
    "id": "4ffabd1e-4faa-4c99-b123-c2808d43ee46"
   },
   "outputs": [],
   "source": [
    "#!wget https://raw.githubusercontent.com/cms-opendata-workshop/workshop2024-lesson-event-selection/main/instructors/dpoa_workshop_utilities.py"
   ]
  },
  {
   "cell_type": "markdown",
   "id": "23a9c230-3250-427a-b5e5-933960c93ab7",
   "metadata": {
    "id": "23a9c230-3250-427a-b5e5-933960c93ab7"
   },
   "source": [
    "## Imports\n",
    "\n",
    "Import all the libraries we will need and check their versions, in case you run into issues."
   ]
  },
  {
   "cell_type": "code",
   "execution_count": null,
   "id": "48b47c51-bcd2-481b-b238-30184aee249b",
   "metadata": {
    "id": "48b47c51-bcd2-481b-b238-30184aee249b",
    "jupyter": {
     "source_hidden": true
    }
   },
   "outputs": [],
   "source": [
    "%load_ext autoreload\n",
    "%autoreload 2\n",
    "\n",
    "# The classics\n",
    "import numpy as np\n",
    "import matplotlib.pylab as plt\n",
    "import matplotlib # To get the version\n",
    "\n",
    "import pandas as pd\n",
    "\n",
    "# The newcomers\n",
    "import awkward as ak\n",
    "import uproot\n",
    "\n",
    "import vector\n",
    "vector.register_awkward()\n",
    "\n",
    "import requests\n",
    "import os\n",
    "\n",
    "import time\n",
    "\n",
    "import json\n",
    "\n",
    "import dpoa_workshop_utilities\n",
    "from dpoa_workshop_utilities import nanoaod_filenames\n",
    "from dpoa_workshop_utilities import get_files_for_dataset\n",
    "from dpoa_workshop_utilities import pretty_print\n",
    "from dpoa_workshop_utilities import build_lumi_mask\n",
    "\n",
    "import sys"
   ]
  },
  {
   "cell_type": "code",
   "execution_count": null,
   "id": "a96e2967-08e7-4317-8e1b-93df0d7b7f93",
   "metadata": {
    "id": "a96e2967-08e7-4317-8e1b-93df0d7b7f93",
    "jupyter": {
     "source_hidden": true
    }
   },
   "outputs": [],
   "source": [
    "print(\"Versions --------\\n\")\n",
    "print(f\"{sys.version = }\\n\")\n",
    "print(f\"{ak.__version__ = }\\n\")\n",
    "print(f\"{uproot.__version__ = }\\n\")\n",
    "print(f\"{np.__version__ = }\\n\")\n",
    "print(f\"{matplotlib.__version__ = }\\n\")\n",
    "print(f\"{vector.__version__ = }\\n\")\n",
    "print(f\"{pd.__version__ = }\\n\")"
   ]
  },
  {
   "cell_type": "markdown",
   "id": "b467ced2-a6d9-4d48-b1d7-27534fcc4cef",
   "metadata": {
    "id": "b467ced2-a6d9-4d48-b1d7-27534fcc4cef"
   },
   "source": [
    "# Opening a file\n",
    "\n",
    "Let's open and explore a sample file.\n",
    "\n",
    "We'll be getting the data from [here](https://opendata.cern.ch/record/67993).\n",
    "\n",
    "This is some Monte Carlo that contains simulations of a top-antitop pair being created in a proton-proton collision at CMS.\n",
    "\n",
    "One top decays leptonically and the other decays hadronically.\n",
    "\n",
    "**Do you know what leptonically and hadronically mean? If not, do a bit of research.**\n",
    "\n",
    "When you go to open the file, it might take 10-30 seconds at this step if you are working with the larger file."
   ]
  },
  {
   "cell_type": "code",
   "execution_count": null,
   "id": "8d021a10-7b23-4204-8f1b-a85c527fd640",
   "metadata": {
    "id": "8d021a10-7b23-4204-8f1b-a85c527fd640",
    "jupyter": {
     "source_hidden": true
    }
   },
   "outputs": [],
   "source": [
    "# For testing\n",
    "# Big file\n",
    "#filename = 'root://eospublic.cern.ch//eos/opendata/cms/mc/RunIISummer20UL16NanoAODv9/TTToSemiLeptonic_TuneCP5_13TeV-powheg-pythia8/NANOAODSIM/106X_mcRun2_asymptotic_v17-v1/120000/08FCB2ED-176B-064B-85AB-37B898773B98.root'\n",
    "\n",
    "# Smaller file, better for prototyping your code as things will run faster\n",
    "filename = 'root://eospublic.cern.ch//eos/opendata/cms/mc/RunIISummer20UL16NanoAODv9/TTToSemiLeptonic_TuneCP5_13TeV-powheg-pythia8/NANOAODSIM/106X_mcRun2_asymptotic_v17-v1/120000/7D120E49-E712-B74B-9E1C-67F2D0057995.root'\n",
    "\n",
    "# print(f\"Opening...{filename}\")\n",
    "# f = uproot.open(filename)\n",
    "\n",
    "# events = f['Events']\n",
    "\n",
    "# nevents = events.num_entries\n",
    "\n",
    "# print(f\"{nevents = }\")"
   ]
  },
  {
   "cell_type": "markdown",
   "id": "6958d27f-abac-4a25-9419-80f47ee05de9",
   "metadata": {
    "id": "6958d27f-abac-4a25-9419-80f47ee05de9"
   },
   "source": [
    "The `events` object is a `TTree` implementation in python and behaves like a dictionary. This means\n",
    "we can get all the keys if we want."
   ]
  },
  {
   "cell_type": "code",
   "execution_count": null,
   "id": "eed85383-d1e7-4142-aba4-19c77d20ad86",
   "metadata": {
    "id": "eed85383-d1e7-4142-aba4-19c77d20ad86",
    "scrolled": true
   },
   "outputs": [],
   "source": [
    "# Uncomment the following line to print all the keys\n",
    "\n",
    "#print(events.keys())"
   ]
  },
  {
   "cell_type": "markdown",
   "id": "d93956f8-3ebc-4483-a78f-08383df897fa",
   "metadata": {
    "id": "d93956f8-3ebc-4483-a78f-08383df897fa"
   },
   "source": [
    "Again, we have provided you with a helper function called `pretty_print` that will print subsets of the keys, based on strings\n",
    "that you require or ignore.\n",
    "\n",
    "It will also format that output based on how many characters you want in a column (you are limited to 80 characters per line).\n",
    "\n",
    "Here is some example usage."
   ]
  },
  {
   "cell_type": "code",
   "execution_count": null,
   "id": "753e6931-609a-4dc3-a032-3c25df01cf02",
   "metadata": {
    "id": "753e6931-609a-4dc3-a032-3c25df01cf02",
    "jupyter": {
     "source_hidden": true
    }
   },
   "outputs": [],
   "source": [
    "# Pretty print all the keys with the default format\n",
    "#pretty_print(events.keys())\n",
    "\n",
    "# Pretty print keys with 30 characters per column, for keys that contain `FatJet`\n",
    "#pretty_print(events.keys(), fmt='30s', require='FatJet')\n",
    "\n",
    "# Pretty print keys with 40 characters per column, for keys that contain `Muon` and `Iso` but ignore ones with `HLT`\n",
    "#pretty_print(events.keys(), fmt='40s', require=['Muon'], ignore='HLT')\n",
    "\n",
    "# Pretty print keys with 40 characters per column, for keys that contain `HLT` and `TkMu50`\n",
    "#pretty_print(events.keys(), fmt='40s', require=['HLT', 'TkMu50'])\n",
    "\n",
    "# Pretty print keys with 40 characters per column, for keys that contain `HLT`\n",
    "#pretty_print(events.keys(), fmt='40s', require='HLT')\n",
    "\n",
    "# Pretty print keys with 40 characters per column, for keys that contain `Jet_` but ignore ones with `Fat`\n",
    "#pretty_print(events.keys(), fmt='40s', require='Jet_', ignore='Fat')\n",
    "\n",
    "# Pretty print keys with 40 characters per column, for keys that contain `PuppiMET` but ignore ones with `Raw`\n",
    "#pretty_print(events.keys(), fmt='40s', require='PuppiMET', ignore='Raw')"
   ]
  },
  {
   "cell_type": "markdown",
   "id": "789ae07e-32bd-4d0a-86eb-062d9aa2cbc9",
   "metadata": {
    "id": "789ae07e-32bd-4d0a-86eb-062d9aa2cbc9"
   },
   "source": [
    "## Extract some data\n",
    "\n",
    "We're going to pull out subsets of the data in order to do our analysis.\n",
    "\n",
    "As a reminder, you can find a list of the variable names in each dataset on the CERN Open Data Portal page for that dataset, for example, [here](https://opendata.cern.ch/eos/opendata/cms/dataset-semantics/NanoAODSIM/75156/ZprimeToTT_M2000_W20_TuneCP2_PSweights_13TeV-madgraph-pythiaMLM-pythia8_doc.html).\n",
    "\n",
    "We're going to work with the following sets of variables\n",
    "* `FatJet` for jets that are merges\n",
    "* `Jet` for non-merged jets\n",
    "* `Muon` for muons\n",
    "* `PuppiMET` which is missing energy in the transverse plane (MET) for pileup per particle identification (Puppi)\n",
    "\n",
    "Running this cell might take a little bit if you are running over the bigger file. However, once you pull out the values, later calculations are much faster."
   ]
  },
  {
   "cell_type": "code",
   "execution_count": null,
   "id": "ecdfee36-c6ae-4b6a-be8a-bb86ef962c8b",
   "metadata": {
    "id": "ecdfee36-c6ae-4b6a-be8a-bb86ef962c8b",
    "jupyter": {
     "source_hidden": true
    }
   },
   "outputs": [],
   "source": [
    "# # Jets ---------------------------------------------------\n",
    "# # B-tagging variable\n",
    "# jet_btag = events['Jet_btagDeepB'].array()\n",
    "\n",
    "# # Measure of quality of measurement of jet\n",
    "# jet_jetid = events['Jet_jetId'].array()\n",
    "\n",
    "# # 4-momentum in pt, eta, phi, mass\n",
    "# jet_pt = events['Jet_pt'].array()\n",
    "# jet_eta = events['Jet_eta'].array()\n",
    "# jet_phi = events['Jet_phi'].array()\n",
    "# jet_mass = events['Jet_mass'].array()\n",
    "\n",
    "\n",
    "# # Muons ---------------------------------------------------\n",
    "# # Muon isolation\n",
    "# muon_iso = events['Muon_miniIsoId'].array()\n",
    "\n",
    "# # Measure of quality of how well the muon is reconstructed\n",
    "# muon_tightId = events['Muon_tightId'].array()\n",
    "\n",
    "# # 4-momentum in pt, eta, phi, mass\n",
    "# muon_pt = events['Muon_pt'].array()\n",
    "# muon_eta = events['Muon_eta'].array()\n",
    "# muon_phi = events['Muon_phi'].array()\n",
    "# muon_mass = events['Muon_mass'].array()\n",
    "\n",
    "\n",
    "# # MET ------------------------------------------------------\n",
    "# # 3-momentum in pt, eta, phi, mass\n",
    "# met_pt = events['PuppiMET_pt'].array()\n",
    "# met_eta = 0*events['PuppiMET_pt'].array()  # Fix this to be 0\n",
    "# met_phi = events['PuppiMET_phi'].array()"
   ]
  },
  {
   "cell_type": "markdown",
   "id": "d078e004-1635-4fda-8443-9f0a85e772dc",
   "metadata": {
    "id": "d078e004-1635-4fda-8443-9f0a85e772dc"
   },
   "source": [
    "# What comes next?"
   ]
  },
  {
   "cell_type": "code",
   "execution_count": null,
   "id": "028074f5-eec6-4ae3-ad44-485e3603aeaa",
   "metadata": {
    "jupyter": {
     "source_hidden": true
    }
   },
   "outputs": [],
   "source": [
    "def process_file(filename):\n",
    "    \"\"\"\n",
    "    Root file processing function;\n",
    "    \n",
    "    ############################\n",
    "    ########## INPUTS ##########\n",
    "    ############################\n",
    "    \n",
    "    filename (str, default=None) - Full root file destination\n",
    "\n",
    "    #############################\n",
    "    ########## RETURNS ##########\n",
    "    #############################\n",
    "    \n",
    "    events (uproot.model (Tree)) - Root file keys\n",
    "    \"\"\"\n",
    "    ############################################\n",
    "    ########## OPENING SPECIFIED FILE ##########\n",
    "    ############################################\n",
    "    print(f\"Opening...{filename}\")\n",
    "    \n",
    "    try:\n",
    "        f = uproot.open(filename)\n",
    "    except:\n",
    "        print(f\"Could not open {filename}\")\n",
    "        return None\n",
    "\n",
    "    ####################################################################\n",
    "    ########## ACCESSING EVENTS AND MAKING SPECIFIC VARIABLES ##########_jet_cut\n",
    "    ####################################################################\n",
    "    \n",
    "    events = f['Events']\n",
    "\n",
    "    nevents = events.num_entries\n",
    "\n",
    "    print(f\"{nevents = }\")\n",
    "\n",
    "\n",
    "    \n",
    "    return events\n",
    "\n",
    "def plot_func(events, pt_cut_vals=[0], btag_cut=\"none\"):\n",
    "    \"\"\"\n",
    "    Plotting Function\n",
    "\n",
    "    Plots histograms of Jet and Muon Transverse Momentum and respective numbers\n",
    "    \n",
    "    ############################\n",
    "    ########## INPUTS ##########\n",
    "    ############################\n",
    "    \n",
    "    events_keys (uproot.model (Tree), default=None) - Root file keys; Can be entered to skip re-processing of root file\n",
    "    \n",
    "    plot (bool, default=False) - Calls plotting function if set to True\n",
    "    \n",
    "    cut_vals (int/float list, default=[0]) - Transverse momentum cut values\n",
    "    \n",
    "    btag_cut (str, default=\"none\") - None, Loose, Medium, Tight cut using Jet_btagDeepB and Jet_btagDeepFlavB\n",
    "\n",
    "    #############################\n",
    "    ########## RETURNS ##########\n",
    "    #############################\n",
    "\n",
    "    None.\n",
    "    \"\"\"\n",
    "    \n",
    "    ################################################\n",
    "    ########## VARIABLES FROM EVENTS FILE ##########\n",
    "    ################################################\n",
    "    \n",
    "    # Muons -------------------------------------------------------\n",
    "    muon_pt = events['Muon_pt'].array()\n",
    "    # muon_eta = events['Muon_eta'].array()\n",
    "    # muon_phi = events['Muon_phi'].array()\n",
    "    # muon_mass = events['Muon_mass'].array()\n",
    "\n",
    "    # muon_iso = events['Muon_miniIsoId'].array()\n",
    "\n",
    "    # muon_tightId = events['Muon_tightId'].array()\n",
    "\n",
    "    \n",
    "    # Jets -------------------------------------------------------\n",
    "    jet_btag = events['Jet_btagDeepB'].array()\n",
    "    # jet_jetid = events['Jet_jetId'].array()\n",
    "\n",
    "    jet_pt = events['Jet_pt'].array()\n",
    "    # jet_eta = events['Jet_eta'].array()\n",
    "    # jet_phi = events['Jet_phi'].array()\n",
    "    # jet_mass = events['Jet_mass'].array()\n",
    "\n",
    "    ###################################\n",
    "    ########## APPLYING CUTS ##########\n",
    "    ###################################\n",
    "\n",
    "    for cut in pt_cut_vals:\n",
    "        pt_jet_cut = jet_pt > cut\n",
    "        \n",
    "        ## B-Tagging ----------------------------------------------------\n",
    "        if btag_cut == \"tight\" or btag_cut == \"Tight\":\n",
    "            deep_b_tag = events[\"Jet_btagDeepB\"].array() > 0.8767\n",
    "            deep_flavb_tag = events[\"Jet_btagDeepFlavB\"].array() > 0.6377\n",
    "            btag = deep_b_tag & deep_flavb_tag\n",
    "\n",
    "            cut_jets = jet_pt[pt_jet_cut[btag]]\n",
    "\n",
    "        elif btag_cut == \"medium\" or btag_cut == \"Medium\":\n",
    "            deep_b_tag = events[\"Jet_btagDeepB\"].array() > 0.5847\n",
    "            deep_flavb_tag = events[\"Jet_btagDeepFlavB\"].array() > 0.2489\n",
    "            btag = deep_b_tag & deep_flavb_tag\n",
    "\n",
    "            cut_jets = jet_pt[pt_jet_cut[btag]]\n",
    "\n",
    "        elif btag_cut == \"loose\" or btag_cut == \"Loose\":\n",
    "            deep_b_tag = events[\"Jet_btagDeepB\"].array() > 0.1918\n",
    "            deep_flavb_tag = events[\"Jet_btagDeepFlavB\"].array() > 0.0480\n",
    "            btag = deep_b_tag & deep_flavb_tag\n",
    "\n",
    "            cut_jets = jet_pt[pt_jet_cut[btag]]\n",
    "\n",
    "        else:\n",
    "            cut_jets = jet_pt[pt_jet_cut]\n",
    "\n",
    "        \n",
    "        pt_muon_cut = muon_pt > cut\n",
    "        cut_muons = muon_pt[pt_muon_cut]\n",
    "\n",
    "        ##############################\n",
    "        ########## PLOTTING ##########\n",
    "        ##############################\n",
    "        \n",
    "        fig, (ax1, ax2, ax3, ax4) = plt.subplots(1,4, figsize=(20,5), tight_layout=True)\n",
    "        \n",
    "        fig.text(0.27,0.92, f\"Jets : $p_T$>{cut} (GeV/$c$) | BTag: {btag_cut}\", ha='center', fontsize=18)\n",
    "        fig.text(0.77, 0.92, f\"Muons : $p_T$>{cut} (GeV/$c$)\", ha='center', fontsize=18)\n",
    "        \n",
    "        ## Jets -------------------------------------------------------------\n",
    "        ax1.hist(ak.flatten(cut_jets), \n",
    "                 bins=100,label=f\"Number of Jets:{ak.sum(ak.num(cut_jets))}\",\n",
    "                range=(0,400))\n",
    "        ax1.set_xlabel(\"Transverse Momentum\",fontsize=14)\n",
    "        ax1.set_ylabel(\"Counts\",fontsize=14)\n",
    "        ax1.legend()\n",
    "\n",
    "        ax2.hist(ak.num(cut_jets), \n",
    "                 bins=100,label=f\"Number of Jets:{ak.sum(ak.num(cut_jets))}\",\n",
    "                range=(0,10))\n",
    "        ax2.set_xlabel(\"Number of Jets\",fontsize=14)\n",
    "        #ax2.set_ylabel(\"Counts\")\n",
    "        #ax2.title(f\"Jets : $p_T$>{cut} (GeV/$c$)\")\n",
    "        ax2.legend()\n",
    "\n",
    "        ## Muons --------------------------------------------------------------\n",
    "        ax3.hist(ak.flatten(cut_muons), \n",
    "                 bins=100,label=f\"Number of Muons:{ak.sum(ak.num(cut_muons))}\",\n",
    "                range=(0,400), color=\"darksalmon\")\n",
    "        ax3.set_xlabel(\"Transverse Momentum\",fontsize=14)\n",
    "        #ax3.set_ylabel(\"Counts\")\n",
    "        ax3.legend()\n",
    "\n",
    "        ax4.hist(ak.num(cut_muons), \n",
    "                 bins=100,label=f\"Number of Muons:{ak.sum(ak.num(cut_muons))}\",\n",
    "                range=(0,5), color=\"darksalmon\")\n",
    "        ax4.set_xlabel(\"Number of Muons\",fontsize=14)\n",
    "        #ax4.set_ylabel(\"Counts\")\n",
    "        #ax4.title(f\"Muons : $p_T$>{cut} (GeV/$c$)\")\n",
    "        ax4.legend()\n",
    "\n",
    "        plt.tight_layout(rect=[0,0,1,0.93])\n",
    "\n",
    "def main(filename=None, events_keys=None, plot=False, pt_cut_vals=[0], btag_cut=\"none\"):\n",
    "    \"\"\"\n",
    "    Main calling function for process_file and plot_func functions\n",
    "    \n",
    "    ############################\n",
    "    ########## INPUTS ##########\n",
    "    ############################\n",
    "    \n",
    "    filename (str, default=None) - Full root file destination\n",
    "    \n",
    "    events_keys (uproot.model (Tree), default=None) - Root file keys; Can be entered to skip re-processing of root file\n",
    "    \n",
    "    plot (bool, default=False) - Calls plotting function if set to True\n",
    "    \n",
    "    cut_vals (int/float list, default=[0]) - Transverse momentum cut values\n",
    "    \n",
    "    btag_cut (str, default=\"none\") - None, Loose, Medium, Tight cut using Jet_btagDeepB and Jet_btagDeepFlavB\n",
    "\n",
    "    #############################\n",
    "    ########## RETURNS ##########\n",
    "    #############################\n",
    "    \n",
    "    events (uproot.model (Tree)) - Root file keys\n",
    "    \"\"\"\n",
    "\n",
    "    if events_keys is None:\n",
    "        events = process_file(filename)\n",
    "\n",
    "    elif events_keys is not None:\n",
    "        events = events_keys\n",
    "    \n",
    "    if plot == True:\n",
    "        plot_func(events, pt_cut_vals, btag_cut);\n",
    "\n",
    "    return events"
   ]
  },
  {
   "cell_type": "code",
   "execution_count": null,
   "id": "1233820c-034f-461f-bd82-82e080a372fd",
   "metadata": {
    "scrolled": true
   },
   "outputs": [],
   "source": [
    "events = main(filename)"
   ]
  },
  {
   "cell_type": "code",
   "execution_count": null,
   "id": "bee39d63-ed9e-4c75-b830-ac3be43caf85",
   "metadata": {},
   "outputs": [],
   "source": [
    "jet_pt = events[\"Jet_pt\"].array()\n",
    "muon_pt = events[\"Muon_pt\"].array()\n",
    "print(f\"Number of jets: {len(ak.flatten(jet_pt))}\")\n",
    "print(f\"Number of muons: {len(ak.flatten(muon_pt))}\")"
   ]
  },
  {
   "cell_type": "code",
   "execution_count": null,
   "id": "7116ada9-a194-4c2b-96f8-f9f55df17a89",
   "metadata": {},
   "outputs": [],
   "source": [
    "cut_vals = [10, 20, 25, 30]\n",
    "# Smaller file, better for prototyping your code as things will run faster\n",
    "small_file = 'root://eospublic.cern.ch//eos/opendata/cms/mc/RunIISummer20UL16NanoAODv9/TTToSemiLeptonic_TuneCP5_13TeV-powheg-pythia8/NANOAODSIM/106X_mcRun2_asymptotic_v17-v1/120000/7D120E49-E712-B74B-9E1C-67F2D0057995.root'\n",
    "#events = main(filename, plot=True, cut_vals=cut_vals)"
   ]
  },
  {
   "cell_type": "code",
   "execution_count": null,
   "id": "1ce39323-c0f1-4f59-8660-7c4c1a426ba3",
   "metadata": {},
   "outputs": [],
   "source": [
    "# Big file\n",
    "big_file = 'root://eospublic.cern.ch//eos/opendata/cms/mc/RunIISummer20UL16NanoAODv9/TTToSemiLeptonic_TuneCP5_13TeV-powheg-pythia8/NANOAODSIM/106X_mcRun2_asymptotic_v17-v1/120000/08FCB2ED-176B-064B-85AB-37B898773B98.root'"
   ]
  },
  {
   "cell_type": "code",
   "execution_count": null,
   "id": "afbb073b-0798-4402-bc87-e41e5ee79271",
   "metadata": {},
   "outputs": [],
   "source": [
    "small_events = main(small_file)\n",
    "big_events = main(big_file)"
   ]
  },
  {
   "cell_type": "code",
   "execution_count": null,
   "id": "272a295b-2f56-4fb4-89b9-8d760b9a27f1",
   "metadata": {},
   "outputs": [],
   "source": [
    "main(events_keys=big_events, pt_cut_vals=[20], btag_cut=\"Loose\", plot=True)"
   ]
  },
  {
   "cell_type": "code",
   "execution_count": null,
   "id": "6891d81e-f062-484d-8a58-2aad7e87781c",
   "metadata": {},
   "outputs": [],
   "source": [
    "main(events_keys=big_events, pt_cut_vals=[20], btag_cut=\"Medium\", plot=True)"
   ]
  },
  {
   "cell_type": "code",
   "execution_count": null,
   "id": "a54a5341-2f42-48b3-9836-86ed145e90e4",
   "metadata": {},
   "outputs": [],
   "source": [
    "main(events_keys=big_events, pt_cut_vals=[20], btag_cut=\"Tight\", plot=True)"
   ]
  },
  {
   "cell_type": "code",
   "execution_count": null,
   "id": "77a9aff0-2b3b-4296-820c-1d2ed4ed6e89",
   "metadata": {},
   "outputs": [],
   "source": [
    "jet_btagB = big_events[\"Jet_btagDeepB\"].array()\n",
    "jet_btag_flavB = big_events[\"Jet_btagDeepFlavB\"].array()\n",
    "x_vals = {\n",
    "    \"Loose\": [0.1918, 0.0480, \"purple\"],\n",
    "    \"Medium\": [0.5847, 0.2489, \"yellow\"],\n",
    "    \"Tight\": [0.8767, 0.6377, \"red\"]\n",
    "}"
   ]
  },
  {
   "cell_type": "code",
   "execution_count": null,
   "id": "d84e2f23-d51d-41d6-9329-14821b8c3f20",
   "metadata": {
    "jupyter": {
     "source_hidden": true
    }
   },
   "outputs": [],
   "source": [
    "plt.figure(figsize=(15,5))\n",
    "plt.subplot(1,2,1)\n",
    "\n",
    "plt.hist(ak.flatten(jet_btagB), bins=100, range=(0,1));\n",
    "for val in x_vals:\n",
    "    plt.axvline(x_vals[val][0], color=x_vals[val][-1], linestyle='--', label=val)\n",
    "plt.title(\"Jet_btagDeepB\")\n",
    "plt.legend();\n",
    "\n",
    "plt.subplot(1,2,2)\n",
    "\n",
    "plt.hist(ak.flatten(jet_btag_flavB), bins=100, range=(0,1));\n",
    "for val in x_vals:\n",
    "    plt.axvline(x_vals[val][1], color=x_vals[val][-1], linestyle='--', label=val)\n",
    "plt.title(\"Jet_btagDeepFlavB\")\n",
    "plt.legend();"
   ]
  },
  {
   "cell_type": "markdown",
   "id": "552f2a64-1c28-40e7-b681-86b33214a28b",
   "metadata": {},
   "source": [
    "# Invariant Mass of Top Quark and W Boson"
   ]
  },
  {
   "cell_type": "code",
   "execution_count": null,
   "id": "ee9caa4b-959d-401e-a782-68db9310313f",
   "metadata": {},
   "outputs": [],
   "source": [
    "events = big_events"
   ]
  },
  {
   "cell_type": "code",
   "execution_count": null,
   "id": "755fcbc1-cdd2-483c-8150-2acea85cafd7",
   "metadata": {},
   "outputs": [],
   "source": [
    "pretty_print(events.keys(), fmt='40s', require=['Muon'], ignore='HLT')"
   ]
  },
  {
   "cell_type": "code",
   "execution_count": null,
   "id": "c472941a-cfd4-4b0b-8f00-d00255d48158",
   "metadata": {},
   "outputs": [],
   "source": [
    "# FatJet -----------------------------------------------------\n",
    "fatjet_mSD = events['FatJet_msoftdrop'].array()\n",
    "\n",
    "fatjet_tag = events['FatJet_particleNet_TvsQCD'].array()\n",
    "\n",
    "fatjet_tau2 = events['FatJet_tau2'].array()\n",
    "fatjet_tau3 = events['FatJet_tau3'].array()\n",
    "\n",
    "fatjet_pt = events['FatJet_pt'].array()\n",
    "fatjet_eta = events['FatJet_eta'].array()\n",
    "fatjet_phi = events['FatJet_phi'].array()\n",
    "fatjet_mass = events['FatJet_mass'].array()\n",
    "    \n",
    "# Muons -------------------------------------------------------\n",
    "muon_pt = events['Muon_pt'].array()\n",
    "muon_eta = events['Muon_eta'].array()\n",
    "muon_phi = events['Muon_phi'].array()\n",
    "muon_mass = events['Muon_mass'].array()\n",
    "\n",
    "muon_iso = events['Muon_miniIsoId'].array()\n",
    "\n",
    "muon_tightId = events['Muon_tightId'].array()\n",
    "\n",
    "    \n",
    "# Jets -------------------------------------------------------\n",
    "jet_btag = events['Jet_btagDeepB'].array()\n",
    "jet_jetid = events['Jet_jetId'].array()\n",
    "\n",
    "jet_pt = events['Jet_pt'].array()\n",
    "jet_eta = events['Jet_eta'].array()\n",
    "jet_phi = events['Jet_phi'].array()\n",
    "jet_mass = events['Jet_mass'].array()\n",
    "jets_btagDeepB = events[\"Jet_btagDeepB\"].array()\n",
    "jets_btagDeepFlavB = events[\"Jet_btagDeepFlavB\"].array()\n",
    "    \n",
    "# MET ---------------------------------------------------------\n",
    "met_pt = events['PuppiMET_pt'].array()\n",
    "met_eta = 0*events['PuppiMET_pt'].array()  # Fix this to be 0\n",
    "met_phi = events['PuppiMET_phi'].array() \n",
    "\n",
    "ht_lep = muon_pt + met_pt"
   ]
  },
  {
   "cell_type": "code",
   "execution_count": null,
   "id": "87db16e9-9228-42f2-a400-7fef6e30df34",
   "metadata": {
    "jupyter": {
     "source_hidden": true
    }
   },
   "outputs": [],
   "source": [
    "    ##########################\n",
    "    ########## CUTS ##########\n",
    "    ##########################\n",
    "\n",
    "# # Particle-specific cuts --------------------------------------\n",
    "# tau32 = fatjet_tau3/fatjet_tau2\n",
    "\n",
    "# #cut_fatjet = (tau32>0.67) & (fatjet_eta>-2.4) & (fatjet_eta<2.4) & (fatjet_mSD>105) & (fatjet_mSD<220)\n",
    "# cut_fatjet = (fatjet_pt > 500) & (fatjet_tag > 0.5)\n",
    "\n",
    "# cut_muon = (muon_pt>20) & (muon_eta>-2.4) & (muon_eta<2.4) & \\\n",
    "#            (muon_tightId == True) & (muon_iso>1) & (ht_lep>150)\n",
    "\n",
    "# cut_jet = (jet_btag > 0.5) & (jet_jetid>=4)\n",
    "# # Event cuts -------------------------------------------------\n",
    "# cut_met = (met_pt > 50)\n",
    "\n",
    "# cut_nmuons = ak.num(cut_muon[cut_muon]) == 1\n",
    "# cut_njets = ak.num(cut_jet[cut_jet]) == 4\n",
    "\n",
    "\n",
    "# cut_trigger = (events['HLT_TkMu50'].array())\n",
    "    \n",
    "# cut_ntop = ak.num(cut_fatjet[cut_fatjet]) == 1\n",
    "\n",
    "# cut_full_event = cut_trigger & cut_nmuons# & cut_met & cut_ntop\n",
    "        \n",
    "# #############################################\n",
    "# ########## CALCULATING DI-TOP MASS ##########\n",
    "# #############################################\n",
    "    \n",
    "# fatjets = ak.zip(\n",
    "#     {\"pt\": fatjet_pt[cut_full_event][cut_fatjet[cut_full_event]], \n",
    "#      \"eta\": fatjet_eta[cut_full_event][cut_fatjet[cut_full_event]], \n",
    "#      \"phi\": fatjet_phi[cut_full_event][cut_fatjet[cut_full_event]], \n",
    "#      \"mass\": fatjet_mass[cut_full_event][cut_fatjet[cut_full_event]]},\n",
    "#     with_name=\"Momentum4D\",\n",
    "# )\n",
    "\n",
    "# muons = ak.zip(\n",
    "#     {\"pt\": muon_pt[cut_full_event][cut_muon[cut_full_event]], \n",
    "#      \"eta\": muon_eta[cut_full_event][cut_muon[cut_full_event]], \n",
    "#      \"phi\": muon_phi[cut_full_event][cut_muon[cut_full_event]], \n",
    "#      \"mass\": muon_mass[cut_full_event][cut_muon[cut_full_event]]},\n",
    "#     with_name=\"Momentum4D\",\n",
    "# )\n",
    "\n",
    "# jets = ak.zip(\n",
    "#     {\"pt\": jet_pt[cut_full_event][cut_jet[cut_full_event]], \n",
    "#      \"eta\": jet_eta[cut_full_event][cut_jet[cut_full_event]], \n",
    "#      \"phi\": jet_phi[cut_full_event][cut_jet[cut_full_event]], \n",
    "#      \"mass\": jet_mass[cut_full_event][cut_jet[cut_full_event]],\n",
    "#      \"btagCSVV2\": jets_btagCSVV2[cut_full_event][cut_jet[cut_full_event]]},\n",
    "#     with_name=\"Momentum4D\",\n",
    "# )\n",
    "\n",
    "# met = ak.zip(\n",
    "#     {\"pt\": met_pt[cut_full_event], \n",
    "#      \"eta\": met_eta[cut_full_event], \n",
    "#      \"phi\": met_phi[cut_full_event], \n",
    "#      \"mass\": 0}, # We assume this is a neutrino with 0 mass\n",
    "#     with_name=\"Momentum4D\",\n",
    "# )\n",
    "###########################################################################################\n",
    "###########################################################################################\n",
    "###########################################################################################\n",
    "###########################################################################################\n",
    "fatjets = ak.zip(\n",
    "    {\"pt\": fatjet_pt, \n",
    "     \"eta\": fatjet_eta, \n",
    "     \"phi\": fatjet_phi, \n",
    "     \"mass\": fatjet_mass},\n",
    "    with_name=\"Momentum4D\",\n",
    ")\n",
    "\n",
    "muons = ak.zip(\n",
    "    {\"pt\": muon_pt, \n",
    "     \"eta\": muon_eta, \n",
    "     \"phi\": muon_phi, \n",
    "     \"mass\": muon_mass},\n",
    "    with_name=\"Momentum4D\",\n",
    ")\n",
    "\n",
    "jets = ak.zip(\n",
    "    {\"pt\": jet_pt, \n",
    "     \"eta\": jet_eta, \n",
    "     \"phi\": jet_phi, \n",
    "     \"mass\": jet_mass,\n",
    "     \"btagDeepB\": jets_btagDeepB,\n",
    "     \"btagDeepFlavB\": jets_btagDeepFlavB},\n",
    "    with_name=\"Momentum4D\",\n",
    ")\n",
    "\n",
    "met = ak.zip(\n",
    "    {\"pt\": met_pt, \n",
    "     \"eta\": met_eta, \n",
    "     \"phi\": met_phi, \n",
    "     \"mass\": np.zeros(len(met_phi))}, # We assume this is a neutrino with 0 mass\n",
    "    with_name=\"Momentum4D\",\n",
    ")"
   ]
  },
  {
   "cell_type": "code",
   "execution_count": null,
   "id": "30a47149-aa68-48bc-96cd-500899e18f4b",
   "metadata": {
    "jupyter": {
     "source_hidden": true
    }
   },
   "outputs": [],
   "source": [
    "# Calculate all the different combinations\n",
    "p4mu,p4fj,p4j,p4met = ak.unzip(ak.cartesian([muons, fatjets, jets, met]))\n",
    "\n",
    "# Calculate a sum of the 4-momenta\n",
    "p4tot = p4mu + p4fj + p4j + p4met"
   ]
  },
  {
   "cell_type": "code",
   "execution_count": null,
   "id": "ba4228e3-7442-489c-b2e0-7715df009d92",
   "metadata": {
    "jupyter": {
     "source_hidden": true
    }
   },
   "outputs": [],
   "source": [
    "# Get the mass\n",
    "x = p4tot.mass\n",
    "\n",
    "print(x)\n",
    "\n",
    "#ncand_cut = ak.num(x)==1\n",
    "ncand_cut = ak.num(x)>0\n",
    "\n",
    "# Plot it!\n",
    "# Your code here\n",
    "plt.figure()\n",
    "plt.hist(ak.flatten(x[ncand_cut]), bins=40, range=(0,4000));\n",
    "plt.hist(x[ncand_cut][:,0], bins=40, range=(0,4000));"
   ]
  },
  {
   "cell_type": "code",
   "execution_count": null,
   "id": "de2713be-01c4-4f23-ac18-748f8a73fcdd",
   "metadata": {},
   "outputs": [],
   "source": [
    "#########################################################################\n",
    "##################### SELECTING DESIRED DATA (CUTS) #####################\n",
    "#########################################################################\n",
    "\n",
    "muon_mask = (muons.pt > 20) & (np.abs(muons.eta) < 2.1)\n",
    "jet_mask = (jets.pt > 20) & (np.abs(jets.eta) < 2.4)\n",
    "\n",
    "cut_muons = muons[muon_mask]\n",
    "cut_jets = jets[jet_mask]\n",
    "\n",
    "n_muons = ak.num(cut_muons)\n",
    "n_jets = ak.num(cut_jets)\n",
    "n_bjets = ak.sum(jets.btagDeepB > 0.5847, axis=1)\n",
    "\n",
    "event_mask = (n_muons == 1) & (n_jets == 4) & (n_bjets == 2)\n",
    "\n",
    "selected_jets = cut_jets[event_mask]\n",
    "selected_muons = cut_muons[event_mask]\n",
    "\n",
    "#################################################################\n",
    "##################### TOP QUARK CALCULATION #####################\n",
    "#################################################################\n",
    "\n",
    "btag_cut = 0.8767\n",
    "non_btag_cut = 0.2\n",
    "\n",
    "trijets = ak.combinations(selected_jets, 3, fields=[\"j1\",\"j2\",\"j3\"])\n",
    "trijets[\"p4\"] = trijets.j1 + trijets.j2 + trijets.j3\n",
    "# trijets[\"max_btag\"] = ak.max([\n",
    "#     trijets.j1.btagDeepB,\n",
    "#     trijets.j2.btagDeepB,\n",
    "#     trijets.j3.btagDeepB\n",
    "# ], axis=0)\n",
    "\n",
    "\n",
    "\n",
    "mask_jets_btag = ((trijets.j1.btagDeepB > btag_cut) & (trijets.j2.btagDeepB < non_btag_cut) & (trijets.j3.btagDeepB < non_btag_cut)) | \\\n",
    "                 ((trijets.j1.btagDeepB < non_btag_cut) & (trijets.j2.btagDeepB > btag_cut) & (trijets.j3.btagDeepB < non_btag_cut)) | \\\n",
    "                 ((trijets.j1.btagDeepB < non_btag_cut) & (trijets.j2.btagDeepB < non_btag_cut) & (trijets.j3.btagDeepB > btag_cut))\n",
    "\n",
    "top_trijet = trijets.p4[mask_jets_btag][ak.argmax(trijets.p4.pt[mask_jets_btag], axis=1, keepdims=True)]\n",
    "invmass_top = ak.flatten(top_trijet.mass)\n",
    "\n",
    "\n",
    "###############################################################\n",
    "##################### W BOSON CALCULATION #####################\n",
    "###############################################################\n",
    "\n",
    "event_mask = (n_muons == 1) & (n_jets == 4)\n",
    "\n",
    "selected_jets = cut_jets[event_mask]\n",
    "selected_muons = cut_muons[event_mask]\n",
    "\n",
    "dijets = ak.combinations(selected_jets, 2, fields=[\"j1\",\"j2\"])\n",
    "dijets[\"p3\"] = dijets.j1 + dijets.j2\n",
    "\n",
    "\n",
    "non_mask_jets_btag = ((dijets.j1.btagDeepB < btag_cut) & (dijets.j2.btagDeepB < btag_cut))\n",
    "\n",
    "w_boson = dijets.p3[non_mask_jets_btag][ak.argmax(dijets.p3.pt[non_mask_jets_btag], axis=1, keepdims=True)]\n",
    "invmass_w = ak.flatten(w_boson.mass)\n",
    "\n"
   ]
  },
  {
   "cell_type": "code",
   "execution_count": null,
   "id": "7b5b2b82-8042-4f0f-81b8-52562083d6ec",
   "metadata": {},
   "outputs": [],
   "source": [
    "plt.figure(figsize=(20,5))\n",
    "\n",
    "plt.subplot(1,2,1)\n",
    "plt.title(\"Top Quark Invariant Mass\")\n",
    "plt.hist(invmass_top, bins=100, range=(0,400))\n",
    "plt.axvline(173,color=\"red\",linestyle=\"--\",label=\"Known Value (173 GeV)\")\n",
    "\n",
    "plt.xticks(np.arange(0,275,25),minor=True)\n",
    "plt.xlabel(\"Invariant Mass [GeV]\")\n",
    "plt.ylabel(\"Events\")\n",
    "plt.legend();\n",
    "\n",
    "plt.subplot(1,2,2)\n",
    "plt.title(\"W Boson Invariant Mass\")\n",
    "plt.hist(invmass_w, bins=100, range=(0,250))\n",
    "plt.axvline(80,color=\"red\",linestyle=\"--\",label=\"Known Value (80 GeV)\")\n",
    "\n",
    "plt.xticks(np.arange(0,275,25),minor=True)\n",
    "plt.xlabel(\"Invariant Mass [GeV]\")\n",
    "plt.ylabel(\"Events\")\n",
    "plt.legend();"
   ]
  },
  {
   "cell_type": "code",
   "execution_count": null,
   "id": "e4d074b1-5919-42b6-9fcb-a754dbbdd935",
   "metadata": {
    "jupyter": {
     "source_hidden": true
    }
   },
   "outputs": [],
   "source": [
    "btag_cut = 0.5\n",
    "non_btag_cut = 0.2\n",
    "\n",
    "\n",
    "mask1 = ((trijets.j1.btagDeepB > btag_cut) & (trijets.j2.btagDeepB < non_btag_cut) & (trijets.j3.btagDeepB < non_btag_cut))\n",
    "mask2 = ((trijets.j1.btagDeepB < non_btag_cut) & (trijets.j2.btagDeepB > btag_cut) & (trijets.j3.btagDeepB < non_btag_cut))\n",
    "mask3 = ((trijets.j1.btagDeepB < non_btag_cut) & (trijets.j2.btagDeepB < non_btag_cut) & (trijets.j3.btagDeepB > btag_cut))\n",
    "\n",
    "mask = mask1 | mask2 | mask3\n",
    "\n",
    "n = 2\n",
    "for i in range(len(trijets[n].j1)):\n",
    "    \n",
    "    print('------------')\n",
    "    print(trijets[n].j1[i])\n",
    "    print(trijets[n].j2[i])\n",
    "    print(trijets[n].j3[i])\n",
    "    print()\n",
    "    print(mask1[n])\n",
    "    print(mask2[n])\n",
    "    print(mask3[n])\n",
    "    print(mask[n])"
   ]
  },
  {
   "cell_type": "markdown",
   "id": "9ddb669f-973d-455b-9853-1a855b3b8127",
   "metadata": {},
   "source": [
    "# Reconstructing Top Quark using missing mass of Neutrino"
   ]
  },
  {
   "cell_type": "code",
   "execution_count": null,
   "id": "e322511c-5d1d-4da5-95fb-e2c56ede6894",
   "metadata": {},
   "outputs": [],
   "source": [
    "muons[muon_mask],met"
   ]
  },
  {
   "cell_type": "code",
   "execution_count": null,
   "id": "a53b25d3-51d9-42ba-adf7-65a3d2bcd6c6",
   "metadata": {},
   "outputs": [],
   "source": [
    "muon_mask = (muons.pt > 20)# & (np.abs(muons.eta) < 2.1)\n",
    "jet_mask = (jets.pt > 20)# & (np.abs(jets.eta) < 2.4)\n",
    "#met_mask = (met.pt > 20)\n",
    "\n",
    "cut_muons = muons[muon_mask]\n",
    "cut_jets = jets[jet_mask]\n",
    "cut_met = met#[met_mask]\n",
    "\n",
    "n_muons = ak.num(cut_muons)\n",
    "n_jets = ak.num(cut_jets)\n",
    "n_nonbjets = ak.sum(jets.btagDeepB < 0.8767, axis=1)\n",
    "n_bjets = ak.sum(jets.btagDeepB > 0.8767, axis=1)\n",
    "\n",
    "\n",
    "event_mask = (n_muons == 1) & (n_jets == 4) & (n_nonbjets == 2)\n",
    "event_mask2 = (n_muons == 1) & (n_jets == 4) & (n_bjets == 2)\n",
    "\n",
    "\n",
    "selected_nonbjets = cut_jets[event_mask]\n",
    "selected_bjets = cut_jets[event_mask2]\n",
    "selected_muons = cut_muons[event_mask2]\n",
    "selected_met = cut_met[event_mask2]\n",
    "\n",
    "nonbjet = ak.zip(\n",
    "    {\"px\": selected_nonbjets[:,0].px,\n",
    "     \"py\": selected_nonbjets[:,0].py,\n",
    "     \"pz\": selected_nonbjets[:,0].pz,\n",
    "     \"E\":  selected_nonbjets[:,0].energy},\n",
    "    with_name=\"Momentum4D\"\n",
    ")\n",
    "\n",
    "bjet = ak.zip(\n",
    "    {\"px\": selected_bjets[:,0].px,\n",
    "     \"py\": selected_bjets[:,0].py,\n",
    "     \"pz\": selected_bjets[:,0].pz,\n",
    "     \"E\":  selected_bjets[:,0].energy},\n",
    "    with_name=\"Momentum4D\"\n",
    ")\n",
    "\n",
    "mu = ak.zip(\n",
    "    {\"px\": selected_muons[:,0].px,\n",
    "     \"py\": selected_muons[:,0].py,\n",
    "     \"pz\": selected_muons[:,0].pz,\n",
    "     \"E\":  selected_muons[:,0].energy},\n",
    "    with_name=\"Momentum4D\"\n",
    ")\n",
    "\n",
    "nu = ak.zip(\n",
    "    {\"px\": selected_met.px,\n",
    "     \"py\": selected_met.py,\n",
    "     \"pz\": np.zeros(len(selected_met.py)),\n",
    "     \"E\":  np.zeros(len(selected_met.py))},\n",
    "    with_name=\"Momentum4D\"\n",
    ")"
   ]
  },
  {
   "cell_type": "code",
   "execution_count": null,
   "id": "80e2662e-247d-4afe-8412-6519595a5f36",
   "metadata": {},
   "outputs": [],
   "source": [
    "mu,nu"
   ]
  },
  {
   "cell_type": "code",
   "execution_count": null,
   "id": "cc1b0cf1-4cb6-437d-9a1a-8f3b1a5859e4",
   "metadata": {},
   "outputs": [],
   "source": [
    "MW = 80.4 # GeV\n",
    "mu_nu_p = mu.px*nu.px + mu.py*nu.py\n",
    "\n",
    "Dtmp = MW**2 - mu.mass**2 + 2*(mu_nu_p)\n",
    "Atmp = 4*(mu.energy**2 - mu.pz**2)\n",
    "Btmp = -4 * Dtmp * mu.pz\n",
    "Ctmp = 4 * mu.energy**2 * nu.pt**2 - Dtmp**2\n",
    "\n",
    "disc = Btmp**2 - 4*Atmp*Ctmp\n",
    "\n",
    "nu_pz1 = (-Btmp + np.sqrt(disc))/(2*Atmp)\n",
    "nu_pz2 = (-Btmp - np.sqrt(disc))/(2*Atmp)\n",
    "\n",
    "real_sol = disc >= 0\n",
    "\n",
    "nu[\"pz\"] = ak.where(real_sol,\n",
    "    ak.where(abs(nu_pz1) < abs(nu_pz2), nu_pz1, nu_pz2),\n",
    "                    -Btmp/(2*Atmp)\n",
    ")\n",
    "\n",
    "nu[\"E\"] = np.sqrt(nu.px**2 + nu.py**2 + nu.pz**2)"
   ]
  },
  {
   "cell_type": "code",
   "execution_count": null,
   "id": "10010c63-b000-4c67-a491-1c7f9c50539c",
   "metadata": {
    "scrolled": true
   },
   "outputs": [],
   "source": [
    "W_boson = mu + nu\n",
    "W_boson"
   ]
  },
  {
   "cell_type": "code",
   "execution_count": null,
   "id": "79e9158e-9652-4dc0-ad21-1e8cb69c415b",
   "metadata": {},
   "outputs": [],
   "source": [
    "plt.figure(figsize=(20,5))\n",
    "\n",
    "plt.subplot(1,2,1)\n",
    "plt.title(\"W Boson Invariant Mass\",fontsize=16)\n",
    "plt.hist(W_boson.mass, bins=100,range=(0,150));\n",
    "plt.axvline(80.4,color=\"red\",linestyle=\"--\",label=\"Known Value (80.4 GeV)\")\n",
    "\n",
    "#plt.xticks(np.arange(0,275,25),minor=True)\n",
    "plt.xlabel(\"Invariant Mass [GeV]\",fontsize=14)\n",
    "plt.ylabel(\"Events\",fontsize=14)\n",
    "plt.legend();"
   ]
  },
  {
   "cell_type": "code",
   "execution_count": null,
   "id": "79d20559-c0de-40c8-ad7f-f9633d81f35a",
   "metadata": {},
   "outputs": [],
   "source": [
    "w_cut = W_boson.mass == 80.4\n",
    "W_boson[w_cut].mass, bjet[w_cut].mass\n",
    "top_q = W_boson[w_cut] + bjet[w_cut]"
   ]
  },
  {
   "cell_type": "code",
   "execution_count": null,
   "id": "9a5ff49f-0b1f-4ab1-98db-3d1ea4275192",
   "metadata": {},
   "outputs": [],
   "source": [
    "plt.figure(figsize=(20,5))\n",
    "\n",
    "plt.subplot(1,2,1)\n",
    "plt.title(\"Top Quark Invariant Mass\",fontsize=16)\n",
    "plt.hist(top_q.mass, bins=100)\n",
    "plt.axvline(172.52,color=\"red\",linestyle=\"--\",label=\"Known Value (172.56 GeV)\")\n",
    "\n",
    "#plt.xticks(np.arange(0,275,25),minor=True)\n",
    "plt.xlabel(\"Invariant Mass [GeV]\",fontsize=14)\n",
    "plt.ylabel(\"Events\",fontsize=14)\n",
    "plt.legend();"
   ]
  },
  {
   "cell_type": "code",
   "execution_count": null,
   "id": "a851dbbe-97cb-4979-8ec3-503701995510",
   "metadata": {},
   "outputs": [],
   "source": [
    "plt.figure(figsize=(20,5))\n",
    "\n",
    "plt.subplot(1,2,1)\n",
    "plt.title(\"Top Quark Invariant Mass\")\n",
    "plt.hist(top_q.mass, bins=100, range=(50,250))\n",
    "plt.axvline(172.52,color=\"red\",linestyle=\"--\",label=\"Known Value (172.56 GeV)\")\n",
    "\n",
    "#plt.xticks(np.arange(0,275,25),minor=True)\n",
    "plt.xlabel(\"Invariant Mass [GeV]\")\n",
    "plt.ylabel(\"Events\")\n",
    "plt.legend();"
   ]
  },
  {
   "cell_type": "code",
   "execution_count": null,
   "id": "d7b87cb2-080a-414c-be81-0307390be40d",
   "metadata": {},
   "outputs": [],
   "source": [
    "print(\"W mass:\", ak.to_numpy(W_boson.mass)[:5])\n",
    "print(\"bjet pt:\", ak.to_numpy(bjet.pt)[:5])\n",
    "print(\"top mass:\", ak.to_numpy(top_q.mass)[:5])"
   ]
  },
  {
   "cell_type": "code",
   "execution_count": null,
   "id": "e6a9610e-c069-4f52-9050-7349a28d456a",
   "metadata": {},
   "outputs": [],
   "source": [
    "\n",
    "plt.figure(figsize=(20,5))\n",
    "\n",
    "plt.subplot(1,2,1)\n",
    "plt.title(\"Top Quark Invariant Mass\",fontsize=16)\n",
    "plt.hist(top_q.mass, bins=100, range=(100,200))\n",
    "plt.axvline(172.52,color=\"red\",linestyle=\"--\",label=\"Known Value (172.56 GeV)\")\n",
    "\n",
    "#plt.xticks(np.arange(150,200,25),minor=True)\n",
    "plt.xlabel(\"Invariant Mass [GeV]\",fontsize=14)\n",
    "plt.ylabel(\"Events\",fontsize=14)\n",
    "plt.legend();\n",
    "\n",
    "plt.subplot(1,2,2)\n",
    "plt.title(\"W Boson Invariant Mass\",fontsize=16)\n",
    "plt.hist(W_boson.mass, bins=100, range=(0,150));\n",
    "plt.axvline(80,color=\"red\",linestyle=\"--\",label=\"Known Value (80 GeV)\")\n",
    "\n",
    "#plt.xticks(np.arange(0,275,25),minor=True)\n",
    "plt.xlabel(\"Invariant Mass [GeV]\",fontsize=14)\n",
    "plt.ylabel(\"Events\",fontsize=14)\n",
    "plt.legend();"
   ]
  }
 ],
 "metadata": {
  "colab": {
   "provenance": []
  },
  "kernelspec": {
   "display_name": "Python 3 (ipykernel)",
   "language": "python",
   "name": "python3"
  },
  "language_info": {
   "codemirror_mode": {
    "name": "ipython",
    "version": 3
   },
   "file_extension": ".py",
   "mimetype": "text/x-python",
   "name": "python",
   "nbconvert_exporter": "python",
   "pygments_lexer": "ipython3",
   "version": "3.11.12"
  }
 },
 "nbformat": 4,
 "nbformat_minor": 5
}
