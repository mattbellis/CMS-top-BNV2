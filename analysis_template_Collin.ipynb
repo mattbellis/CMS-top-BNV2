{
 "cells": [
  {
   "cell_type": "markdown",
   "id": "bd03606f-4095-4934-a6ca-967f623f8a73",
   "metadata": {},
   "source": [
    "# Install or upgrade libraries\n",
    "\n",
    "It might be that you are running with the latest libraries and that they all work together fine. \n",
    "\n",
    "Running the following cell takes a minute or so but ensures that you have a consistent set of python tools. "
   ]
  },
  {
   "cell_type": "code",
   "execution_count": null,
   "id": "43fe6edd-2ae6-4e0e-b143-c6198e14f79d",
   "metadata": {},
   "outputs": [],
   "source": [
    "import sys\n",
    "print(f\"{sys.version = }\\n\")\n"
   ]
  },
  {
   "cell_type": "code",
   "execution_count": null,
   "id": "3c3fc0fa-3975-4b80-aa87-898c99c88b2b",
   "metadata": {},
   "outputs": [],
   "source": [
    "# If there are issues with fsspect-xrootd not being found, run this outside of Jupyter-notebook and restart\n",
    "# !pip install --upgrade fsspec-xrootd"
   ]
  },
  {
   "cell_type": "code",
   "execution_count": null,
   "id": "f599a70a-2b2d-4492-9e03-fc3f5e037d6c",
   "metadata": {},
   "outputs": [],
   "source": [
    "#'''\n",
    "!pip install --upgrade pip\n",
    "\n",
    "!pip install futures \n",
    "\n",
    "!pip install --user --upgrade coffea\n",
    "\n",
    "!pip install --upgrade awkward\n",
    "!pip install --upgrade uproot\n",
    "\n",
    "!pip install --upgrade fsspec-xrootd\n",
    "\n",
    "!pip install vector\n",
    "\n",
    "!pip install --upgrade pandas\n",
    "\n",
    "\n",
    "!pip install --upgrade matplotlib\n",
    "#'''"
   ]
  },
  {
   "cell_type": "markdown",
   "id": "8dabf953-ba6f-4fb0-b27d-b7de01a4437b",
   "metadata": {},
   "source": [
    "We've also prepared some helper code that makes it easier to work with the data in this lesson.\n",
    "\n",
    "You can see the code [here](https://github.com/cms-opendata-workshop/workshop2024-lesson-event-selection/blob/main/instructors/dpoa_workshop_utilities.py) but we will explain the functions and data objects in this notebook. \n",
    "\n",
    "Let's download it first. "
   ]
  },
  {
   "cell_type": "code",
   "execution_count": null,
   "id": "4ffabd1e-4faa-4c99-b123-c2808d43ee46",
   "metadata": {},
   "outputs": [],
   "source": [
    "!wget https://raw.githubusercontent.com/cms-opendata-workshop/workshop2024-lesson-event-selection/main/instructors/dpoa_workshop_utilities.py"
   ]
  },
  {
   "cell_type": "markdown",
   "id": "23a9c230-3250-427a-b5e5-933960c93ab7",
   "metadata": {},
   "source": [
    "## Imports\n",
    "\n",
    "Import all the libraries we will need and check their versions, in case you run into issues. "
   ]
  },
  {
   "cell_type": "code",
   "execution_count": null,
   "id": "48b47c51-bcd2-481b-b238-30184aee249b",
   "metadata": {},
   "outputs": [],
   "source": [
    "%load_ext autoreload\n",
    "%autoreload 2\n",
    "\n",
    "# The classics\n",
    "import numpy as np\n",
    "import matplotlib.pylab as plt\n",
    "import matplotlib # To get the version\n",
    "\n",
    "import pandas as pd\n",
    "\n",
    "# The newcomers\n",
    "import awkward as ak\n",
    "import uproot\n",
    "\n",
    "import vector\n",
    "vector.register_awkward()\n",
    "\n",
    "import requests\n",
    "import os\n",
    "\n",
    "import time\n",
    "\n",
    "import json\n",
    "\n",
    "import dpoa_workshop_utilities\n",
    "from dpoa_workshop_utilities import nanoaod_filenames\n",
    "from dpoa_workshop_utilities import get_files_for_dataset\n",
    "from dpoa_workshop_utilities import pretty_print\n",
    "from dpoa_workshop_utilities import build_lumi_mask\n",
    "\n",
    "import sys"
   ]
  },
  {
   "cell_type": "code",
   "execution_count": null,
   "id": "a96e2967-08e7-4317-8e1b-93df0d7b7f93",
   "metadata": {},
   "outputs": [],
   "source": [
    "print(\"Versions --------\\n\")\n",
    "print(f\"{sys.version = }\\n\")\n",
    "print(f\"{ak.__version__ = }\\n\")\n",
    "print(f\"{uproot.__version__ = }\\n\")\n",
    "print(f\"{np.__version__ = }\\n\")\n",
    "print(f\"{matplotlib.__version__ = }\\n\")\n",
    "print(f\"{vector.__version__ = }\\n\")\n",
    "print(f\"{pd.__version__ = }\\n\")"
   ]
  },
  {
   "cell_type": "markdown",
   "id": "b467ced2-a6d9-4d48-b1d7-27534fcc4cef",
   "metadata": {},
   "source": [
    "# Opening a file\n",
    "\n",
    "Let's open and explore a sample file. \n",
    "\n",
    "We'll be getting the data from [here](https://opendata.cern.ch/record/67993).\n",
    "\n",
    "This is some Monte Carlo that contains simulations of a top-antitop pair being created in a proton-proton collision at CMS. \n",
    "\n",
    "One top decays leptonically and the other decays hadronically. \n",
    "\n",
    "**Do you know what leptonically and hadronically mean? If not, do a bit of research.**\n",
    "\n",
    "When you go to open the file, it might take 10-30 seconds at this step if you are working with the larger file."
   ]
  },
  {
   "cell_type": "code",
   "execution_count": null,
   "id": "8d021a10-7b23-4204-8f1b-a85c527fd640",
   "metadata": {},
   "outputs": [],
   "source": [
    "# For testing\n",
    "# Big file\n",
    "#filename = 'root://eospublic.cern.ch//eos/opendata/cms/mc/RunIISummer20UL16NanoAODv9/TTToSemiLeptonic_TuneCP5_13TeV-powheg-pythia8/NANOAODSIM/106X_mcRun2_asymptotic_v17-v1/120000/08FCB2ED-176B-064B-85AB-37B898773B98.root'\n",
    "\n",
    "# Smaller file, better for prototyping your code as things will run faster\n",
    "filename = 'root://eospublic.cern.ch//eos/opendata/cms/mc/RunIISummer20UL16NanoAODv9/TTToSemiLeptonic_TuneCP5_13TeV-powheg-pythia8/NANOAODSIM/106X_mcRun2_asymptotic_v17-v1/120000/7D120E49-E712-B74B-9E1C-67F2D0057995.root'\n",
    "\n",
    "print(f\"Opening...{filename}\")\n",
    "f = uproot.open(filename)\n",
    "\n",
    "events = f['Events']\n",
    "\n",
    "nevents = events.num_entries\n",
    "\n",
    "print(f\"{nevents = }\")"
   ]
  },
  {
   "cell_type": "markdown",
   "id": "6958d27f-abac-4a25-9419-80f47ee05de9",
   "metadata": {},
   "source": [
    "The `events` object is a `TTree` implementation in python and behaves like a dictionary. This means \n",
    "we can get all the keys if we want. "
   ]
  },
  {
   "cell_type": "code",
   "execution_count": null,
   "id": "eed85383-d1e7-4142-aba4-19c77d20ad86",
   "metadata": {},
   "outputs": [],
   "source": [
    "# Uncomment the following line to print all the keys\n",
    "\n",
    "#print(events.keys())"
   ]
  },
  {
   "cell_type": "markdown",
   "id": "d93956f8-3ebc-4483-a78f-08383df897fa",
   "metadata": {},
   "source": [
    "Again, we have provided you with a helper function called `pretty_print` that will print subsets of the keys, based on strings\n",
    "that you require or ignore. \n",
    "\n",
    "It will also format that output based on how many characters you want in a column (you are limited to 80 characters per line). \n",
    "\n",
    "Here is some example usage. "
   ]
  },
  {
   "cell_type": "code",
   "execution_count": null,
   "id": "753e6931-609a-4dc3-a032-3c25df01cf02",
   "metadata": {},
   "outputs": [],
   "source": [
    "# Pretty print all the keys with the default format\n",
    "#pretty_print(events.keys())\n",
    "\n",
    "# Pretty print keys with 30 characters per column, for keys that contain `FatJet`\n",
    "#pretty_print(events.keys(), fmt='30s', require='FatJet')\n",
    "\n",
    "# Pretty print keys with 40 characters per column, for keys that contain `Muon` and `Iso` but ignore ones with `HLT`\n",
    "#pretty_print(events.keys(), fmt='40s', require=['Muon', 'Iso'], ignore='HLT')\n",
    "\n",
    "# Pretty print keys with 40 characters per column, for keys that contain `HLT` and `TkMu50`\n",
    "#pretty_print(events.keys(), fmt='40s', require=['HLT', 'TkMu50'])\n",
    "\n",
    "# Pretty print keys with 40 characters per column, for keys that contain `HLT`\n",
    "#pretty_print(events.keys(), fmt='40s', require='HLT')\n",
    "\n",
    "# Pretty print keys with 40 characters per column, for keys that contain `Jet_` but ignore ones with `Fat`\n",
    "pretty_print(events.keys(), fmt='40s', require='Jet_', ignore='Fat')\n",
    "\n",
    "# Pretty print keys with 40 characters per column, for keys that contain `PuppiMET` but ignore ones with `Raw`\n",
    "#pretty_print(events.keys(), fmt='40s', require='PuppiMET', ignore='Raw')"
   ]
  },
  {
   "cell_type": "markdown",
   "id": "789ae07e-32bd-4d0a-86eb-062d9aa2cbc9",
   "metadata": {},
   "source": [
    "## Extract some data\n",
    "\n",
    "We're going to pull out subsets of the data in order to do our analysis. \n",
    "\n",
    "As a reminder, you can find a list of the variable names in each dataset on the CERN Open Data Portal page for that dataset, for example, [here](https://opendata.cern.ch/eos/opendata/cms/dataset-semantics/NanoAODSIM/75156/ZprimeToTT_M2000_W20_TuneCP2_PSweights_13TeV-madgraph-pythiaMLM-pythia8_doc.html).\n",
    "\n",
    "We're going to work with the following sets of variables\n",
    "* `FatJet` for jets that are merges\n",
    "* `Jet` for non-merged jets\n",
    "* `Muon` for muons\n",
    "* `PuppiMET` which is missing energy in the transverse plane (MET) for pileup per particle identification (Puppi)\n",
    "\n",
    "Running this cell might take a little bit if you are running over the bigger file. However, once you pull out the values, later calculations are much faster. "
   ]
  },
  {
   "cell_type": "code",
   "execution_count": null,
   "id": "ecdfee36-c6ae-4b6a-be8a-bb86ef962c8b",
   "metadata": {},
   "outputs": [],
   "source": [
    "# Jets ---------------------------------------------------\n",
    "# B-tagging variable\n",
    "jet_btag = events['Jet_btagDeepB'].array()\n",
    "\n",
    "# Measure of quality of measurement of jet\n",
    "jet_jetid = events['Jet_jetId'].array()\n",
    "\n",
    "# 4-momentum in pt, eta, phi, mass \n",
    "jet_pt = events['Jet_pt'].array()\n",
    "jet_eta = events['Jet_eta'].array()\n",
    "jet_phi = events['Jet_phi'].array()\n",
    "jet_mass = events['Jet_mass'].array()\n",
    "\n",
    "\n",
    "# Muons ---------------------------------------------------\n",
    "# Muon isolation\n",
    "muon_iso = events['Muon_miniIsoId'].array()\n",
    "\n",
    "# Measure of quality of how well the muon is reconstructed\n",
    "muon_tightId = events['Muon_tightId'].array()\n",
    "\n",
    "# 4-momentum in pt, eta, phi, mass \n",
    "muon_pt = events['Muon_pt'].array()\n",
    "muon_eta = events['Muon_eta'].array()\n",
    "muon_phi = events['Muon_phi'].array()\n",
    "muon_mass = events['Muon_mass'].array()\n",
    "\n",
    "\n",
    "# MET ------------------------------------------------------\n",
    "# 3-momentum in pt, eta, phi, mass \n",
    "met_pt = events['PuppiMET_pt'].array()\n",
    "met_eta = 0*events['PuppiMET_pt'].array()  # Fix this to be 0\n",
    "met_phi = events['PuppiMET_phi'].array() "
   ]
  },
  {
   "cell_type": "markdown",
   "id": "d078e004-1635-4fda-8443-9f0a85e772dc",
   "metadata": {},
   "source": [
    "# What comes next?"
   ]
  },
  {
   "cell_type": "code",
   "execution_count": null,
   "id": "68c3607f-e77c-49ed-907e-57894a88eced",
   "metadata": {},
   "outputs": [],
   "source": []
  }
 ],
 "metadata": {
  "kernelspec": {
   "display_name": "Python 3 (ipykernel)",
   "language": "python",
   "name": "python3"
  },
  "language_info": {
   "codemirror_mode": {
    "name": "ipython",
    "version": 3
   },
   "file_extension": ".py",
   "mimetype": "text/x-python",
   "name": "python",
   "nbconvert_exporter": "python",
   "pygments_lexer": "ipython3",
   "version": "3.11.7"
  }
 },
 "nbformat": 4,
 "nbformat_minor": 5
}
