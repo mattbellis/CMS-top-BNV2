{
 "cells": [
  {
   "cell_type": "code",
   "execution_count": null,
   "id": "1c77776d-5b76-4d23-90f4-97ba6ac80e08",
   "metadata": {},
   "outputs": [],
   "source": [
    "import uproot\n",
    "import awkward as ak\n",
    "\n",
    "import numpy as np\n",
    "import matplotlib.pylab as plt\n",
    "\n",
    "import pandas as pd\n",
    "import seaborn as sns"
   ]
  },
  {
   "cell_type": "code",
   "execution_count": null,
   "id": "a9c7c3a0-5edb-4c15-aea0-e2aa095483dc",
   "metadata": {},
   "outputs": [],
   "source": [
    "infilename = '/home/bellis/MG5_aMC_v3_6_2/PROC_sm_4/Events/run_01/tag_1_delphes_events.root'\n",
    "\n",
    "f = uproot.open(infilename)\n",
    "\n",
    "f"
   ]
  },
  {
   "cell_type": "code",
   "execution_count": null,
   "id": "b5a14358-341f-46bc-8c47-23ccebfd8568",
   "metadata": {},
   "outputs": [],
   "source": [
    "t = f['Delphes']\n",
    "\n",
    "t.keys()"
   ]
  },
  {
   "cell_type": "code",
   "execution_count": null,
   "id": "dcf3e513-25cb-4457-b5e7-1111099f8181",
   "metadata": {},
   "outputs": [],
   "source": [
    "x = t['Jet.PT'].array()"
   ]
  },
  {
   "cell_type": "code",
   "execution_count": null,
   "id": "7508a06e-02ff-4a68-b1ea-4df86abf90c4",
   "metadata": {},
   "outputs": [],
   "source": [
    "x[0]"
   ]
  },
  {
   "cell_type": "code",
   "execution_count": null,
   "id": "b01f5629-b97d-4aa4-bebb-5fde64cbd630",
   "metadata": {},
   "outputs": [],
   "source": [
    "t['Jet'].keys()"
   ]
  },
  {
   "cell_type": "code",
   "execution_count": null,
   "id": "f75cdae4-8f4a-4630-9769-e405630f0b55",
   "metadata": {},
   "outputs": [],
   "source": [
    "nc = t['Jet.NCharged'].array()\n",
    "pt = t['Jet.PT'].array()\n",
    "\n"
   ]
  },
  {
   "cell_type": "code",
   "execution_count": null,
   "id": "e07abdfe-4006-4c81-bea8-0e8905e8a294",
   "metadata": {},
   "outputs": [],
   "source": [
    "x = ak.flatten(nc)\n",
    "y = ak.flatten(pt)\n",
    "\n",
    "plt.figure(figsize=(16,8))\n",
    "plt.subplot(2,3,1)\n",
    "plt.hist(x, bins=20, range=(0,19));\n",
    "\n",
    "plt.subplot(2,3,2)\n",
    "plt.hist(y, bins=100, range=(0,200));\n",
    "\n",
    "plt.subplot(2,3,3)\n",
    "plt.plot(y, x, '.', alpha=0.5);\n",
    "plt.xlim(20,50)\n",
    "plt.ylim(0,20)\n",
    "\n",
    "plt.subplot(2,3,4)\n",
    "plt.hist(x[y<50], bins=15, range=(0,14));\n",
    "plt.hist(x[y<30], bins=15, range=(0,14));\n"
   ]
  },
  {
   "cell_type": "code",
   "execution_count": null,
   "id": "684cb939-c61b-41d8-a70b-6f7792558a42",
   "metadata": {},
   "outputs": [],
   "source": []
  }
 ],
 "metadata": {
  "kernelspec": {
   "display_name": "Python 3 (ipykernel)",
   "language": "python",
   "name": "python3"
  },
  "language_info": {
   "codemirror_mode": {
    "name": "ipython",
    "version": 3
   },
   "file_extension": ".py",
   "mimetype": "text/x-python",
   "name": "python",
   "nbconvert_exporter": "python",
   "pygments_lexer": "ipython3",
   "version": "3.11.7"
  }
 },
 "nbformat": 4,
 "nbformat_minor": 5
}
