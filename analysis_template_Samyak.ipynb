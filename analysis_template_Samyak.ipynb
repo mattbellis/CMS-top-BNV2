{
 "cells": [
  {
   "cell_type": "markdown",
   "id": "bd03606f-4095-4934-a6ca-967f623f8a73",
   "metadata": {},
   "source": [
    "# Install or upgrade libraries\n",
    "\n",
    "It might be that you are running with the latest libraries and that they all work together fine. \n",
    "\n",
    "Running the following cell takes a minute or so but ensures that you have a consistent set of python tools. "
   ]
  },
  {
   "cell_type": "code",
   "execution_count": null,
   "id": "43fe6edd-2ae6-4e0e-b143-c6198e14f79d",
   "metadata": {},
   "outputs": [],
   "source": [
    "import sys\n",
    "print(f\"{sys.version = }\\n\")\n"
   ]
  },
  {
   "cell_type": "code",
   "execution_count": null,
   "id": "3c3fc0fa-3975-4b80-aa87-898c99c88b2b",
   "metadata": {},
   "outputs": [],
   "source": [
    "# If there are issues with fsspect-xrootd not being found, run this outside of Jupyter-notebook and restart\n",
    "# !pip install --upgrade fsspec-xrootd"
   ]
  },
  {
   "cell_type": "code",
   "execution_count": null,
   "id": "f599a70a-2b2d-4492-9e03-fc3f5e037d6c",
   "metadata": {},
   "outputs": [],
   "source": [
    "#'''\n",
    "!pip install --upgrade pip\n",
    "\n",
    "!pip install futures \n",
    "\n",
    "!pip install --user --upgrade coffea\n",
    "\n",
    "!pip install --upgrade awkward\n",
    "!pip install --upgrade uproot\n",
    "\n",
    "!pip install --upgrade fsspec-xrootd\n",
    "\n",
    "!pip install vector\n",
    "\n",
    "!pip install --upgrade pandas\n",
    "\n",
    "\n",
    "!pip install --upgrade matplotlib\n",
    "#'''"
   ]
  },
  {
   "cell_type": "markdown",
   "id": "8dabf953-ba6f-4fb0-b27d-b7de01a4437b",
   "metadata": {},
   "source": [
    "We've also prepared some helper code that makes it easier to work with the data in this lesson.\n",
    "\n",
    "You can see the code [here](https://github.com/cms-opendata-workshop/workshop2024-lesson-event-selection/blob/main/instructors/dpoa_workshop_utilities.py) but we will explain the functions and data objects in this notebook. \n",
    "\n",
    "Let's download it first. "
   ]
  },
  {
   "cell_type": "code",
   "execution_count": null,
   "id": "4ffabd1e-4faa-4c99-b123-c2808d43ee46",
   "metadata": {},
   "outputs": [],
   "source": [
    "#!wget https://raw.githubusercontent.com/cms-opendata-workshop/workshop2024-lesson-event-selection/main/instructors/dpoa_workshop_utilities.py"
   ]
  },
  {
   "cell_type": "markdown",
   "id": "23a9c230-3250-427a-b5e5-933960c93ab7",
   "metadata": {},
   "source": [
    "## Imports\n",
    "\n",
    "Import all the libraries we will need and check their versions, in case you run into issues. "
   ]
  },
  {
   "cell_type": "code",
   "execution_count": null,
   "id": "48b47c51-bcd2-481b-b238-30184aee249b",
   "metadata": {},
   "outputs": [],
   "source": [
    "%load_ext autoreload\n",
    "%autoreload 2\n",
    "\n",
    "# The classics\n",
    "import numpy as np\n",
    "import matplotlib.pylab as plt\n",
    "import matplotlib # To get the version\n",
    "\n",
    "import pandas as pd\n",
    "\n",
    "# The newcomers\n",
    "import awkward as ak\n",
    "import uproot\n",
    "\n",
    "import vector\n",
    "vector.register_awkward()\n",
    "\n",
    "import requests\n",
    "import os\n",
    "\n",
    "import time\n",
    "\n",
    "import json\n",
    "\n",
    "import dpoa_workshop_utilities\n",
    "from dpoa_workshop_utilities import nanoaod_filenames\n",
    "from dpoa_workshop_utilities import get_files_for_dataset\n",
    "from dpoa_workshop_utilities import pretty_print\n",
    "from dpoa_workshop_utilities import build_lumi_mask\n",
    "\n",
    "import sys"
   ]
  },
  {
   "cell_type": "code",
   "execution_count": null,
   "id": "a96e2967-08e7-4317-8e1b-93df0d7b7f93",
   "metadata": {},
   "outputs": [],
   "source": [
    "print(\"Versions --------\\n\")\n",
    "print(f\"{sys.version = }\\n\")\n",
    "print(f\"{ak.__version__ = }\\n\")\n",
    "print(f\"{uproot.__version__ = }\\n\")\n",
    "print(f\"{np.__version__ = }\\n\")\n",
    "print(f\"{matplotlib.__version__ = }\\n\")\n",
    "print(f\"{vector.__version__ = }\\n\")\n",
    "print(f\"{pd.__version__ = }\\n\")"
   ]
  },
  {
   "cell_type": "markdown",
   "id": "b467ced2-a6d9-4d48-b1d7-27534fcc4cef",
   "metadata": {
    "jp-MarkdownHeadingCollapsed": true
   },
   "source": [
    "# Opening a file\n",
    "\n",
    "Let's open and explore a sample file. \n",
    "\n",
    "We'll be getting the data from [here](https://opendata.cern.ch/record/67993).\n",
    "\n",
    "This is some Monte Carlo that contains simulations of a top-antitop pair being created in a proton-proton collision at CMS. \n",
    "\n",
    "One top decays leptonically and the other decays hadronically. \n",
    "\n",
    "**Do you know what leptonically and hadronically mean? If not, do a bit of research.**\n",
    "\n",
    "When you go to open the file, it might take 10-30 seconds at this step if you are working with the larger file."
   ]
  },
  {
   "cell_type": "code",
   "execution_count": null,
   "id": "8d021a10-7b23-4204-8f1b-a85c527fd640",
   "metadata": {},
   "outputs": [],
   "source": [
    "# # For testing\n",
    "# # Big file\n",
    "# #filename = 'root://eospublic.cern.ch//eos/opendata/cms/mc/RunIISummer20UL16NanoAODv9/TTToSemiLeptonic_TuneCP5_13TeV-powheg-pythia8/NANOAODSIM/106X_mcRun2_asymptotic_v17-v1/120000/08FCB2ED-176B-064B-85AB-37B898773B98.root'\n",
    "\n",
    "# # Smaller file, better for prototyping your code as things will run faster\n",
    "# filename = 'root://eospublic.cern.ch//eos/opendata/cms/mc/RunIISummer20UL16NanoAODv9/TTToSemiLeptonic_TuneCP5_13TeV-powheg-pythia8/NANOAODSIM/106X_mcRun2_asymptotic_v17-v1/120000/7D120E49-E712-B74B-9E1C-67F2D0057995.root'\n",
    "\n",
    "# print(f\"Opening...{filename}\")\n",
    "# f = uproot.open(filename)\n",
    "\n",
    "# events = f['Events']\n",
    "\n",
    "# nevents = events.num_entries\n",
    "\n",
    "# print(f\"{nevents = }\")"
   ]
  },
  {
   "cell_type": "code",
   "execution_count": null,
   "id": "1540cb65-71a3-47f0-a085-0262791a5c3b",
   "metadata": {},
   "outputs": [],
   "source": [
    "def load_file(size):\n",
    "    '''\n",
    "    size = \"big\" or \"small\" or \"RunIISuummer20\" or JetHT\"\n",
    "    '''\n",
    "    if size == \"big\": \n",
    "        # Big file\n",
    "        filename = 'root://eospublic.cern.ch//eos/opendata/cms/mc/RunIISummer20UL16NanoAODv9/TTToSemiLeptonic_TuneCP5_13TeV-powheg-pythia8/NANOAODSIM/106X_mcRun2_asymptotic_v17-v1/120000/08FCB2ED-176B-064B-85AB-37B898773B98.root'\n",
    "    elif size == \"small\":\n",
    "        # Smaller file, better for prototyping your code as things will run faster\n",
    "        filename = 'root://eospublic.cern.ch//eos/opendata/cms/mc/RunIISummer20UL16NanoAODv9/TTToSemiLeptonic_TuneCP5_13TeV-powheg-pythia8/NANOAODSIM/106X_mcRun2_asymptotic_v17-v1/120000/7D120E49-E712-B74B-9E1C-67F2D0057995.root'\n",
    "    elif size == \"RunIISummer20\": \n",
    "        filename = 'root://eospublic.cern.ch//eos/opendata/cms/mc/RunIISummer20UL16NanoAODv9/QCD_Pt-800To1000_MuEnrichedPt5_TuneCP5_13TeV-pythia8/NANOAODSIM/106X_mcRun2_asymptotic_v17-v1/120000/1F546B5D-D09E-3B4B-8AA3-51DE65483612.root'\n",
    "    elif size == \"JetHT\":\n",
    "        filename = 'root://eospublic.cern.ch//eos/opendata/cms/Run2016H/JetHT/NANOAOD/UL2016_MiniAODv2_NanoAODv9-v1/130000/0290F73B-A51C-A441-AEC1-8429F9CC8AA8.root'\n",
    "    print(f\"Opening...{filename}\")\n",
    "    f = uproot.open(filename)\n",
    "\n",
    "    events = f['Events']\n",
    "\n",
    "    nevents = events.num_entries\n",
    "\n",
    "    print(f\"{nevents = }\")\n",
    "    return events"
   ]
  },
  {
   "cell_type": "code",
   "execution_count": null,
   "id": "30199aa8-dc72-4562-8ebb-0b551b746b96",
   "metadata": {},
   "outputs": [],
   "source": [
    "small_events = load_file(\"small\")\n",
    "big_events = load_file(\"big\")\n",
    "RunII_events = load_file(\"RunIISummer20\")\n",
    "JetHT_events = load_file(\"JetHT\")"
   ]
  },
  {
   "cell_type": "code",
   "execution_count": null,
   "id": "b452b310-74ec-463b-ac66-eec54b9ad6e6",
   "metadata": {},
   "outputs": [],
   "source": [
    "events = small_events"
   ]
  },
  {
   "cell_type": "code",
   "execution_count": null,
   "id": "a968b461-4b79-4a9c-84a6-d622fe078530",
   "metadata": {},
   "outputs": [],
   "source": [
    "def change_data(x): \n",
    "    '''\n",
    "    Use this to change data after running the above cell so that you don't need to pull always \n",
    "    size = \"big\" or \"small\" or \"RunIISuummer20\" or JetHT\"\n",
    "    '''\n",
    "    if x == \"small\": \n",
    "        events = small_events\n",
    "    elif x == \"big_sim\":\n",
    "        events = big_events\n",
    "    elif x == \"RunIISummer20\":\n",
    "        events = RunII_events\n",
    "    elif x == \"JetHT\": \n",
    "        events = JetHT_events "
   ]
  },
  {
   "cell_type": "markdown",
   "id": "6958d27f-abac-4a25-9419-80f47ee05de9",
   "metadata": {},
   "source": [
    "The `events` object is a `TTree` implementation in python and behaves like a dictionary. This means \n",
    "we can get all the keys if we want. "
   ]
  },
  {
   "cell_type": "code",
   "execution_count": null,
   "id": "eed85383-d1e7-4142-aba4-19c77d20ad86",
   "metadata": {},
   "outputs": [],
   "source": [
    "# Uncomment the following line to print all the keys\n",
    "\n",
    "#print(events.keys())"
   ]
  },
  {
   "cell_type": "markdown",
   "id": "d93956f8-3ebc-4483-a78f-08383df897fa",
   "metadata": {},
   "source": [
    "Again, we have provided you with a helper function called `pretty_print` that will print subsets of the keys, based on strings\n",
    "that you require or ignore. \n",
    "\n",
    "It will also format that output based on how many characters you want in a column (you are limited to 80 characters per line). \n",
    "\n",
    "Here is some example usage. "
   ]
  },
  {
   "cell_type": "code",
   "execution_count": null,
   "id": "753e6931-609a-4dc3-a032-3c25df01cf02",
   "metadata": {},
   "outputs": [],
   "source": [
    "# Pretty print all the keys with the default format\n",
    "#pretty_print(events.keys())\n",
    "\n",
    "# Pretty print keys with 30 characters per column, for keys that contain `FatJet`\n",
    "#pretty_print(events.keys(), fmt='30s', require='FatJet')\n",
    "\n",
    "# Pretty print keys with 40 characters per column, for keys that contain `Muon` and `Iso` but ignore ones with `HLT`\n",
    "#pretty_print(events.keys(), fmt='40s', require=['Muon', 'Iso'], ignore='HLT')\n",
    "\n",
    "# Pretty print keys with 40 characters per column, for keys that contain `HLT` and `TkMu50`\n",
    "#pretty_print(events.keys(), fmt='40s', require=['HLT', 'TkMu50'])\n",
    "\n",
    "# Pretty print keys with 40 characters per column, for keys that contain `HLT`\n",
    "#pretty_print(events.keys(), fmt='40s', require='HLT')\n",
    "\n",
    "# Pretty print keys with 40 characters per column, for keys that contain `Jet_` but ignore ones with `Fat`\n",
    "pretty_print(events.keys(), fmt='40s', require='Jet_', ignore='Fat')\n",
    "\n",
    "# Pretty print keys with 40 characters per column, for keys that contain `PuppiMET` but ignore ones with `Raw`\n",
    "#pretty_print(events.keys(), fmt='40s', require='PuppiMET', ignore='Raw')"
   ]
  },
  {
   "cell_type": "markdown",
   "id": "789ae07e-32bd-4d0a-86eb-062d9aa2cbc9",
   "metadata": {},
   "source": [
    "## Extract some data\n",
    "\n",
    "We're going to pull out subsets of the data in order to do our analysis. \n",
    "\n",
    "As a reminder, you can find a list of the variable names in each dataset on the CERN Open Data Portal page for that dataset, for example, [here](https://opendata.cern.ch/eos/opendata/cms/dataset-semantics/NanoAODSIM/75156/ZprimeToTT_M2000_W20_TuneCP2_PSweights_13TeV-madgraph-pythiaMLM-pythia8_doc.html).\n",
    "\n",
    "We're going to work with the following sets of variables\n",
    "* `FatJet` for jets that are merges\n",
    "* `Jet` for non-merged jets\n",
    "* `Muon` for muons\n",
    "* `PuppiMET` which is missing energy in the transverse plane (MET) for pileup per particle identification (Puppi)\n",
    "\n",
    "Running this cell might take a little bit if you are running over the bigger file. However, once you pull out the values, later calculations are much faster. "
   ]
  },
  {
   "cell_type": "code",
   "execution_count": null,
   "id": "ecdfee36-c6ae-4b6a-be8a-bb86ef962c8b",
   "metadata": {
    "scrolled": true
   },
   "outputs": [],
   "source": [
    "start_time = time.time()\n",
    "\n",
    "# Jets ---------------------------------------------------\n",
    "# B-tagging variable\n",
    "jet_btagB = events['Jet_btagDeepB'].array()\n",
    "jet_btagFlavB = events ['Jet_btagDeepFlavB'].array()\n",
    "\n",
    "# Measure of quality of measurement of jet\n",
    "jet_jetid = events['Jet_jetId'].array()\n",
    "\n",
    "# 4-momentum in pt, eta, phi, mass \n",
    "jet_pt = events['Jet_pt'].array()\n",
    "jet_eta = events['Jet_eta'].array()\n",
    "jet_phi = events['Jet_phi'].array()\n",
    "jet_mass = events['Jet_mass'].array()\n",
    "\n",
    "\n",
    "# Muons ---------------------------------------------------\n",
    "# Muon isolation\n",
    "muon_iso = events['Muon_miniIsoId'].array()\n",
    "\n",
    "# Measure of quality of how well the muon is reconstructed\n",
    "muon_tightId = events['Muon_tightId'].array()\n",
    "\n",
    "# 4-momentum in pt, eta, phi, mass \n",
    "muon_pt = events['Muon_pt'].array()\n",
    "muon_eta = events['Muon_eta'].array()\n",
    "muon_phi = events['Muon_phi'].array()\n",
    "muon_mass = events['Muon_mass'].array()\n",
    "\n",
    "\n",
    "# MET ------------------------------------------------------\n",
    "# 3-momentum in pt, eta, phi, mass \n",
    "met_pt = events['PuppiMET_pt'].array()\n",
    "met_eta = 0*events['PuppiMET_pt'].array()  # Fix this to be 0\n",
    "met_phi = events['PuppiMET_phi'].array() \n",
    "\n",
    "#FatJets ----------------------------------------------------\n",
    "# 4-momentum in pt, eta, phi, mass \n",
    "fatjet_pt = events['FatJet_pt'].array()\n",
    "fatjet_eta = events['FatJet_eta'].array()\n",
    "fatjet_phi = events['FatJet_phi'].array()\n",
    "fatjet_mass = events['FatJet_mass'].array()\n",
    "\n",
    "print(f'Time to access data is {time.time() - start_time:.2f} seconds')"
   ]
  },
  {
   "cell_type": "markdown",
   "id": "80b58aee-eb58-404b-8777-649f1b4d8a9e",
   "metadata": {},
   "source": [
    "# What comes next?  "
   ]
  },
  {
   "cell_type": "markdown",
   "id": "51701bed-b2e9-418b-b085-f34d775ea28f",
   "metadata": {
    "jp-MarkdownHeadingCollapsed": true
   },
   "source": [
    "## Basic Plots\n",
    "\n",
    "- Simple Muon Cuts (pt > cut)\n",
    "- Simpe Jet Cuts (pt > cut)\n",
    "- The B-tag cut (DeepB > tight, medium, loose)"
   ]
  },
  {
   "cell_type": "code",
   "execution_count": null,
   "id": "61661f4f-e8ea-46f4-8452-15b1cd613eb2",
   "metadata": {},
   "outputs": [],
   "source": [
    "#Simple Muon and Jet cuts \n",
    "muon_cut = muon_pt > 20 \n",
    "jet_cut = jet_pt > 20 \n",
    "\n",
    "cuts = [0, 10, 15, 20]\n",
    "for cut in cuts: \n",
    "    muon_cut = muon_pt > cut \n",
    "    jet_cut = jet_pt > cut\n",
    "    \n",
    "    muon_pt_cut = muon_pt[muon_cut]\n",
    "    jet_pt_cut = jet_pt[jet_cut]\n",
    "\n",
    "    nmuon = ak.num(muon_pt_cut)\n",
    "    njet = ak.num(jet_pt_cut)\n",
    "\n",
    "    plt.figure(figsize=(12,4))\n",
    "    plt.subplot(1,2,1)\n",
    "    plt.hist(nmuon, bins=100);\n",
    "    plt.xlabel(\"No of Muons\")\n",
    "    plt.ylabel(\"No of Events\")\n",
    "    plt.subplot(1,2,2)\n",
    "    plt.hist(njet,bins=100);\n",
    "    plt.xlabel(\"No of Jets\")\n",
    "    plt.ylabel(\"No of Events\")"
   ]
  },
  {
   "cell_type": "code",
   "execution_count": null,
   "id": "8db4cf66-2d97-4f98-a87c-30f201c820b2",
   "metadata": {},
   "outputs": [],
   "source": [
    "#btag_cuts\n",
    "'''Values: \n",
    "Loose (10% misidentification rate): Jet_btagDeepB > 0.1918 , Jet_btagDeepFlavB > 0.0480\n",
    "Medium (1% misidentification rate): Jet_btagDeepB > 0.5847, Jet_btagDeepFlavB > 0.2489\n",
    "Tight (0.1% misidentification rate): Jet_btagDeepB > 0.8767, Jet_btagDeepFlavB > 0.6377\n",
    "'''\n",
    "def give_btag_cuts(choice, accuracy):\n",
    "    '''\n",
    "    choice = \"DeepB\" or \"DeepFlav\" \n",
    "    accuracy = \"loose\" \"medium\" or \"tight\" \n",
    "\n",
    "    Loose:  Jet_btagDeepB > 0.1918 , Jet_btagDeepFlavB > 0.0480\n",
    "    Medium: Jet_btagDeepB > 0.5847, Jet_btagDeepFlavB > 0.2489\n",
    "    Tight: Jet_btagDeepB > 0.8767, Jet_btagDeepFlavB > 0.6377\n",
    "    '''\n",
    "    if (choice == \"DeepB\") & (accuracy == \"tight\") : return jet_btagB > 0.8767\n",
    "    if (choice == \"DeepB\") & (accuracy == \"medium\"): return jet_btagB > 0.5847\n",
    "    if (choice == \"DeepB\") & (accuracy == \"loose\"): return jet_btagB > 0.1918\n",
    "\n",
    "    if choice == \"DeepFlav\":\n",
    "        if accuracy == \"tight\": return jet_btagFlavB > 0.6377\n",
    "        if accuracy == \"medium\": return jet_btagFlavB > 0.2489\n",
    "        if accuracy == \"loose\": return jet_btagFlavB > 0.0480\n",
    "\n",
    "jet_btag_tight = jet_pt[give_btag_cuts(\"DeepB\",\"tight\")]\n",
    "jet_btag_medium = jet_pt[give_btag_cuts(\"DeepB\",\"medium\")]\n",
    "jet_btag_loose = jet_pt[give_btag_cuts(\"DeepB\",\"loose\")]\n",
    "\n",
    "njet_btag_tight = ak.num(jet_btag_tight)\n",
    "njet_btag_medium = ak.num(jet_btag_medium)\n",
    "njet_btag_loose = ak.num(jet_btag_loose)\n",
    "\n",
    "#Comparision of btagging loose, medium and tight\n",
    "edgecolors = ['red', 'orange' , 'yellow']\n",
    "all_njets = [njet_btag_tight, njet_btag_medium, njet_btag_loose]\n",
    "names = [\"tight\", \"medium\", \"loose\"]\n",
    "for all, name in zip(all_njets,names): \n",
    "    plt.hist(all, bins = 100, alpha = 0.5, label = f\"Accuracy = {name}\")\n",
    "    plt.legend()\n",
    "plt.xlabel(\"No of Jets\")\n",
    "plt.ylabel(\"No of Events\")\n",
    "plt.show()\n",
    "\n",
    "#Comparison of the two different btagging \n",
    "jet_btagF_tight = jet_pt[give_btag_cuts(\"DeepFlav\",\"tight\")]\n",
    "jet_btagF_medium = jet_pt[give_btag_cuts(\"DeepFlav\",\"medium\")]\n",
    "jet_btagF_loose = jet_pt[give_btag_cuts(\"DeepFlav\",\"loose\")]\n",
    "\n",
    "njet_btagF_tight = ak.num(jet_btagF_tight)\n",
    "njet_btagF_medium = ak.num(jet_btagF_medium)\n",
    "njet_btagF_loose = ak.num(jet_btagF_loose)\n",
    "\n",
    "plt.subplot(3, 1, 1)\n",
    "plt.hist(njet_btagF_tight, bins = 100,label= \"DeepFlav\");\n",
    "plt.hist(njet_btag_tight, bins=100, label = \"DeepB\");\n",
    "plt.legend()\n",
    "\n",
    "plt.subplot(3,1,2)\n",
    "plt.hist(njet_btagF_medium, bins = 100, label = \"DeepFlav\");\n",
    "plt.hist(njet_btag_medium, bins=100, label = \"DeepB\");\n",
    "plt.legend()\n",
    "\n",
    "plt.subplot(3,1,3)\n",
    "plt.hist(njet_btagF_loose, bins = 100, label = \"DeepFlav\");\n",
    "plt.hist(njet_btag_loose, bins=100, label = \"DeepB\");\n",
    "plt.legend()\n",
    "\n",
    "plt.tight_layout()"
   ]
  },
  {
   "cell_type": "code",
   "execution_count": null,
   "id": "75690734-5987-48d6-9c7e-7b397055959b",
   "metadata": {},
   "outputs": [],
   "source": [
    "#Mixing b_tag and jet_cuts\n",
    "jet_cut = jet_pt > cut\n",
    "jet_pt_cut = jet_pt[jet_cut]\n",
    "jet_pt_btag_cut1 = jet_pt[give_btag_cuts(\"DeepB\",\"loose\")[jet_cut]]\n",
    "jet_pt_btag_cut2 = jet_pt[give_btag_cuts(\"DeepB\",\"medium\")[jet_cut]]\n",
    "jet_pt_btag_cut3 = jet_pt[give_btag_cuts(\"DeepB\",\"tight\")[jet_cut]]\n",
    "njet_pt_btag_cut1 = ak.num(jet_pt_btag_cut1);\n",
    "njet_pt_btag_cut2 = ak.num(jet_pt_btag_cut2);\n",
    "njet_pt_btag_cut3 = ak.num(jet_pt_btag_cut3);\n",
    "plt.hist(njet_pt_btag_cut1, bins = 100, label = f\"Cut Count: {ak.sum(njet_pt_btag_cut1)} Accuracy: Loose\");\n",
    "plt.hist(njet_pt_btag_cut2, bins = 100, label = f\"Cut Count: {ak.sum(njet_pt_btag_cut2)} Accuracy: Medium\");\n",
    "plt.hist(njet_pt_btag_cut3, bins = 100, label = f\"Cut Count: {ak.sum(njet_pt_btag_cut3)} Accuracy: Tight\");\n",
    "plt.legend()"
   ]
  },
  {
   "cell_type": "markdown",
   "id": "9eaa45da-b65c-4886-8e75-cc64006b6af1",
   "metadata": {},
   "source": [
    "## Invariant Masses of the Top Quark and W Boson"
   ]
  },
  {
   "cell_type": "code",
   "execution_count": null,
   "id": "718e604f-93ce-4890-84d0-eb0291fb568c",
   "metadata": {},
   "outputs": [],
   "source": [
    "jet_DeepB=events[\"Jet_btagDeepB\"].array()"
   ]
  },
  {
   "cell_type": "code",
   "execution_count": null,
   "id": "573329e5-2a24-47af-8d0e-44c0d9131a0d",
   "metadata": {},
   "outputs": [],
   "source": [
    "#Finding the invariant mass \n",
    "fatjets = ak.zip(\n",
    "    {\"pt\": fatjet_pt, \n",
    "     \"eta\": fatjet_eta, \n",
    "     \"phi\": fatjet_phi, \n",
    "     \"mass\": fatjet_mass},\n",
    "    with_name=\"Momentum4D\",\n",
    ")\n",
    "\n",
    "muons = ak.zip(\n",
    "    {\"pt\": muon_pt, \n",
    "     \"eta\": muon_eta, \n",
    "     \"phi\": muon_phi, \n",
    "     \"mass\": muon_mass},\n",
    "    with_name=\"Momentum4D\",\n",
    ")\n",
    "\n",
    "jets = ak.zip(\n",
    "    {\"pt\": jet_pt, \n",
    "     \"eta\": jet_eta, \n",
    "     \"phi\": jet_phi, \n",
    "     \"mass\": jet_mass,\n",
    "     \"DeepB\": jet_DeepB },\n",
    "    with_name=\"Momentum4D\",\n",
    ")\n",
    "\n",
    "met = ak.zip(\n",
    "    {\"pt\": met_pt, \n",
    "     \"eta\": met_eta, \n",
    "     \"phi\": met_phi, \n",
    "     \"mass\": 0}, # We assume this is a neutrino with 0 mass\n",
    "    with_name=\"Momentum4D\",\n",
    ")\n"
   ]
  },
  {
   "cell_type": "code",
   "execution_count": null,
   "id": "b8940346-c92f-414a-bb78-9aa3d52e8276",
   "metadata": {
    "scrolled": true
   },
   "outputs": [],
   "source": [
    "# Cuts\n",
    "\n",
    "#Muons and Jet Cuts \n",
    "muon_cut = (muons.pt > 20) & (np.abs(muons.eta) < 2.1)\n",
    "jet_cut = (jets.pt>20) & (np.abs(jets.eta) < 2.4)\n",
    "\n",
    "muons_cut = muons[muon_cut]\n",
    "jets_cut = jets[jet_cut]\n",
    "\n",
    "n_muon = ak.num(muons_cut)\n",
    "n_jets = ak.num(jets_cut)\n",
    "n_bjets = ak.sum(jets.DeepB > 0.8767, axis = 1) \n",
    "\n",
    "mega_cut = (n_muon == 1) & (n_jets == 4) & (n_bjets == 2)\n",
    "\n",
    "jets_mcut = jets_cut[mega_cut]\n",
    "\n",
    "trijet = ak.combinations(jets_mcut, 3, fields=[\"j1\", \"j2\", \"j3\"])\n",
    "trijet[\"p4\"] = trijet.j1 +  trijet.j2 +  trijet.j3                       \n",
    "threshold_1 = 0.8767\n",
    "threshold_2 = 0.2\n",
    "# btag_count1= (trijet.j1.DeepB > threshold_1) + (trijet.j2.DeepB > threshold_1) + (trijet.j3.DeepB > threshold_1)\n",
    "# btag_count2= (trijet.j1.DeepB < threshold) + (trijet.j2.DeepB < threshold) + (trijet.j3.DeepB < threshold_2)\n",
    "# mask1 = btag_count1 == 1\n",
    "# mask2 = btag_count2 == 2\n",
    "btag_mask = ((trijet.j1.DeepB > threshold_1) & (trijet.j2.DeepB < threshold_2) & (trijet.j3.DeepB < threshold_2)) | \\\n",
    "            ((trijet.j1.DeepB < threshold_2) & (trijet.j2.DeepB > threshold_1) & (trijet.j3.DeepB < threshold_2)) | \\\n",
    "            ((trijet.j1.DeepB < threshold_2) & (trijet.j2.DeepB < threshold_2) & (trijet.j3.DeepB > threshold_1)) \n",
    "trijet_mass = trijet[\"p4\"][btag_mask][ak.argmax(trijet.p4.pt[btag_mask], axis =1, keepdims = True)].mass\n",
    "\n",
    "tri_imass = ak.flatten(trijet_mass)\n",
    "plt.hist(tri_imass, bins = 100,range=(0,400))\n",
    "plt.axvline(175, color = \"red\",ls=\"--\",label=\"Mass of Top Quark\")\n",
    "plt.legend()"
   ]
  },
  {
   "cell_type": "code",
   "execution_count": null,
   "id": "7987b3cb-72e4-4536-a1bc-4e0de0e21f85",
   "metadata": {},
   "outputs": [],
   "source": [
    "trijet.p4[0].mass"
   ]
  },
  {
   "cell_type": "code",
   "execution_count": null,
   "id": "fb5affbc-69fb-47a3-b8b3-1010120edbc9",
   "metadata": {
    "scrolled": true
   },
   "outputs": [],
   "source": [
    "#DiJet Particle Mass \n",
    "mini_cut = (n_muon == 1) & (n_jets == 4)\n",
    "\n",
    "mincut_jet = jets_cut[mini_cut]\n",
    "\n",
    "dijet = ak.combinations(mincut_jet, 2, fields=[\"j1\",  \"j2\"])\n",
    "dijet[\"p3\"] = dijet.j1 +  dijet.j2     \n",
    "mask = (dijet.j1.DeepB < threshold_1) & (dijet.j2.DeepB < threshold_1) \n",
    "dijet = dijet[mask]\n",
    "dijet_mass = dijet[\"p3\"][ak.argmax(dijet.p3.pt, axis =1, keepdims = True)].mass  \n",
    "di_imass = ak.flatten(dijet_mass)\n",
    "plt.hist(di_imass, bins = 100, range=(0,250))\n",
    "plt.axvline(80.3, color = \"red\",ls=\"--\",label=\"Mass of W boson\")\n",
    "plt.legend()"
   ]
  },
  {
   "cell_type": "markdown",
   "id": "e114f404-74fe-4984-a7c0-2a3132a4354b",
   "metadata": {},
   "source": [
    "## Getting 4jet combination mass from 8jets"
   ]
  },
  {
   "cell_type": "code",
   "execution_count": null,
   "id": "85bd467d-64b6-42fb-8c4f-a02af15dac29",
   "metadata": {},
   "outputs": [],
   "source": [
    "# 8-jets and 4-combinations: Samyak\n",
    "jet_cut = (jets.pt>20) & (np.abs(jets.eta) < 2.4)\n",
    "jets_cut = jets[jet_cut]\n",
    "\n",
    "n_jets = ak.num(jets_cut)\n",
    "n_jets_mask = n_jets == 8\n",
    "jets_ncut = jets_cut[n_jets_mask]\n",
    "\n",
    "quadrajet = ak.combinations(jets_ncut, 4, fields=[\"j1\", \"j2\", \"j3\",\"j4\"])\n",
    "octojet = ak.combinations(jets_ncut,8,)\n",
    "#New Code\n",
    "octojet_mass = ak.sum(jets_ncut.mass, axis=1)\n",
    "#Coding in Indices of Combinations\n",
    "jet4_indices = ak.Array([list(range(len(event))) for event in jets_ncut])\n",
    "quad_indices = ak.combinations(jet4_indices, 4)"
   ]
  },
  {
   "cell_type": "code",
   "execution_count": null,
   "id": "d589bacf-fff3-4b48-9b18-8d0d17add0ae",
   "metadata": {
    "scrolled": true
   },
   "outputs": [],
   "source": [
    "start_time = time.time()\n",
    "\n",
    "# Initialize arrays to store the results\n",
    "all_quads_set1 = []\n",
    "all_quads_set2 = []\n",
    "# Loop over events to process each set of 8 jets\n",
    "for event_jets in jets_ncut:\n",
    "    current_event_all_indices = ak.Array(list(range(len(event_jets)))) # <--- FIX: Convert to Awkward Array here\n",
    "\n",
    "    event_quads_set1 = []\n",
    "    event_quads_set2 = []\n",
    "\n",
    "    # Use a set to keep track of processed canonical pairs of index tuples\n",
    "    processed_pairs = set()\n",
    "\n",
    "    # Generate all combinations of 4 indices for the current event\n",
    "    # We specify axis=0 to ensure combinations are formed from the elements of this 1D array\n",
    "    quad_indices = ak.combinations(current_event_all_indices, 4, axis=0) # <--- FIX: Add axis=0\n",
    "\n",
    "    # Iterate through each combination of 4 indices for the current event\n",
    "    for combo_indices_ak in quad_indices:\n",
    "        combo_indices_list = tuple(sorted(combo_indices_ak.to_list())) # Canonical form for set1 indices\n",
    "        # Calculate the remaining indices (complementary set)\n",
    "        remaining_indices_list = tuple(sorted([idx for idx in range(len(event_jets)) if idx not in combo_indices_list])) \n",
    "        # Create a canonical representation of the pair of index sets (order-independent)\n",
    "        canonical_pair = tuple(sorted((combo_indices_list, remaining_indices_list)))\n",
    "\n",
    "        # If this canonical pair has already been processed, skip to avoid duplicates (e.g., (A,B) and (B,A))\n",
    "        if canonical_pair in processed_pairs:\n",
    "            continue\n",
    "\n",
    "        # Add the canonical pair to the set of processed pairs\n",
    "        processed_pairs.add(canonical_pair)\n",
    "\n",
    "        # Select the actual jet objects using the indices\n",
    "        jets_in_set1 = event_jets[list(combo_indices_list)]\n",
    "        jets_in_set2 = event_jets[list(remaining_indices_list)]\n",
    "\n",
    "        event_quads_set1.append(jets_in_set1)\n",
    "        event_quads_set2.append(jets_in_set2)\n",
    "        \n",
    "    all_quads_set1.append(event_quads_set1)\n",
    "    all_quads_set2.append(event_quads_set2)\n",
    "\n",
    "# Convert lists of lists back to Awkward Arrays\n",
    "quad_set1 = ak.Array(all_quads_set1)\n",
    "quad_set2 = ak.Array(all_quads_set2)\n",
    "\n",
    "print(f'Time to access data is {time.time() - start_time:.2f} seconds')\n",
    "\n",
    "print(\"Quad set 1 (combinations of 4 jets):\")\n",
    "print(quad_set1)\n",
    "print(\"\\nQuad set 2 (combinations of the other 4 jets):\")\n",
    "print(quad_set2)\n",
    "\n",
    "# Verify the number of combinations (should be C(8,4)/2 = 35 per event)\n",
    "print(f\"\\nNumber of pairs of quadjets for the first event: {len(quad_set1[0])}\")\n",
    "print(f\"Number of pairs of quadjets for the second event: {len(quad_set1[1])}\")"
   ]
  },
  {
   "cell_type": "code",
   "execution_count": null,
   "id": "82aef999-6f1c-48b0-b7f5-f718f5570271",
   "metadata": {},
   "outputs": [],
   "source": [
    "#Testing.... A lot of testing\n",
    "a = ak.combinations(quad_set1, 4,axis=1,fields=[\"j1\", \"j2\", \"j3\", \"j4\"]) \n",
    "a"
   ]
  },
  {
   "cell_type": "code",
   "execution_count": null,
   "id": "0f850be3-2211-43ed-b76a-b44046f238cd",
   "metadata": {
    "scrolled": true
   },
   "outputs": [],
   "source": [
    "start_time = time.time()\n",
    "allcombo1=[]\n",
    "allcombo2=[]\n",
    "for events in jets_ncut:\n",
    "    combolist = ak.combinations(ak.unzip(events.to_list()),4)\n",
    "    combo1=[]\n",
    "    combo2=[]\n",
    "    for combo_var in ak.combinations(combolist,2,fields=[\"c1\",\"c2\"]):\n",
    "        for part in combo_var: \n",
    "            check = part.c1.to_list() + part.c2.to_list()\n",
    "            check = list(dict.fromkeys(check))\n",
    "            if len(check) == 8: \n",
    "                combo1.append(part.c1)\n",
    "                combo2.append(part.c2)\n",
    "                print(\"Check Done\")\n",
    "    allcombo1.append(combo1)\n",
    "    allcombo2.append(combo2)\n",
    "    print(\"Event Done\")\n",
    "print(f'Time to access data is {time.time() - start_time:.2f} seconds')"
   ]
  },
  {
   "cell_type": "code",
   "execution_count": null,
   "id": "ee410557-ebcd-4876-9d3c-19d457b0d583",
   "metadata": {},
   "outputs": [],
   "source": [
    "start_time = time.time()\n",
    "allcombo1=[]\n",
    "allcombo2=[]\n",
    "for events in jets_ncut: \n",
    "    combolist = ak.combinations(ak.unzip(events.to_list()),8)\n",
    "    combo1=[]\n",
    "    combo2=[]\n",
    "    i = 0\n",
    "    for combo_var in ak.combinations(combolist,4,fields=[\"c1\",\"c2\",\"c3\",\"c4\"]): \n",
    "        for part in combo_var:\n",
    "            check = part.c1.to_list() + part.c2.to_list()+ part.c3.to_list() + part.c4.to_list()\n",
    "            check = list(dict.fromkeys(check))\n",
    "            if len(check) == 8: \n",
    "                combo1.append(part.c1)\n",
    "                combo2.append(part.c2)\n",
    "                print(\"Check Done\")\n",
    "    allcombo1.append(combo1)\n",
    "    allcombo2.append(combo2)\n",
    "    print(\"Event Done\")\n",
    "print(f'Time to access data is {time.time() - start_time:.2f} seconds')"
   ]
  },
  {
   "cell_type": "code",
   "execution_count": null,
   "id": "48ca96b8-9e4f-4fb2-b89b-1d14e0206d70",
   "metadata": {},
   "outputs": [],
   "source": [
    "combined_4jet1 = ak.sum(quad_set1.mass, axis = 2)\n",
    "combined_4jet2 = ak.sum(quad_set2.mass, axis = 2)\n"
   ]
  },
  {
   "cell_type": "code",
   "execution_count": null,
   "id": "c17150e1-4b6c-4629-8257-4cc4a2e525c7",
   "metadata": {},
   "outputs": [],
   "source": [
    "#combined_4jet1 = ak.sum(quad_set1.mass[0],axis=1)\n",
    "#combined_4jet2 = ak.sum(quad_set2.mass[0],axis=1)"
   ]
  },
  {
   "cell_type": "code",
   "execution_count": null,
   "id": "da1e45f4-f2ab-4782-bf1c-a7dc1a2fa49b",
   "metadata": {},
   "outputs": [],
   "source": [
    "plt.scatter(ak.flatten(combined_4jet1),ak.flatten(combined_4jet2),s=0.1, alpha=0.01)\n",
    "plt.xlim(0,300)\n",
    "plt.ylim(0,200)"
   ]
  },
  {
   "cell_type": "code",
   "execution_count": null,
   "id": "31a2be56-91e1-459a-a5e2-1991cb1d90db",
   "metadata": {},
   "outputs": [],
   "source": [
    "plt.title(\"Comparison of 4jet combined mass from 8jet data\")\n",
    "plt.hist2d(ak.flatten(combined_4jet1).tolist(),ak.flatten(combined_4jet2).tolist(),bins=500);\n",
    "plt.xlabel(\"Combined Mass of 4jet\")\n",
    "plt.ylabel(\"Combined Mass of other 4jet\")\n",
    "plt.xlim(30,300)\n",
    "plt.ylim(13,200)"
   ]
  },
  {
   "cell_type": "code",
   "execution_count": null,
   "id": "269127c1-6774-43e3-8d89-9a4b88df0693",
   "metadata": {},
   "outputs": [],
   "source": [
    "plt.plot(ak.flatten(combined_4jet1),ak.flatten(combined_4jet2),\".\",markersize=0.1)\n",
    "plt.xscale('log')\n",
    "plt.yscale('log')"
   ]
  },
  {
   "cell_type": "markdown",
   "id": "99f82a2f-f06f-44bf-8546-d5af7eb380a2",
   "metadata": {},
   "source": [
    "# New Challenge!"
   ]
  },
  {
   "cell_type": "code",
   "execution_count": null,
   "id": "3bce21d4-94ae-4ea6-9035-9a9da45f3c81",
   "metadata": {},
   "outputs": [],
   "source": [
    "# 4 total in data, 2 choices in combinations, only awkard, no normal \n",
    "data = ak.Array([\n",
    "                [1,2,3,4], \n",
    "                [5,6,7,8],\n",
    "                [9,10,11,12],\n",
    "                [13,14,15,16]\n",
    "                ])"
   ]
  },
  {
   "cell_type": "code",
   "execution_count": null,
   "id": "de3495f9-5917-4ded-b019-337abcdade17",
   "metadata": {},
   "outputs": [],
   "source": [
    "allcombo1=[]\n",
    "allcombo2=[]\n",
    "for events in data: \n",
    "    combolist = ak.combinations(ak.unzip(events.to_list()),2)\n",
    "    combo1=[]\n",
    "    combo2=[]\n",
    "    for combo_var in ak.combinations(combolist,2,fields=[\"c1\",\"c2\"]): \n",
    "        for part in combo_var:\n",
    "            check = part.c1.to_list() + part.c2.to_list()\n",
    "            check = list(dict.fromkeys(check))\n",
    "            if len(check) == 4: \n",
    "                combo1.append(part.c1)\n",
    "                combo2.append(part.c2)\n",
    "    allcombo1.append(combo1)\n",
    "    allcombo2.append(combo2)\n",
    "allcombo1"
   ]
  },
  {
   "cell_type": "code",
   "execution_count": null,
   "id": "df503716-7619-45d0-b856-31fa4e58a6f4",
   "metadata": {},
   "outputs": [],
   "source": [
    "allcombo2"
   ]
  },
  {
   "cell_type": "code",
   "execution_count": null,
   "id": "5a13fa69-7fb0-457c-8166-57df342f5526",
   "metadata": {},
   "outputs": [],
   "source": [
    "quadcombo = ak.combinations(ak.unzip(quadset[0]),2) #Loop over this (doesn't work unless index)\n",
    "quadcombolist = quadcombo.to_list()\n",
    "quadcombolist"
   ]
  },
  {
   "cell_type": "code",
   "execution_count": null,
   "id": "e4e54e64-1ac4-4c57-af6d-ffcf5831c861",
   "metadata": {},
   "outputs": [],
   "source": [
    "combolist1 = []\n",
    "combolist2 = []\n",
    "quadcombocombo = ak.combinations(quadcombolist[0],2, axis=0, fields=[\"c1\", \"c2\"]) #Loop over this \n",
    "v = quadcombocombo[4].to_list()\n",
    "a=v[\"c1\"]+v[\"c2\"]\n",
    "a = list(dict.fromkeys(a))\n",
    "if len(a) == 4: \n",
    "    combolist1.append(v[\"c1\"])\n",
    "    combolist2.append(v[\"c2\"])\n",
    "a, combolist1, combolist2"
   ]
  },
  {
   "cell_type": "code",
   "execution_count": null,
   "id": "66558eb3-0d7e-4939-b507-db966cc91952",
   "metadata": {
    "scrolled": true
   },
   "outputs": [],
   "source": [
    "allcombo1=[]\n",
    "allcombo2=[]\n",
    "for events in data: \n",
    "    combolist = ak.combinations(ak.unzip(events.to_list()),2)\n",
    "    combo1=[]\n",
    "    combo2=[]\n",
    "    i = 0\n",
    "    for combo_var in combolist: \n",
    "        #print(combo_var)\n",
    "        combo = ak.combinations(combo_var, 2, axis=0, fields=[\"c1\",\"c2\"])\n",
    "        combo_mod = combo.to_list()\n"
   ]
  },
  {
   "cell_type": "code",
   "execution_count": null,
   "id": "ad0fc46d-1bf6-403b-9666-e9e0c3261459",
   "metadata": {},
   "outputs": [],
   "source": [
    "allcombo1"
   ]
  },
  {
   "cell_type": "code",
   "execution_count": null,
   "id": "95edd062-ea86-4acd-b121-23579e2cc10e",
   "metadata": {},
   "outputs": [],
   "source": [
    "allcombo2"
   ]
  },
  {
   "cell_type": "code",
   "execution_count": null,
   "id": "5ee3e2d2-0a96-4279-846b-263a3b5d0cce",
   "metadata": {},
   "outputs": [],
   "source": [
    "# Bellis edits\n",
    "\n",
    "quadjets1 = ak.combinations(jets_ncut, 4, fields=['j1','j2', 'j3', 'j4'])\n",
    "quadjets2 = ak.combinations(jets_ncut, 4, fields=['j1','j2', 'j3', 'j4'])\n",
    "\n",
    "q1q2combos = ak.cartesian([quadjets1[0:10], quadjets2[0:10]])\n",
    "\n",
    "# Combos for first event\n",
    "\n",
    "print(len(q1q2combos[0]))\n",
    "\n",
    "q1q2combos[0][0]['0']\n",
    "\n",
    "# First index is the event, second index is the combination\n",
    "q1q2combos[0][0]['1'].j1\n",
    "\n",
    "indices = [10, 2000]\n",
    "\n",
    "q1q2combos[0][indices]['1'].j1"
   ]
  },
  {
   "cell_type": "code",
   "execution_count": null,
   "id": "fb7e1c27-7dd3-4c88-8292-3c6f3db3f5ad",
   "metadata": {},
   "outputs": [],
   "source": [
    "# 8 total in the data, 4 choices\n",
    "data = ak.Array([\n",
    "                [1,2,3,4,5,6,7,8],\n",
    "                [9,10,11,12,13,14,15,16]\n",
    "                ])"
   ]
  },
  {
   "cell_type": "code",
   "execution_count": null,
   "id": "d26d65d5-8b51-48e9-b260-9f896b725a74",
   "metadata": {},
   "outputs": [],
   "source": [
    "#Now with 8 datasets\n",
    "allcombo1=[]\n",
    "allcombo2=[]\n",
    "for events in data:\n",
    "    combolist = ak.combinations(ak.unzip(events.to_list()),4)\n",
    "    combo1=[]\n",
    "    combo2=[]\n",
    "    for combo_var in ak.combinations(combolist,2,fields=[\"c1\",\"c2\"]):\n",
    "        for part in combo_var: \n",
    "            check = part.c1.to_list() + part.c2.to_list()\n",
    "            check = list(dict.fromkeys(check))\n",
    "            if len(check) == 8: \n",
    "                combo1.append(part.c1)\n",
    "                combo2.append(part.c2)\n",
    "                print(\"Check Done\")\n",
    "    allcombo1.append(combo1)\n",
    "    allcombo2.append(combo2)\n",
    "    print(\"Event Done\")\n",
    "allcombo1"
   ]
  },
  {
   "cell_type": "code",
   "execution_count": null,
   "id": "bf3cca1a-d772-4bb2-8a61-f13a0c6613ea",
   "metadata": {},
   "outputs": [],
   "source": [
    "allcombo2"
   ]
  },
  {
   "cell_type": "code",
   "execution_count": null,
   "id": "602fbfe9-dd69-4a99-a4cf-a6ac4b37b962",
   "metadata": {},
   "outputs": [],
   "source": [
    "jets_ncut=ak.Array([\n",
    "                   [1, 2, 3, 4, 5, 6, 7, 8], \n",
    "                   [9,10,11,12,13,14,15,16]\n",
    "])\n"
   ]
  },
  {
   "cell_type": "code",
   "execution_count": null,
   "id": "2b156630-abe1-4176-a2b0-1b20061f04a7",
   "metadata": {},
   "outputs": [],
   "source": [
    "start_time = time.time()\n",
    "allcombo1=[]\n",
    "allcombo2=[]\n",
    "for events in jets_ncut:\n",
    "    combolist = ak.combinations(ak.unzip(events.to_list()),4)\n",
    "    combo1=[]\n",
    "    combo2=[]\n",
    "    for combo_var in ak.combinations(combolist,2,fields=[\"c1\",\"c2\"]):\n",
    "        for part in combo_var: \n",
    "            check = part.c1.to_list() + part.c2.to_list()\n",
    "            check = list(dict.fromkeys(check))\n",
    "            if len(check) == 8: \n",
    "                combo1.append(part.c1)\n",
    "                combo2.append(part.c2)\n",
    "                print(\"Check Done\")\n",
    "    allcombo1.append(combo1)\n",
    "    allcombo2.append(combo2)\n",
    "    print(\"Event Done\")\n",
    "print(f'Time to access data is {time.time() - start_time:.2f} seconds')"
   ]
  },
  {
   "cell_type": "code",
   "execution_count": null,
   "id": "4617265e-4d41-4fb8-a768-7b8dbcbebda0",
   "metadata": {},
   "outputs": [],
   "source": [
    "import numpy as np"
   ]
  },
  {
   "cell_type": "code",
   "execution_count": null,
   "id": "114f22da-397c-4055-9b4b-19c31a577516",
   "metadata": {},
   "outputs": [],
   "source": [
    "a = [0,1,2,3,4]\n",
    "b = [1,2,3,4,1]\n"
   ]
  },
  {
   "cell_type": "code",
   "execution_count": null,
   "id": "6bc25e21-27fc-40db-ae72-34b1bec5841b",
   "metadata": {},
   "outputs": [],
   "source": [
    "c = (np.all(b) != np.all(a))\n",
    "print(c)"
   ]
  },
  {
   "cell_type": "code",
   "execution_count": null,
   "id": "29b4fdad-28fb-46a7-a57d-80ee6c11bd1f",
   "metadata": {},
   "outputs": [],
   "source": [
    "ak.co"
   ]
  },
  {
   "cell_type": "code",
   "execution_count": null,
   "id": "eb30d2b3-08f6-41ff-b472-58f49507409b",
   "metadata": {},
   "outputs": [],
   "source": []
  }
 ],
 "metadata": {
  "kernelspec": {
   "display_name": "Python 3 (ipykernel)",
   "language": "python",
   "name": "python3"
  },
  "language_info": {
   "codemirror_mode": {
    "name": "ipython",
    "version": 3
   },
   "file_extension": ".py",
   "mimetype": "text/x-python",
   "name": "python",
   "nbconvert_exporter": "python",
   "pygments_lexer": "ipython3",
   "version": "3.11.12"
  }
 },
 "nbformat": 4,
 "nbformat_minor": 5
}
