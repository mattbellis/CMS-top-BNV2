{
 "cells": [
  {
   "cell_type": "markdown",
   "id": "bd03606f-4095-4934-a6ca-967f623f8a73",
   "metadata": {},
   "source": [
    "# Install or upgrade libraries\n",
    "\n",
    "It might be that you are running with the latest libraries and that they all work together fine. \n",
    "\n",
    "Running the following cell takes a minute or so but ensures that you have a consistent set of python tools. "
   ]
  },
  {
   "cell_type": "code",
   "execution_count": 2,
   "id": "43fe6edd-2ae6-4e0e-b143-c6198e14f79d",
   "metadata": {},
   "outputs": [
    {
     "name": "stdout",
     "output_type": "stream",
     "text": [
      "sys.version = '3.11.13 | packaged by conda-forge | (main, Jun  4 2025, 14:48:23) [GCC 13.3.0]'\n",
      "\n"
     ]
    }
   ],
   "source": [
    "import sys\n",
    "print(f\"{sys.version = }\\n\")\n"
   ]
  },
  {
   "cell_type": "code",
   "execution_count": 3,
   "id": "3c3fc0fa-3975-4b80-aa87-898c99c88b2b",
   "metadata": {},
   "outputs": [],
   "source": [
    "# If there are issues with fsspect-xrootd not being found, run this outside of Jupyter-notebook and restart\n",
    "# !pip install --upgrade fsspec-xrootd"
   ]
  },
  {
   "cell_type": "code",
   "execution_count": 4,
   "id": "f599a70a-2b2d-4492-9e03-fc3f5e037d6c",
   "metadata": {},
   "outputs": [
    {
     "name": "stdout",
     "output_type": "stream",
     "text": [
      "Requirement already satisfied: pip in /home/samyak/micromamba/envs/pyhep/lib/python3.11/site-packages (25.1.1)\n",
      "Requirement already satisfied: futures in /home/samyak/micromamba/envs/pyhep/lib/python3.11/site-packages (3.0.5)\n",
      "Requirement already satisfied: coffea in /home/samyak/micromamba/envs/pyhep/lib/python3.11/site-packages (2025.3.0)\n",
      "Requirement already satisfied: aiohttp in /home/samyak/micromamba/envs/pyhep/lib/python3.11/site-packages (from coffea) (3.12.13)\n",
      "Requirement already satisfied: awkward>=2.6.7 in /home/samyak/micromamba/envs/pyhep/lib/python3.11/site-packages (from coffea) (2.8.4)\n",
      "Requirement already satisfied: cachetools in /home/samyak/micromamba/envs/pyhep/lib/python3.11/site-packages (from coffea) (6.1.0)\n",
      "Requirement already satisfied: cloudpickle>=1.2.3 in /home/samyak/micromamba/envs/pyhep/lib/python3.11/site-packages (from coffea) (3.1.1)\n",
      "Requirement already satisfied: correctionlib>=2.6.0 in /home/samyak/micromamba/envs/pyhep/lib/python3.11/site-packages (from coffea) (2.7.0)\n",
      "Requirement already satisfied: dask-awkward>=2025.2.0 in /home/samyak/micromamba/envs/pyhep/lib/python3.11/site-packages (from coffea) (2025.3.0)\n",
      "Requirement already satisfied: dask-histogram>=2025.2.0 in /home/samyak/micromamba/envs/pyhep/lib/python3.11/site-packages (from coffea) (2025.2.0)\n",
      "Requirement already satisfied: dask>=2024.3.0 in /home/samyak/micromamba/envs/pyhep/lib/python3.11/site-packages (from dask[array]>=2024.3.0->coffea) (2025.5.1)\n",
      "Requirement already satisfied: fsspec-xrootd>=0.2.3 in /home/samyak/micromamba/envs/pyhep/lib/python3.11/site-packages (from coffea) (0.5.1)\n",
      "Requirement already satisfied: hist>=2 in /home/samyak/micromamba/envs/pyhep/lib/python3.11/site-packages (from coffea) (2.8.1)\n",
      "Requirement already satisfied: lz4 in /home/samyak/micromamba/envs/pyhep/lib/python3.11/site-packages (from coffea) (4.4.4)\n",
      "Requirement already satisfied: matplotlib>=3 in /home/samyak/micromamba/envs/pyhep/lib/python3.11/site-packages (from coffea) (3.10.3)\n",
      "Requirement already satisfied: mplhep>=0.1.18 in /home/samyak/micromamba/envs/pyhep/lib/python3.11/site-packages (from coffea) (0.3.59)\n",
      "Requirement already satisfied: numba>=0.58.1 in /home/samyak/micromamba/envs/pyhep/lib/python3.11/site-packages (from coffea) (0.61.2)\n",
      "Requirement already satisfied: numpy>=1.22 in /home/samyak/micromamba/envs/pyhep/lib/python3.11/site-packages (from coffea) (2.2.6)\n",
      "Requirement already satisfied: packaging in /home/samyak/micromamba/envs/pyhep/lib/python3.11/site-packages (from coffea) (25.0)\n",
      "Requirement already satisfied: pandas in /home/samyak/micromamba/envs/pyhep/lib/python3.11/site-packages (from coffea) (2.3.0)\n",
      "Requirement already satisfied: pyarrow>=6.0.0 in /home/samyak/micromamba/envs/pyhep/lib/python3.11/site-packages (from coffea) (19.0.1)\n",
      "Requirement already satisfied: requests in /home/samyak/micromamba/envs/pyhep/lib/python3.11/site-packages (from coffea) (2.32.4)\n",
      "Requirement already satisfied: scipy>=1.1.0 in /home/samyak/micromamba/envs/pyhep/lib/python3.11/site-packages (from coffea) (1.15.2)\n",
      "Requirement already satisfied: toml>=0.10.2 in /home/samyak/micromamba/envs/pyhep/lib/python3.11/site-packages (from coffea) (0.10.2)\n",
      "Requirement already satisfied: tqdm>=4.27.0 in /home/samyak/micromamba/envs/pyhep/lib/python3.11/site-packages (from coffea) (4.67.1)\n",
      "Requirement already satisfied: uproot>=5.3.11 in /home/samyak/micromamba/envs/pyhep/lib/python3.11/site-packages (from coffea) (5.6.2)\n",
      "Requirement already satisfied: vector!=1.6.0,>=1.4.1 in /home/samyak/micromamba/envs/pyhep/lib/python3.11/site-packages (from coffea) (1.6.2)\n",
      "Requirement already satisfied: awkward-cpp==46 in /home/samyak/micromamba/envs/pyhep/lib/python3.11/site-packages (from awkward>=2.6.7->coffea) (46)\n",
      "Requirement already satisfied: fsspec>=2022.11.0 in /home/samyak/micromamba/envs/pyhep/lib/python3.11/site-packages (from awkward>=2.6.7->coffea) (2025.5.1)\n",
      "Requirement already satisfied: importlib-metadata>=4.13.0 in /home/samyak/micromamba/envs/pyhep/lib/python3.11/site-packages (from awkward>=2.6.7->coffea) (8.7.0)\n",
      "Requirement already satisfied: pydantic>=2 in /home/samyak/micromamba/envs/pyhep/lib/python3.11/site-packages (from correctionlib>=2.6.0->coffea) (2.11.7)\n",
      "Requirement already satisfied: rich in /home/samyak/micromamba/envs/pyhep/lib/python3.11/site-packages (from correctionlib>=2.6.0->coffea) (14.0.0)\n",
      "Requirement already satisfied: click>=8.1 in /home/samyak/micromamba/envs/pyhep/lib/python3.11/site-packages (from dask>=2024.3.0->dask[array]>=2024.3.0->coffea) (8.2.1)\n",
      "Requirement already satisfied: partd>=1.4.0 in /home/samyak/micromamba/envs/pyhep/lib/python3.11/site-packages (from dask>=2024.3.0->dask[array]>=2024.3.0->coffea) (1.4.2)\n",
      "Requirement already satisfied: pyyaml>=5.3.1 in /home/samyak/micromamba/envs/pyhep/lib/python3.11/site-packages (from dask>=2024.3.0->dask[array]>=2024.3.0->coffea) (6.0.2)\n",
      "Requirement already satisfied: toolz>=0.10.0 in /home/samyak/micromamba/envs/pyhep/lib/python3.11/site-packages (from dask>=2024.3.0->dask[array]>=2024.3.0->coffea) (1.0.0)\n",
      "Requirement already satisfied: typing-extensions>=4.8.0 in /home/samyak/micromamba/envs/pyhep/lib/python3.11/site-packages (from dask-awkward>=2025.2.0->coffea) (4.14.0)\n",
      "Requirement already satisfied: boost-histogram>=1.3.2 in /home/samyak/micromamba/envs/pyhep/lib/python3.11/site-packages (from dask-histogram>=2025.2.0->coffea) (1.5.2)\n",
      "Requirement already satisfied: histoprint>=2.2.0 in /home/samyak/micromamba/envs/pyhep/lib/python3.11/site-packages (from hist>=2->coffea) (2.6.0)\n",
      "Requirement already satisfied: uhi>=0.2.1 in /home/samyak/micromamba/envs/pyhep/lib/python3.11/site-packages (from histoprint>=2.2.0->hist>=2->coffea) (0.5.0)\n",
      "Requirement already satisfied: zipp>=3.20 in /home/samyak/micromamba/envs/pyhep/lib/python3.11/site-packages (from importlib-metadata>=4.13.0->awkward>=2.6.7->coffea) (3.23.0)\n",
      "Requirement already satisfied: contourpy>=1.0.1 in /home/samyak/micromamba/envs/pyhep/lib/python3.11/site-packages (from matplotlib>=3->coffea) (1.3.2)\n",
      "Requirement already satisfied: cycler>=0.10 in /home/samyak/micromamba/envs/pyhep/lib/python3.11/site-packages (from matplotlib>=3->coffea) (0.12.1)\n",
      "Requirement already satisfied: fonttools>=4.22.0 in /home/samyak/micromamba/envs/pyhep/lib/python3.11/site-packages (from matplotlib>=3->coffea) (4.58.4)\n",
      "Requirement already satisfied: kiwisolver>=1.3.1 in /home/samyak/micromamba/envs/pyhep/lib/python3.11/site-packages (from matplotlib>=3->coffea) (1.4.7)\n",
      "Requirement already satisfied: pillow>=8 in /home/samyak/micromamba/envs/pyhep/lib/python3.11/site-packages (from matplotlib>=3->coffea) (11.2.1)\n",
      "Requirement already satisfied: pyparsing>=2.3.1 in /home/samyak/micromamba/envs/pyhep/lib/python3.11/site-packages (from matplotlib>=3->coffea) (3.2.3)\n",
      "Requirement already satisfied: python-dateutil>=2.7 in /home/samyak/micromamba/envs/pyhep/lib/python3.11/site-packages (from matplotlib>=3->coffea) (2.9.0.post0)\n",
      "Requirement already satisfied: mplhep-data>=0.0.4 in /home/samyak/micromamba/envs/pyhep/lib/python3.11/site-packages (from mplhep>=0.1.18->coffea) (0.0.4)\n",
      "Requirement already satisfied: llvmlite<0.45,>=0.44.0dev0 in /home/samyak/micromamba/envs/pyhep/lib/python3.11/site-packages (from numba>=0.58.1->coffea) (0.44.0)\n",
      "Requirement already satisfied: locket in /home/samyak/micromamba/envs/pyhep/lib/python3.11/site-packages (from partd>=1.4.0->dask>=2024.3.0->dask[array]>=2024.3.0->coffea) (1.0.0)\n",
      "Requirement already satisfied: annotated-types>=0.6.0 in /home/samyak/micromamba/envs/pyhep/lib/python3.11/site-packages (from pydantic>=2->correctionlib>=2.6.0->coffea) (0.7.0)\n",
      "Requirement already satisfied: pydantic-core==2.33.2 in /home/samyak/micromamba/envs/pyhep/lib/python3.11/site-packages (from pydantic>=2->correctionlib>=2.6.0->coffea) (2.33.2)\n",
      "Requirement already satisfied: typing-inspection>=0.4.0 in /home/samyak/micromamba/envs/pyhep/lib/python3.11/site-packages (from pydantic>=2->correctionlib>=2.6.0->coffea) (0.4.1)\n",
      "Requirement already satisfied: six>=1.5 in /home/samyak/micromamba/envs/pyhep/lib/python3.11/site-packages (from python-dateutil>=2.7->matplotlib>=3->coffea) (1.17.0)\n",
      "Requirement already satisfied: cramjam>=2.5.0 in /home/samyak/micromamba/envs/pyhep/lib/python3.11/site-packages (from uproot>=5.3.11->coffea) (2.10.0)\n",
      "Requirement already satisfied: xxhash in /home/samyak/micromamba/envs/pyhep/lib/python3.11/site-packages (from uproot>=5.3.11->coffea) (3.5.0)\n",
      "Requirement already satisfied: aiohappyeyeballs>=2.5.0 in /home/samyak/micromamba/envs/pyhep/lib/python3.11/site-packages (from aiohttp->coffea) (2.6.1)\n",
      "Requirement already satisfied: aiosignal>=1.1.2 in /home/samyak/micromamba/envs/pyhep/lib/python3.11/site-packages (from aiohttp->coffea) (1.3.2)\n",
      "Requirement already satisfied: attrs>=17.3.0 in /home/samyak/micromamba/envs/pyhep/lib/python3.11/site-packages (from aiohttp->coffea) (25.3.0)\n",
      "Requirement already satisfied: frozenlist>=1.1.1 in /home/samyak/micromamba/envs/pyhep/lib/python3.11/site-packages (from aiohttp->coffea) (1.6.0)\n",
      "Requirement already satisfied: multidict<7.0,>=4.5 in /home/samyak/micromamba/envs/pyhep/lib/python3.11/site-packages (from aiohttp->coffea) (6.5.0)\n",
      "Requirement already satisfied: propcache>=0.2.0 in /home/samyak/micromamba/envs/pyhep/lib/python3.11/site-packages (from aiohttp->coffea) (0.3.1)\n",
      "Requirement already satisfied: yarl<2.0,>=1.17.0 in /home/samyak/micromamba/envs/pyhep/lib/python3.11/site-packages (from aiohttp->coffea) (1.20.1)\n",
      "Requirement already satisfied: idna>=2.0 in /home/samyak/micromamba/envs/pyhep/lib/python3.11/site-packages (from yarl<2.0,>=1.17.0->aiohttp->coffea) (3.10)\n",
      "Requirement already satisfied: pytz>=2020.1 in /home/samyak/micromamba/envs/pyhep/lib/python3.11/site-packages (from pandas->coffea) (2025.2)\n",
      "Requirement already satisfied: tzdata>=2022.7 in /home/samyak/micromamba/envs/pyhep/lib/python3.11/site-packages (from pandas->coffea) (2025.2)\n",
      "Requirement already satisfied: charset_normalizer<4,>=2 in /home/samyak/micromamba/envs/pyhep/lib/python3.11/site-packages (from requests->coffea) (3.4.2)\n",
      "Requirement already satisfied: urllib3<3,>=1.21.1 in /home/samyak/micromamba/envs/pyhep/lib/python3.11/site-packages (from requests->coffea) (2.5.0)\n",
      "Requirement already satisfied: certifi>=2017.4.17 in /home/samyak/micromamba/envs/pyhep/lib/python3.11/site-packages (from requests->coffea) (2025.6.15)\n",
      "Requirement already satisfied: markdown-it-py>=2.2.0 in /home/samyak/micromamba/envs/pyhep/lib/python3.11/site-packages (from rich->correctionlib>=2.6.0->coffea) (3.0.0)\n",
      "Requirement already satisfied: pygments<3.0.0,>=2.13.0 in /home/samyak/micromamba/envs/pyhep/lib/python3.11/site-packages (from rich->correctionlib>=2.6.0->coffea) (2.19.1)\n",
      "Requirement already satisfied: mdurl~=0.1 in /home/samyak/micromamba/envs/pyhep/lib/python3.11/site-packages (from markdown-it-py>=2.2.0->rich->correctionlib>=2.6.0->coffea) (0.1.2)\n",
      "Requirement already satisfied: awkward in /home/samyak/micromamba/envs/pyhep/lib/python3.11/site-packages (2.8.4)\n",
      "Requirement already satisfied: awkward-cpp==46 in /home/samyak/micromamba/envs/pyhep/lib/python3.11/site-packages (from awkward) (46)\n",
      "Requirement already satisfied: fsspec>=2022.11.0 in /home/samyak/micromamba/envs/pyhep/lib/python3.11/site-packages (from awkward) (2025.5.1)\n",
      "Requirement already satisfied: importlib-metadata>=4.13.0 in /home/samyak/micromamba/envs/pyhep/lib/python3.11/site-packages (from awkward) (8.7.0)\n",
      "Requirement already satisfied: numpy>=1.18.0 in /home/samyak/micromamba/envs/pyhep/lib/python3.11/site-packages (from awkward) (2.2.6)\n",
      "Requirement already satisfied: packaging in /home/samyak/micromamba/envs/pyhep/lib/python3.11/site-packages (from awkward) (25.0)\n",
      "Requirement already satisfied: zipp>=3.20 in /home/samyak/micromamba/envs/pyhep/lib/python3.11/site-packages (from importlib-metadata>=4.13.0->awkward) (3.23.0)\n",
      "Requirement already satisfied: uproot in /home/samyak/micromamba/envs/pyhep/lib/python3.11/site-packages (5.6.2)\n",
      "Requirement already satisfied: awkward>=2.4.6 in /home/samyak/micromamba/envs/pyhep/lib/python3.11/site-packages (from uproot) (2.8.4)\n",
      "Requirement already satisfied: cramjam>=2.5.0 in /home/samyak/micromamba/envs/pyhep/lib/python3.11/site-packages (from uproot) (2.10.0)\n",
      "Requirement already satisfied: fsspec in /home/samyak/micromamba/envs/pyhep/lib/python3.11/site-packages (from uproot) (2025.5.1)\n",
      "Requirement already satisfied: numpy in /home/samyak/micromamba/envs/pyhep/lib/python3.11/site-packages (from uproot) (2.2.6)\n",
      "Requirement already satisfied: packaging in /home/samyak/micromamba/envs/pyhep/lib/python3.11/site-packages (from uproot) (25.0)\n",
      "Requirement already satisfied: xxhash in /home/samyak/micromamba/envs/pyhep/lib/python3.11/site-packages (from uproot) (3.5.0)\n",
      "Requirement already satisfied: awkward-cpp==46 in /home/samyak/micromamba/envs/pyhep/lib/python3.11/site-packages (from awkward>=2.4.6->uproot) (46)\n",
      "Requirement already satisfied: importlib-metadata>=4.13.0 in /home/samyak/micromamba/envs/pyhep/lib/python3.11/site-packages (from awkward>=2.4.6->uproot) (8.7.0)\n",
      "Requirement already satisfied: zipp>=3.20 in /home/samyak/micromamba/envs/pyhep/lib/python3.11/site-packages (from importlib-metadata>=4.13.0->awkward>=2.4.6->uproot) (3.23.0)\n",
      "Requirement already satisfied: fsspec-xrootd in /home/samyak/micromamba/envs/pyhep/lib/python3.11/site-packages (0.5.1)\n",
      "Requirement already satisfied: fsspec in /home/samyak/micromamba/envs/pyhep/lib/python3.11/site-packages (from fsspec-xrootd) (2025.5.1)\n",
      "Requirement already satisfied: vector in /home/samyak/micromamba/envs/pyhep/lib/python3.11/site-packages (1.6.2)\n",
      "Requirement already satisfied: numpy>=1.13.3 in /home/samyak/micromamba/envs/pyhep/lib/python3.11/site-packages (from vector) (2.2.6)\n",
      "Requirement already satisfied: packaging>=19 in /home/samyak/micromamba/envs/pyhep/lib/python3.11/site-packages (from vector) (25.0)\n",
      "Requirement already satisfied: pandas in /home/samyak/micromamba/envs/pyhep/lib/python3.11/site-packages (2.3.0)\n",
      "Requirement already satisfied: numpy>=1.23.2 in /home/samyak/micromamba/envs/pyhep/lib/python3.11/site-packages (from pandas) (2.2.6)\n",
      "Requirement already satisfied: python-dateutil>=2.8.2 in /home/samyak/micromamba/envs/pyhep/lib/python3.11/site-packages (from pandas) (2.9.0.post0)\n",
      "Requirement already satisfied: pytz>=2020.1 in /home/samyak/micromamba/envs/pyhep/lib/python3.11/site-packages (from pandas) (2025.2)\n",
      "Requirement already satisfied: tzdata>=2022.7 in /home/samyak/micromamba/envs/pyhep/lib/python3.11/site-packages (from pandas) (2025.2)\n",
      "Requirement already satisfied: six>=1.5 in /home/samyak/micromamba/envs/pyhep/lib/python3.11/site-packages (from python-dateutil>=2.8.2->pandas) (1.17.0)\n",
      "Requirement already satisfied: matplotlib in /home/samyak/micromamba/envs/pyhep/lib/python3.11/site-packages (3.10.3)\n",
      "Requirement already satisfied: contourpy>=1.0.1 in /home/samyak/micromamba/envs/pyhep/lib/python3.11/site-packages (from matplotlib) (1.3.2)\n",
      "Requirement already satisfied: cycler>=0.10 in /home/samyak/micromamba/envs/pyhep/lib/python3.11/site-packages (from matplotlib) (0.12.1)\n",
      "Requirement already satisfied: fonttools>=4.22.0 in /home/samyak/micromamba/envs/pyhep/lib/python3.11/site-packages (from matplotlib) (4.58.4)\n",
      "Requirement already satisfied: kiwisolver>=1.3.1 in /home/samyak/micromamba/envs/pyhep/lib/python3.11/site-packages (from matplotlib) (1.4.7)\n",
      "Requirement already satisfied: numpy>=1.23 in /home/samyak/micromamba/envs/pyhep/lib/python3.11/site-packages (from matplotlib) (2.2.6)\n",
      "Requirement already satisfied: packaging>=20.0 in /home/samyak/micromamba/envs/pyhep/lib/python3.11/site-packages (from matplotlib) (25.0)\n",
      "Requirement already satisfied: pillow>=8 in /home/samyak/micromamba/envs/pyhep/lib/python3.11/site-packages (from matplotlib) (11.2.1)\n",
      "Requirement already satisfied: pyparsing>=2.3.1 in /home/samyak/micromamba/envs/pyhep/lib/python3.11/site-packages (from matplotlib) (3.2.3)\n",
      "Requirement already satisfied: python-dateutil>=2.7 in /home/samyak/micromamba/envs/pyhep/lib/python3.11/site-packages (from matplotlib) (2.9.0.post0)\n",
      "Requirement already satisfied: six>=1.5 in /home/samyak/micromamba/envs/pyhep/lib/python3.11/site-packages (from python-dateutil>=2.7->matplotlib) (1.17.0)\n"
     ]
    }
   ],
   "source": [
    "#'''\n",
    "!pip install --upgrade pip\n",
    "\n",
    "!pip install futures \n",
    "\n",
    "!pip install --user --upgrade coffea\n",
    "\n",
    "!pip install --upgrade awkward\n",
    "!pip install --upgrade uproot\n",
    "\n",
    "!pip install --upgrade fsspec-xrootd\n",
    "\n",
    "!pip install vector\n",
    "\n",
    "!pip install --upgrade pandas\n",
    "\n",
    "\n",
    "!pip install --upgrade matplotlib\n",
    "#'''"
   ]
  },
  {
   "cell_type": "markdown",
   "id": "8dabf953-ba6f-4fb0-b27d-b7de01a4437b",
   "metadata": {},
   "source": [
    "We've also prepared some helper code that makes it easier to work with the data in this lesson.\n",
    "\n",
    "You can see the code [here](https://github.com/cms-opendata-workshop/workshop2024-lesson-event-selection/blob/main/instructors/dpoa_workshop_utilities.py) but we will explain the functions and data objects in this notebook. \n",
    "\n",
    "Let's download it first. "
   ]
  },
  {
   "cell_type": "code",
   "execution_count": 5,
   "id": "4ffabd1e-4faa-4c99-b123-c2808d43ee46",
   "metadata": {},
   "outputs": [],
   "source": [
    "#!wget https://raw.githubusercontent.com/cms-opendata-workshop/workshop2024-lesson-event-selection/main/instructors/dpoa_workshop_utilities.py"
   ]
  },
  {
   "cell_type": "markdown",
   "id": "23a9c230-3250-427a-b5e5-933960c93ab7",
   "metadata": {},
   "source": [
    "## Imports\n",
    "\n",
    "Import all the libraries we will need and check their versions, in case you run into issues. "
   ]
  },
  {
   "cell_type": "code",
   "execution_count": 6,
   "id": "48b47c51-bcd2-481b-b238-30184aee249b",
   "metadata": {},
   "outputs": [],
   "source": [
    "%load_ext autoreload\n",
    "%autoreload 2\n",
    "\n",
    "# The classics\n",
    "import numpy as np\n",
    "import matplotlib.pylab as plt\n",
    "import matplotlib # To get the version\n",
    "\n",
    "import pandas as pd\n",
    "\n",
    "# The newcomers\n",
    "import awkward as ak\n",
    "import uproot\n",
    "\n",
    "import vector\n",
    "vector.register_awkward()\n",
    "\n",
    "import requests\n",
    "import os\n",
    "\n",
    "import time\n",
    "\n",
    "import json\n",
    "\n",
    "import dpoa_workshop_utilities\n",
    "from dpoa_workshop_utilities import nanoaod_filenames\n",
    "from dpoa_workshop_utilities import get_files_for_dataset\n",
    "from dpoa_workshop_utilities import pretty_print\n",
    "from dpoa_workshop_utilities import build_lumi_mask\n",
    "\n",
    "import sys"
   ]
  },
  {
   "cell_type": "code",
   "execution_count": 7,
   "id": "a96e2967-08e7-4317-8e1b-93df0d7b7f93",
   "metadata": {},
   "outputs": [
    {
     "name": "stdout",
     "output_type": "stream",
     "text": [
      "Versions --------\n",
      "\n",
      "sys.version = '3.11.13 | packaged by conda-forge | (main, Jun  4 2025, 14:48:23) [GCC 13.3.0]'\n",
      "\n",
      "ak.__version__ = '2.8.4'\n",
      "\n",
      "uproot.__version__ = '5.6.2'\n",
      "\n",
      "np.__version__ = '2.2.6'\n",
      "\n",
      "matplotlib.__version__ = '3.10.3'\n",
      "\n",
      "vector.__version__ = '1.6.2'\n",
      "\n",
      "pd.__version__ = '2.3.0'\n",
      "\n"
     ]
    }
   ],
   "source": [
    "print(\"Versions --------\\n\")\n",
    "print(f\"{sys.version = }\\n\")\n",
    "print(f\"{ak.__version__ = }\\n\")\n",
    "print(f\"{uproot.__version__ = }\\n\")\n",
    "print(f\"{np.__version__ = }\\n\")\n",
    "print(f\"{matplotlib.__version__ = }\\n\")\n",
    "print(f\"{vector.__version__ = }\\n\")\n",
    "print(f\"{pd.__version__ = }\\n\")"
   ]
  },
  {
   "cell_type": "markdown",
   "id": "b467ced2-a6d9-4d48-b1d7-27534fcc4cef",
   "metadata": {},
   "source": [
    "# Opening a file\n",
    "\n",
    "Let's open and explore a sample file. \n",
    "\n",
    "We'll be getting the data from [here](https://opendata.cern.ch/record/67993).\n",
    "\n",
    "This is some Monte Carlo that contains simulations of a top-antitop pair being created in a proton-proton collision at CMS. \n",
    "\n",
    "One top decays leptonically and the other decays hadronically. \n",
    "\n",
    "**Do you know what leptonically and hadronically mean? If not, do a bit of research.**\n",
    "\n",
    "When you go to open the file, it might take 10-30 seconds at this step if you are working with the larger file."
   ]
  },
  {
   "cell_type": "code",
   "execution_count": 8,
   "id": "8d021a10-7b23-4204-8f1b-a85c527fd640",
   "metadata": {},
   "outputs": [],
   "source": [
    "# # For testing\n",
    "# # Big file\n",
    "# #filename = 'root://eospublic.cern.ch//eos/opendata/cms/mc/RunIISummer20UL16NanoAODv9/TTToSemiLeptonic_TuneCP5_13TeV-powheg-pythia8/NANOAODSIM/106X_mcRun2_asymptotic_v17-v1/120000/08FCB2ED-176B-064B-85AB-37B898773B98.root'\n",
    "\n",
    "# # Smaller file, better for prototyping your code as things will run faster\n",
    "# filename = 'root://eospublic.cern.ch//eos/opendata/cms/mc/RunIISummer20UL16NanoAODv9/TTToSemiLeptonic_TuneCP5_13TeV-powheg-pythia8/NANOAODSIM/106X_mcRun2_asymptotic_v17-v1/120000/7D120E49-E712-B74B-9E1C-67F2D0057995.root'\n",
    "\n",
    "# print(f\"Opening...{filename}\")\n",
    "# f = uproot.open(filename)\n",
    "\n",
    "# events = f['Events']\n",
    "\n",
    "# nevents = events.num_entries\n",
    "\n",
    "# print(f\"{nevents = }\")"
   ]
  },
  {
   "cell_type": "code",
   "execution_count": 9,
   "id": "1540cb65-71a3-47f0-a085-0262791a5c3b",
   "metadata": {},
   "outputs": [],
   "source": [
    "def load_file(size):\n",
    "    '''\n",
    "    size = \"big\" or \"small\" or \"RunIISuummer20\" or JetHT\"\n",
    "    '''\n",
    "    if size == \"big\": \n",
    "        # Big file\n",
    "        filename = 'root://eospublic.cern.ch//eos/opendata/cms/mc/RunIISummer20UL16NanoAODv9/TTToSemiLeptonic_TuneCP5_13TeV-powheg-pythia8/NANOAODSIM/106X_mcRun2_asymptotic_v17-v1/120000/08FCB2ED-176B-064B-85AB-37B898773B98.root'\n",
    "    elif size == \"small\":\n",
    "        # Smaller file, better for prototyping your code as things will run faster\n",
    "        filename = 'root://eospublic.cern.ch//eos/opendata/cms/mc/RunIISummer20UL16NanoAODv9/TTToSemiLeptonic_TuneCP5_13TeV-powheg-pythia8/NANOAODSIM/106X_mcRun2_asymptotic_v17-v1/120000/7D120E49-E712-B74B-9E1C-67F2D0057995.root'\n",
    "    elif size == \"RunIISummer20\": \n",
    "        filename = 'root://eospublic.cern.ch//eos/opendata/cms/mc/RunIISummer20UL16NanoAODv9/QCD_Pt-800To1000_MuEnrichedPt5_TuneCP5_13TeV-pythia8/NANOAODSIM/106X_mcRun2_asymptotic_v17-v1/120000/1F546B5D-D09E-3B4B-8AA3-51DE65483612.root'\n",
    "    elif size == \"JetHT\":\n",
    "        filename = 'root://eospublic.cern.ch//eos/opendata/cms/Run2016H/JetHT/NANOAOD/UL2016_MiniAODv2_NanoAODv9-v1/130000/0290F73B-A51C-A441-AEC1-8429F9CC8AA8.root'\n",
    "    print(f\"Opening...{filename}\")\n",
    "    f = uproot.open(filename)\n",
    "\n",
    "    events = f['Events']\n",
    "\n",
    "    nevents = events.num_entries\n",
    "\n",
    "    print(f\"{nevents = }\")\n",
    "    return events"
   ]
  },
  {
   "cell_type": "code",
   "execution_count": 10,
   "id": "30199aa8-dc72-4562-8ebb-0b551b746b96",
   "metadata": {},
   "outputs": [
    {
     "name": "stdout",
     "output_type": "stream",
     "text": [
      "Opening...root://eospublic.cern.ch//eos/opendata/cms/mc/RunIISummer20UL16NanoAODv9/TTToSemiLeptonic_TuneCP5_13TeV-powheg-pythia8/NANOAODSIM/106X_mcRun2_asymptotic_v17-v1/120000/7D120E49-E712-B74B-9E1C-67F2D0057995.root\n",
      "nevents = 168000\n",
      "Opening...root://eospublic.cern.ch//eos/opendata/cms/mc/RunIISummer20UL16NanoAODv9/TTToSemiLeptonic_TuneCP5_13TeV-powheg-pythia8/NANOAODSIM/106X_mcRun2_asymptotic_v17-v1/120000/08FCB2ED-176B-064B-85AB-37B898773B98.root\n",
      "nevents = 1233000\n",
      "Opening...root://eospublic.cern.ch//eos/opendata/cms/mc/RunIISummer20UL16NanoAODv9/QCD_Pt-800To1000_MuEnrichedPt5_TuneCP5_13TeV-pythia8/NANOAODSIM/106X_mcRun2_asymptotic_v17-v1/120000/1F546B5D-D09E-3B4B-8AA3-51DE65483612.root\n",
      "nevents = 599928\n",
      "Opening...root://eospublic.cern.ch//eos/opendata/cms/Run2016H/JetHT/NANOAOD/UL2016_MiniAODv2_NanoAODv9-v1/130000/0290F73B-A51C-A441-AEC1-8429F9CC8AA8.root\n",
      "nevents = 1763723\n"
     ]
    }
   ],
   "source": [
    "small_events = load_file(\"small\")\n",
    "big_events = load_file(\"big\")\n",
    "RunII_events = load_file(\"RunIISummer20\")\n",
    "JetHT_events = load_file(\"JetHT\")"
   ]
  },
  {
   "cell_type": "code",
   "execution_count": 11,
   "id": "b452b310-74ec-463b-ac66-eec54b9ad6e6",
   "metadata": {},
   "outputs": [],
   "source": [
    "#Change the variable to change to other datasets, so that you don't need to load each time you want a new array\n",
    "events = small_events "
   ]
  },
  {
   "cell_type": "markdown",
   "id": "6958d27f-abac-4a25-9419-80f47ee05de9",
   "metadata": {},
   "source": [
    "The `events` object is a `TTree` implementation in python and behaves like a dictionary. This means \n",
    "we can get all the keys if we want. "
   ]
  },
  {
   "cell_type": "code",
   "execution_count": null,
   "id": "eed85383-d1e7-4142-aba4-19c77d20ad86",
   "metadata": {},
   "outputs": [],
   "source": [
    "# Uncomment the following line to print all the keys\n",
    "\n",
    "#print(events.keys())"
   ]
  },
  {
   "cell_type": "markdown",
   "id": "d93956f8-3ebc-4483-a78f-08383df897fa",
   "metadata": {},
   "source": [
    "Again, we have provided you with a helper function called `pretty_print` that will print subsets of the keys, based on strings\n",
    "that you require or ignore. \n",
    "\n",
    "It will also format that output based on how many characters you want in a column (you are limited to 80 characters per line). \n",
    "\n",
    "Here is some example usage. "
   ]
  },
  {
   "cell_type": "code",
   "execution_count": null,
   "id": "753e6931-609a-4dc3-a032-3c25df01cf02",
   "metadata": {},
   "outputs": [],
   "source": [
    "# Pretty print all the keys with the default format\n",
    "#pretty_print(events.keys())\n",
    "\n",
    "# Pretty print keys with 30 characters per column, for keys that contain `FatJet`\n",
    "#pretty_print(events.keys(), fmt='30s', require='FatJet')\n",
    "\n",
    "# Pretty print keys with 40 characters per column, for keys that contain `Muon` and `Iso` but ignore ones with `HLT`\n",
    "#pretty_print(events.keys(), fmt='40s', require=['Muon', 'Iso'], ignore='HLT')\n",
    "\n",
    "# Pretty print keys with 40 characters per column, for keys that contain `HLT` and `TkMu50`\n",
    "#pretty_print(events.keys(), fmt='40s', require=['HLT', 'TkMu50'])\n",
    "\n",
    "# Pretty print keys with 40 characters per column, for keys that contain `HLT`\n",
    "#pretty_print(events.keys(), fmt='40s', require='HLT')\n",
    "\n",
    "# Pretty print keys with 40 characters per column, for keys that contain `Jet_` but ignore ones with `Fat`\n",
    "pretty_print(events.keys(), fmt='40s', require='Jet_', ignore='Fat')\n",
    "\n",
    "# Pretty print keys with 40 characters per column, for keys that contain `PuppiMET` but ignore ones with `Raw`\n",
    "#pretty_print(events.keys(), fmt='40s', require='PuppiMET', ignore='Raw')"
   ]
  },
  {
   "cell_type": "markdown",
   "id": "789ae07e-32bd-4d0a-86eb-062d9aa2cbc9",
   "metadata": {},
   "source": [
    "## Extract some data\n",
    "\n",
    "We're going to pull out subsets of the data in order to do our analysis. \n",
    "\n",
    "As a reminder, you can find a list of the variable names in each dataset on the CERN Open Data Portal page for that dataset, for example, [here](https://opendata.cern.ch/eos/opendata/cms/dataset-semantics/NanoAODSIM/75156/ZprimeToTT_M2000_W20_TuneCP2_PSweights_13TeV-madgraph-pythiaMLM-pythia8_doc.html).\n",
    "\n",
    "We're going to work with the following sets of variables\n",
    "* `FatJet` for jets that are merges\n",
    "* `Jet` for non-merged jets\n",
    "* `Muon` for muons\n",
    "* `PuppiMET` which is missing energy in the transverse plane (MET) for pileup per particle identification (Puppi)\n",
    "\n",
    "Running this cell might take a little bit if you are running over the bigger file. However, once you pull out the values, later calculations are much faster. "
   ]
  },
  {
   "cell_type": "code",
   "execution_count": 12,
   "id": "ecdfee36-c6ae-4b6a-be8a-bb86ef962c8b",
   "metadata": {
    "scrolled": true
   },
   "outputs": [
    {
     "name": "stdout",
     "output_type": "stream",
     "text": [
      "Time to access data is 11.38 seconds\n"
     ]
    }
   ],
   "source": [
    "start_time = time.time()\n",
    "\n",
    "# Jets ---------------------------------------------------\n",
    "# B-tagging variable\n",
    "jet_btagB = events['Jet_btagDeepB'].array()\n",
    "jet_btagFlavB = events ['Jet_btagDeepFlavB'].array()\n",
    "\n",
    "# Quark-Gluon Likelihood\n",
    "jet_qgl = events[\"Jet_qgl\"].array()\n",
    "\n",
    "# Measure of quality of measurement of jet\n",
    "jet_jetid = events['Jet_jetId'].array()\n",
    "\n",
    "# 4-momentum in pt, eta, phi, mass \n",
    "jet_pt = events['Jet_pt'].array()\n",
    "jet_eta = events['Jet_eta'].array()\n",
    "jet_phi = events['Jet_phi'].array()\n",
    "jet_mass = events['Jet_mass'].array()\n",
    "\n",
    "\n",
    "# Muons ---------------------------------------------------\n",
    "# Muon isolation\n",
    "muon_iso = events['Muon_miniIsoId'].array()\n",
    "\n",
    "# Measure of quality of how well the muon is reconstructed\n",
    "muon_tightId = events['Muon_tightId'].array()\n",
    "\n",
    "# 4-momentum in pt, eta, phi, mass \n",
    "muon_pt = events['Muon_pt'].array()\n",
    "muon_eta = events['Muon_eta'].array()\n",
    "muon_phi = events['Muon_phi'].array()\n",
    "muon_mass = events['Muon_mass'].array()\n",
    "\n",
    "\n",
    "# MET ------------------------------------------------------\n",
    "# 3-momentum in pt, eta, phi, mass \n",
    "met_pt = events['PuppiMET_pt'].array()\n",
    "met_eta = 0*events['PuppiMET_pt'].array()  # Fix this to be 0\n",
    "met_phi = events['PuppiMET_phi'].array() \n",
    "\n",
    "#FatJets ----------------------------------------------------\n",
    "# 4-momentum in pt, eta, phi, mass \n",
    "fatjet_pt = events['FatJet_pt'].array()\n",
    "fatjet_eta = events['FatJet_eta'].array()\n",
    "fatjet_phi = events['FatJet_phi'].array()\n",
    "fatjet_mass = events['FatJet_mass'].array()\n",
    "\n",
    "print(f'Time to access data is {time.time() - start_time:.2f} seconds')"
   ]
  },
  {
   "cell_type": "code",
   "execution_count": 13,
   "id": "aa1ea7ba-c352-4122-a364-22b80b7dfd93",
   "metadata": {},
   "outputs": [],
   "source": [
    "## Putting Data into Structured Variables (Awkward)\n",
    "\n",
    "fatjets = ak.zip(\n",
    "    {\"pt\": fatjet_pt, \n",
    "     \"eta\": fatjet_eta, \n",
    "     \"phi\": fatjet_phi, \n",
    "     \"mass\": fatjet_mass},\n",
    "    with_name=\"Momentum4D\",\n",
    ")\n",
    "\n",
    "muons = ak.zip(\n",
    "    {\"pt\": muon_pt, \n",
    "     \"eta\": muon_eta, \n",
    "     \"phi\": muon_phi, \n",
    "     \"mass\": muon_mass},\n",
    "    with_name=\"Momentum4D\",\n",
    ")\n",
    "\n",
    "jets = ak.zip(\n",
    "    {\"pt\": jet_pt, \n",
    "     \"eta\": jet_eta, \n",
    "     \"phi\": jet_phi, \n",
    "     \"mass\": jet_mass,\n",
    "     \"DeepB\": jet_btagB,\n",
    "     \"QGL\": jet_qgl },\n",
    "    with_name=\"Momentum4D\",\n",
    ")\n",
    "\n",
    "met = ak.zip(\n",
    "    {\"pt\": met_pt, \n",
    "     \"eta\": met_eta, \n",
    "     \"phi\": met_phi, \n",
    "     \"mass\": 0}, # We assume this is a neutrino with 0 mass\n",
    "    with_name=\"Momentum4D\",\n",
    ")\n"
   ]
  },
  {
   "cell_type": "markdown",
   "id": "80b58aee-eb58-404b-8777-649f1b4d8a9e",
   "metadata": {},
   "source": [
    "# What comes next?  "
   ]
  },
  {
   "cell_type": "markdown",
   "id": "51701bed-b2e9-418b-b085-f34d775ea28f",
   "metadata": {
    "jp-MarkdownHeadingCollapsed": true
   },
   "source": [
    "## Basic Plots\n",
    "\n",
    "- Simple Muon Cuts (pt > cut)\n",
    "- Simpe Jet Cuts (pt > cut)\n",
    "- The B-tag cut (DeepB > tight, medium, loose)"
   ]
  },
  {
   "cell_type": "code",
   "execution_count": null,
   "id": "61661f4f-e8ea-46f4-8452-15b1cd613eb2",
   "metadata": {},
   "outputs": [],
   "source": [
    "#Simple Muon and Jet cuts \n",
    "muon_cut = muon_pt > 20 \n",
    "jet_cut = jet_pt > 20 \n",
    "\n",
    "cuts = [0, 10, 15, 20]\n",
    "for cut in cuts: \n",
    "    muon_cut = muon_pt > cut \n",
    "    jet_cut = jet_pt > cut\n",
    "    \n",
    "    muon_pt_cut = muon_pt[muon_cut]\n",
    "    jet_pt_cut = jet_pt[jet_cut]\n",
    "\n",
    "    nmuon = ak.num(muon_pt_cut)\n",
    "    njet = ak.num(jet_pt_cut)\n",
    "\n",
    "    plt.figure(figsize=(12,4))\n",
    "    plt.subplot(1,2,1)\n",
    "    plt.hist(nmuon, bins=100);\n",
    "    plt.xlabel(\"No of Muons\")\n",
    "    plt.ylabel(\"No of Events\")\n",
    "    plt.subplot(1,2,2)\n",
    "    plt.hist(njet,bins=100);\n",
    "    plt.xlabel(\"No of Jets\")\n",
    "    plt.ylabel(\"No of Events\")"
   ]
  },
  {
   "cell_type": "code",
   "execution_count": null,
   "id": "8db4cf66-2d97-4f98-a87c-30f201c820b2",
   "metadata": {},
   "outputs": [],
   "source": [
    "#btag_cuts\n",
    "'''Values: \n",
    "Loose (10% misidentification rate): Jet_btagDeepB > 0.1918 , Jet_btagDeepFlavB > 0.0480\n",
    "Medium (1% misidentification rate): Jet_btagDeepB > 0.5847, Jet_btagDeepFlavB > 0.2489\n",
    "Tight (0.1% misidentification rate): Jet_btagDeepB > 0.8767, Jet_btagDeepFlavB > 0.6377\n",
    "'''\n",
    "def give_btag_cuts(choice, accuracy):\n",
    "    '''\n",
    "    choice = \"DeepB\" or \"DeepFlav\" \n",
    "    accuracy = \"loose\" \"medium\" or \"tight\" \n",
    "\n",
    "    Loose:  Jet_btagDeepB > 0.1918 , Jet_btagDeepFlavB > 0.0480\n",
    "    Medium: Jet_btagDeepB > 0.5847, Jet_btagDeepFlavB > 0.2489\n",
    "    Tight: Jet_btagDeepB > 0.8767, Jet_btagDeepFlavB > 0.6377\n",
    "    '''\n",
    "    if (choice == \"DeepB\") & (accuracy == \"tight\") : return jet_btagB > 0.8767\n",
    "    if (choice == \"DeepB\") & (accuracy == \"medium\"): return jet_btagB > 0.5847\n",
    "    if (choice == \"DeepB\") & (accuracy == \"loose\"): return jet_btagB > 0.1918\n",
    "\n",
    "    if choice == \"DeepFlav\":\n",
    "        if accuracy == \"tight\": return jet_btagFlavB > 0.6377\n",
    "        if accuracy == \"medium\": return jet_btagFlavB > 0.2489\n",
    "        if accuracy == \"loose\": return jet_btagFlavB > 0.0480\n",
    "\n",
    "jet_btag_tight = jet_pt[give_btag_cuts(\"DeepB\",\"tight\")]\n",
    "jet_btag_medium = jet_pt[give_btag_cuts(\"DeepB\",\"medium\")]\n",
    "jet_btag_loose = jet_pt[give_btag_cuts(\"DeepB\",\"loose\")]\n",
    "\n",
    "njet_btag_tight = ak.num(jet_btag_tight)\n",
    "njet_btag_medium = ak.num(jet_btag_medium)\n",
    "njet_btag_loose = ak.num(jet_btag_loose)\n",
    "\n",
    "#Comparision of btagging loose, medium and tight\n",
    "edgecolors = ['red', 'orange' , 'yellow']\n",
    "all_njets = [njet_btag_tight, njet_btag_medium, njet_btag_loose]\n",
    "names = [\"tight\", \"medium\", \"loose\"]\n",
    "for all, name in zip(all_njets,names): \n",
    "    plt.hist(all, bins = 100, alpha = 0.5, label = f\"Accuracy = {name}\")\n",
    "    plt.legend()\n",
    "plt.xlabel(\"No of Jets\")\n",
    "plt.ylabel(\"No of Events\")\n",
    "plt.show()\n",
    "\n",
    "#Comparison of the two different btagging \n",
    "jet_btagF_tight = jet_pt[give_btag_cuts(\"DeepFlav\",\"tight\")]\n",
    "jet_btagF_medium = jet_pt[give_btag_cuts(\"DeepFlav\",\"medium\")]\n",
    "jet_btagF_loose = jet_pt[give_btag_cuts(\"DeepFlav\",\"loose\")]\n",
    "\n",
    "njet_btagF_tight = ak.num(jet_btagF_tight)\n",
    "njet_btagF_medium = ak.num(jet_btagF_medium)\n",
    "njet_btagF_loose = ak.num(jet_btagF_loose)\n",
    "\n",
    "plt.subplot(3, 1, 1)\n",
    "plt.hist(njet_btagF_tight, bins = 100,label= \"DeepFlav\");\n",
    "plt.hist(njet_btag_tight, bins=100, label = \"DeepB\");\n",
    "plt.legend()\n",
    "\n",
    "plt.subplot(3,1,2)\n",
    "plt.hist(njet_btagF_medium, bins = 100, label = \"DeepFlav\");\n",
    "plt.hist(njet_btag_medium, bins=100, label = \"DeepB\");\n",
    "plt.legend()\n",
    "\n",
    "plt.subplot(3,1,3)\n",
    "plt.hist(njet_btagF_loose, bins = 100, label = \"DeepFlav\");\n",
    "plt.hist(njet_btag_loose, bins=100, label = \"DeepB\");\n",
    "plt.legend()\n",
    "\n",
    "plt.tight_layout()"
   ]
  },
  {
   "cell_type": "code",
   "execution_count": null,
   "id": "75690734-5987-48d6-9c7e-7b397055959b",
   "metadata": {},
   "outputs": [],
   "source": [
    "#Mixing b_tag and jet_cuts\n",
    "jet_cut = jet_pt > cut\n",
    "jet_pt_cut = jet_pt[jet_cut]\n",
    "jet_pt_btag_cut1 = jet_pt[give_btag_cuts(\"DeepB\",\"loose\")[jet_cut]]\n",
    "jet_pt_btag_cut2 = jet_pt[give_btag_cuts(\"DeepB\",\"medium\")[jet_cut]]\n",
    "jet_pt_btag_cut3 = jet_pt[give_btag_cuts(\"DeepB\",\"tight\")[jet_cut]]\n",
    "njet_pt_btag_cut1 = ak.num(jet_pt_btag_cut1);\n",
    "njet_pt_btag_cut2 = ak.num(jet_pt_btag_cut2);\n",
    "njet_pt_btag_cut3 = ak.num(jet_pt_btag_cut3);\n",
    "plt.hist(njet_pt_btag_cut1, bins = 100, label = f\"Cut Count: {ak.sum(njet_pt_btag_cut1)} Accuracy: Loose\");\n",
    "plt.hist(njet_pt_btag_cut2, bins = 100, label = f\"Cut Count: {ak.sum(njet_pt_btag_cut2)} Accuracy: Medium\");\n",
    "plt.hist(njet_pt_btag_cut3, bins = 100, label = f\"Cut Count: {ak.sum(njet_pt_btag_cut3)} Accuracy: Tight\");\n",
    "plt.legend()"
   ]
  },
  {
   "cell_type": "markdown",
   "id": "9eaa45da-b65c-4886-8e75-cc64006b6af1",
   "metadata": {
    "jp-MarkdownHeadingCollapsed": true
   },
   "source": [
    "## Invariant Masses of the Top Quark and W Boson"
   ]
  },
  {
   "cell_type": "code",
   "execution_count": null,
   "id": "718e604f-93ce-4890-84d0-eb0291fb568c",
   "metadata": {},
   "outputs": [],
   "source": [
    "jet_DeepB=events[\"Jet_btagDeepB\"].array()\n"
   ]
  },
  {
   "cell_type": "code",
   "execution_count": null,
   "id": "573329e5-2a24-47af-8d0e-44c0d9131a0d",
   "metadata": {},
   "outputs": [],
   "source": [
    "#Finding the invariant mass \n",
    "fatjets = ak.zip(\n",
    "    {\"pt\": fatjet_pt, \n",
    "     \"eta\": fatjet_eta, \n",
    "     \"phi\": fatjet_phi, \n",
    "     \"mass\": fatjet_mass},\n",
    "    with_name=\"Momentum4D\",\n",
    ")\n",
    "\n",
    "muons = ak.zip(\n",
    "    {\"pt\": muon_pt, \n",
    "     \"eta\": muon_eta, \n",
    "     \"phi\": muon_phi, \n",
    "     \"mass\": muon_mass},\n",
    "    with_name=\"Momentum4D\",\n",
    ")\n",
    "\n",
    "jets = ak.zip(\n",
    "    {\"pt\": jet_pt, \n",
    "     \"eta\": jet_eta, \n",
    "     \"phi\": jet_phi, \n",
    "     \"mass\": jet_mass,\n",
    "     \"DeepB\": jet_DeepB},\n",
    "    with_name=\"Momentum4D\",\n",
    ")\n",
    "\n",
    "met = ak.zip(\n",
    "    {\"pt\": met_pt, \n",
    "     \"eta\": met_eta, \n",
    "     \"phi\": met_phi, \n",
    "     \"mass\": 0}, # We assume this is a neutrino with 0 mass\n",
    "    with_name=\"Momentum4D\",\n",
    ")\n"
   ]
  },
  {
   "cell_type": "code",
   "execution_count": null,
   "id": "b8940346-c92f-414a-bb78-9aa3d52e8276",
   "metadata": {
    "scrolled": true
   },
   "outputs": [],
   "source": [
    "# Cuts\n",
    "\n",
    "#Muons and Jet Cuts \n",
    "muon_cut = (muons.pt > 20) & (np.abs(muons.eta) < 2.1)\n",
    "jet_cut = (jets.pt>20) & (np.abs(jets.eta) < 2.4)\n",
    "\n",
    "muons_cut = muons[muon_cut]\n",
    "jets_cut = jets[jet_cut]\n",
    "\n",
    "n_muon = ak.num(muons_cut)\n",
    "n_jets = ak.num(jets_cut)\n",
    "n_bjets = ak.sum(jets.DeepB > 0.8767, axis = 1) \n",
    "\n",
    "mega_cut = (n_muon == 1) & (n_jets == 4) & (n_bjets == 2)\n",
    "\n",
    "jets_mcut = jets_cut[mega_cut]\n",
    "\n",
    "trijet = ak.combinations(jets_mcut, 3, fields=[\"j1\", \"j2\", \"j3\"])\n",
    "trijet[\"p4\"] = trijet.j1 +  trijet.j2 +  trijet.j3                       \n",
    "threshold_1 = 0.8767\n",
    "threshold_2 = 0.2\n",
    "# btag_count1= (trijet.j1.DeepB > threshold_1) + (trijet.j2.DeepB > threshold_1) + (trijet.j3.DeepB > threshold_1)\n",
    "# btag_count2= (trijet.j1.DeepB < threshold) + (trijet.j2.DeepB < threshold) + (trijet.j3.DeepB < threshold_2)\n",
    "# mask1 = btag_count1 == 1\n",
    "# mask2 = btag_count2 == 2\n",
    "btag_mask = ((trijet.j1.DeepB > threshold_1) & (trijet.j2.DeepB < threshold_2) & (trijet.j3.DeepB < threshold_2)) | \\\n",
    "            ((trijet.j1.DeepB < threshold_2) & (trijet.j2.DeepB > threshold_1) & (trijet.j3.DeepB < threshold_2)) | \\\n",
    "            ((trijet.j1.DeepB < threshold_2) & (trijet.j2.DeepB < threshold_2) & (trijet.j3.DeepB > threshold_1)) \n",
    "trijet_mass = trijet[\"p4\"][btag_mask][ak.argmax(trijet.p4.pt[btag_mask], axis =1, keepdims = True)].mass\n",
    "\n",
    "tri_imass = ak.flatten(trijet_mass)\n",
    "plt.hist(tri_imass, bins = 100,range=(0,400))\n",
    "plt.axvline(175, color = \"red\",ls=\"--\",label=\"Mass of Top Quark\")\n",
    "plt.legend()"
   ]
  },
  {
   "cell_type": "code",
   "execution_count": null,
   "id": "7987b3cb-72e4-4536-a1bc-4e0de0e21f85",
   "metadata": {},
   "outputs": [],
   "source": [
    "trijet.j2[0][0], trijet.j3[0][0], trijet.p4[0][0]"
   ]
  },
  {
   "cell_type": "code",
   "execution_count": null,
   "id": "fb5affbc-69fb-47a3-b8b3-1010120edbc9",
   "metadata": {
    "scrolled": true
   },
   "outputs": [],
   "source": [
    "#DiJet Particle Mass \n",
    "mini_cut = (n_muon == 1) & (n_jets == 4)\n",
    "\n",
    "mincut_jet = jets_cut[mini_cut]\n",
    "\n",
    "dijet = ak.combinations(mincut_jet, 2, fields=[\"j1\",  \"j2\"])\n",
    "dijet[\"p3\"] = dijet.j1 +  dijet.j2     \n",
    "mask = (dijet.j1.DeepB < threshold_1) & (dijet.j2.DeepB < threshold_1) \n",
    "dijet = dijet[mask]\n",
    "dijet_mass = dijet[\"p3\"][ak.argmax(dijet.p3.pt, axis =1, keepdims = True)].mass  \n",
    "di_imass = ak.flatten(dijet_mass)\n",
    "plt.hist(di_imass, bins = 100, range=(0,250))\n",
    "plt.axvline(80.3, color = \"red\",ls=\"--\",label=\"Mass of W boson\")\n",
    "plt.legend()"
   ]
  },
  {
   "cell_type": "code",
   "execution_count": null,
   "id": "24d20988-b58d-4892-8820-bf2c05d2d8e5",
   "metadata": {},
   "outputs": [],
   "source": [
    "trijet.j1[0][0]"
   ]
  },
  {
   "cell_type": "markdown",
   "id": "e114f404-74fe-4984-a7c0-2a3132a4354b",
   "metadata": {
    "jp-MarkdownHeadingCollapsed": true
   },
   "source": [
    "## Getting 4jet combination mass from 8jets"
   ]
  },
  {
   "cell_type": "code",
   "execution_count": 32,
   "id": "d648b9b5-4276-4c84-b547-432a848b9f5d",
   "metadata": {},
   "outputs": [],
   "source": [
    "import matplotlib.colors as colors"
   ]
  },
  {
   "cell_type": "code",
   "execution_count": 59,
   "id": "85bd467d-64b6-42fb-8c4f-a02af15dac29",
   "metadata": {},
   "outputs": [
    {
     "name": "stdout",
     "output_type": "stream",
     "text": [
      "Time to rearrange the combinations is 1.38 seconds\n"
     ]
    }
   ],
   "source": [
    "# 8-jets and 4-combinations: Samyak\n",
    "start_time = time.time()\n",
    "jet_cut = (jets.pt>20) & (np.abs(jets.eta) < 2.4) & (jets.QGL > 0.5)\n",
    "jets_cut = jets[jet_cut]\n",
    "\n",
    "n_jets = ak.num(jets_cut)\n",
    "n_jets_mask = n_jets == 8\n",
    "jets_ncut = jets_cut[n_jets_mask]\n",
    "\n",
    "disjoint_combo1=[]\n",
    "disjoint_combo2=[]\n",
    "quadrajet = ak.combinations(jets_ncut, 4, fields=[\"j1\", \"j2\", \"j3\",\"j4\"])\n",
    "quadrajet[\"p4\"]=quadrajet.j1 + quadrajet.j2 + quadrajet.j3 + quadrajet.j4 \n",
    "for insanity in quadrajet: \n",
    "    disjoint_combo1.append(insanity[0:35])\n",
    "    disjoint_combo2.append(insanity[35:70][::-1])\n",
    "print(f'Time to rearrange the combinations is {time.time() - start_time:.2f} seconds')    "
   ]
  },
  {
   "cell_type": "code",
   "execution_count": 60,
   "id": "730655d7-45a0-49cf-b6f4-2ec202fe8585",
   "metadata": {},
   "outputs": [
    {
     "name": "stdout",
     "output_type": "stream",
     "text": [
      "Time to calculate the mass is 3.25 seconds\n"
     ]
    }
   ],
   "source": [
    "combocombo1=[]\n",
    "combocombo2=[]\n",
    "start_time = time.time()\n",
    "for i in range(len(disjoint_combo1)):\n",
    "    combocombo1.append(disjoint_combo1[i][\"p4\"].mass.to_list())\n",
    "    combocombo2.append(disjoint_combo2[i][\"p4\"].mass.to_list())\n",
    "print(f'Time to calculate the mass is {time.time() - start_time:.2f} seconds')  "
   ]
  },
  {
   "cell_type": "code",
   "execution_count": 54,
   "id": "3bf6dff4-166a-422b-bf9b-d855562088d7",
   "metadata": {},
   "outputs": [
    {
     "name": "stdout",
     "output_type": "stream",
     "text": [
      "Time for plotting a scatter plot is 0.29 seconds\n"
     ]
    },
    {
     "data": {
      "image/png": "[encoded data removed]",
      "text/plain": [
       "<Figure size 640x480 with 1 Axes>"
      ]
     },
     "metadata": {},
     "output_type": "display_data"
    }
   ],
   "source": [
    "start_time = time.time()\n",
    "plt.scatter(ak.flatten(combocombo1).to_list(), ak.flatten(combocombo2).to_list(), color=\"blue\",s=3)\n",
    "plt.xlabel(\"Mass of 4jet combinations\")\n",
    "plt.ylabel(\"Mass of the other 4jet combinations\")\n",
    "#plt.ylim(0,2500)\n",
    "#plt.xlim(0,2500)\n",
    "print(f'Time for plotting a scatter plot is {time.time() - start_time:.2f} seconds')    "
   ]
  },
  {
   "cell_type": "code",
   "execution_count": 55,
   "id": "d3466111-3d13-476f-a415-3517f4ea8607",
   "metadata": {},
   "outputs": [
    {
     "name": "stdout",
     "output_type": "stream",
     "text": [
      "Time to plot a 2D histogram is 0.04 seconds\n"
     ]
    },
    {
     "data": {
      "text/plain": [
       "<matplotlib.legend.Legend at 0x7f5181ea8850>"
      ]
     },
     "execution_count": 55,
     "metadata": {},
     "output_type": "execute_result"
    },
    {
     "data": {
      "image/png": "[encoded data removed]",
      "text/plain": [
       "<Figure size 640x480 with 2 Axes>"
      ]
     },
     "metadata": {},
     "output_type": "display_data"
    }
   ],
   "source": [
    "start_time = time.time()\n",
    "counts, xedges, yedges, _ = plt.hist2d(ak.flatten(combocombo1).to_list(), ak.flatten(combocombo2).to_list(),bins=100, norm=colors.LogNorm())\n",
    "i, j = np.unravel_index(np.argmax(counts), counts.shape)\n",
    "x_peak = (xedges[i] + xedges[i+1])/2 \n",
    "y_peak = (yedges[j] + yedges[j+1])/2 \n",
    "plt.plot(x_peak, y_peak,\"ro\", markerfacecolor=\"none\",label=\"Max Count\")\n",
    "plt.colorbar()\n",
    "plt.xlabel(\"Mass of 4jet combinations\")\n",
    "plt.ylabel(\"Mass of the other 4jet combinations\")\n",
    "print(f'Time to plot a 2D histogram is {time.time() - start_time:.2f} seconds')  \n",
    "plt.legend()\n",
    "#plt.ylim(0,1250)\n",
    "#plt.xlim(0,1250)"
   ]
  },
  {
   "cell_type": "code",
   "execution_count": 56,
   "id": "dfe5316f-050c-43da-a587-70129d40415e",
   "metadata": {},
   "outputs": [
    {
     "data": {
      "text/plain": [
       "42910"
      ]
     },
     "execution_count": 56,
     "metadata": {},
     "output_type": "execute_result"
    }
   ],
   "source": [
    "len(ak.flatten(combocombo1))"
   ]
  },
  {
   "cell_type": "markdown",
   "id": "b038167d-0c55-4e8f-8d93-9f059f8b34e4",
   "metadata": {},
   "source": [
    "## Dijets from Quadjets A.K.A Combinatorics Hell (hopefully not)"
   ]
  },
  {
   "cell_type": "code",
   "execution_count": 14,
   "id": "10d505c2-08bb-431f-aa78-f73942906379",
   "metadata": {},
   "outputs": [
    {
     "name": "stdout",
     "output_type": "stream",
     "text": [
      "Cutting: 0.18134808540344238\n",
      "Pairing the 8C4 disjointed combinations: 0.013022184371948242\n",
      "Pairing and Calculating Mass of the Quadjets: 0.3077969551086426\n",
      "Flattening the Data: 0.014751911163330078\n",
      "The whole code block: 0.5173592567443848\n"
     ]
    }
   ],
   "source": [
    "# Cuts \n",
    "start_time1 = time.time()\n",
    "jet_cut = (jets.pt>20) & (np.abs(jets.eta) < 2.4) & (jets.QGL > 0.5)\n",
    "jets_cut = jets[jet_cut]\n",
    "\n",
    "n_jets = ak.num(jets_cut)\n",
    "n_jets_mask = n_jets == 8 \n",
    "jets_ncut = jets_cut[n_jets_mask]\n",
    "\n",
    "jets_ncut = jets_ncut[0:10] # test to see first 10 events\n",
    "disjoint_combo1=[]\n",
    "disjoint_combo2=[]\n",
    "print(f\"Cutting: {time.time() - start_time1}\")\n",
    "\n",
    "# Making disjointed 8C4 combinations\n",
    "start_time2 = time.time()\n",
    "quadrajet = ak.combinations(jets_ncut, 4, fields=[\"j1\", \"j2\", \"j3\",\"j4\"])\n",
    "for insanity in quadrajet: \n",
    "    disjoint_combo1.append(insanity[0:35])\n",
    "    disjoint_combo2.append(insanity[35:70][::-1])\n",
    "print(f\"Pairing the 8C4 disjointed combinations: {time.time() - start_time2}\")\n",
    "\n",
    "# Calculating Dijet Masses from the First Quadjet \n",
    "start_time3 = time.time()\n",
    "jet1=[]\n",
    "jet2=[]\n",
    "jet3=[]\n",
    "jet4=[]\n",
    "for jet_combo1,jet_combo2 in zip(disjoint_combo1,disjoint_combo2): \n",
    "    dijet1 = jet_combo1.j1 + jet_combo1.j2\n",
    "    dijet2 = jet_combo1.j3 + jet_combo1.j4\n",
    "    dijet3 = jet_combo2.j1 + jet_combo2.j2\n",
    "    dijet4 = jet_combo2.j3 + jet_combo2.j4\n",
    "    jet1.append(dijet1.mass) \n",
    "    jet2.append(dijet2.mass)\n",
    "    jet3.append(dijet3.mass) \n",
    "    jet4.append(dijet4.mass)\n",
    "  \n",
    "print(f\"Pairing and Calculating Mass of the Quadjets: {time.time() - start_time3}\")\n",
    "\n",
    "start_time5 = time.time()\n",
    "jet1_flat = ak.flatten(jet1)\n",
    "jet2_flat = ak.flatten(jet2)\n",
    "jet3_flat = ak.flatten(jet3)\n",
    "jet4_flat = ak.flatten(jet4)\n",
    "\n",
    "print(f\"Flattening the Data: {time.time() - start_time5}\")\n",
    "\n",
    "print(f\"The whole code block: {time.time() - start_time1}\")"
   ]
  },
  {
   "cell_type": "code",
   "execution_count": 15,
   "id": "01d9f67f-0dbd-40e7-a294-69220b4aff7c",
   "metadata": {},
   "outputs": [
    {
     "data": {
      "image/png": "[encoded data removed]",
      "text/plain": [
       "<Figure size 640x480 with 1 Axes>"
      ]
     },
     "metadata": {},
     "output_type": "display_data"
    }
   ],
   "source": [
    "plt.scatter(jet1_flat , jet2_flat,s=1);\n",
    "#plt.xlim(0,400);\n",
    "#plt.ylim(0,1000);"
   ]
  },
  {
   "cell_type": "code",
   "execution_count": 16,
   "id": "0cf10d80-63cc-42a5-9013-9ff4130ca15a",
   "metadata": {},
   "outputs": [],
   "source": [
    "import matplotlib.colors as colors"
   ]
  },
  {
   "cell_type": "code",
   "execution_count": 17,
   "id": "3f83b038-6407-42ad-8d74-89e0241d9ffd",
   "metadata": {},
   "outputs": [
    {
     "data": {
      "text/plain": [
       "<matplotlib.colorbar.Colorbar at 0x7fe4f96e9dd0>"
      ]
     },
     "execution_count": 17,
     "metadata": {},
     "output_type": "execute_result"
    },
    {
     "data": {
      "image/png": "[encoded data removed]",
      "text/plain": [
       "<Figure size 640x480 with 2 Axes>"
      ]
     },
     "metadata": {},
     "output_type": "display_data"
    }
   ],
   "source": [
    "plt.hist2d(jet1_flat.to_list() , jet2_flat.to_list(),bins=100, norm=colors.LogNorm());\n",
    "plt.colorbar()\n",
    "#plt.xlim(0,40);\n",
    "#plt.ylim(0,40);"
   ]
  },
  {
   "cell_type": "code",
   "execution_count": 19,
   "id": "ecf35ac4-1bf7-4289-ba41-63f521b2bf0c",
   "metadata": {},
   "outputs": [
    {
     "data": {
      "image/png": "[encoded data removed]",
      "text/plain": [
       "<Figure size 640x480 with 1 Axes>"
      ]
     },
     "metadata": {},
     "output_type": "display_data"
    }
   ],
   "source": [
    "plt.scatter(jet3_flat , jet4_flat,s=0.1);\n",
    "#plt.xlim(0,500);\n",
    "#plt.ylim(0,150);"
   ]
  },
  {
   "cell_type": "code",
   "execution_count": 99,
   "id": "819631f2-f8eb-4fd3-b694-860a48d5873b",
   "metadata": {},
   "outputs": [
    {
     "data": {
      "text/plain": [
       "<matplotlib.colorbar.Colorbar at 0x7f51802df990>"
      ]
     },
     "execution_count": 99,
     "metadata": {},
     "output_type": "execute_result"
    },
    {
     "data": {
      "image/png": "[encoded data removed]",
      "text/plain": [
       "<Figure size 640x480 with 2 Axes>"
      ]
     },
     "metadata": {},
     "output_type": "display_data"
    }
   ],
   "source": [
    "plt.hist2d(jet3_flat.to_list() ,jet4_flat.to_list(),bins=100, norm=colors.LogNorm());\n",
    "plt.colorbar()\n",
    "#plt.xlim(0,40);\n",
    "#plt.ylim(0,40);"
   ]
  },
  {
   "cell_type": "code",
   "execution_count": 80,
   "id": "fe8aa7d6-6b23-4e2a-9e00-33ddf6d574bf",
   "metadata": {
    "collapsed": true,
    "jupyter": {
     "outputs_hidden": true
    }
   },
   "outputs": [
    {
     "data": {
      "image/png": "[encoded data removed]",
      "text/plain": [
       "<Figure size 640x480 with 1 Axes>"
      ]
     },
     "metadata": {},
     "output_type": "display_data"
    }
   ],
   "source": [
    "plt.scatter(jet1_flat[0:35] , jet2_flat[0:35]);\n",
    "#plt.scatter(jet1_flat[35:70] , jet2_flat[35:70]);\n",
    "#plt.scatter(jet1_flat[70:105] , jet2_flat[70:105]);\n",
    "#plt.xlim(0,400);\n",
    "#plt.ylim(0,1000);"
   ]
  },
  {
   "cell_type": "code",
   "execution_count": 1,
   "id": "d7b98d6b-20e7-4499-b89d-5cf387d8bdbf",
   "metadata": {},
   "outputs": [
    {
     "ename": "NameError",
     "evalue": "name 'plt' is not defined",
     "output_type": "error",
     "traceback": [
      "\u001b[31m---------------------------------------------------------------------------\u001b[39m",
      "\u001b[31mNameError\u001b[39m                                 Traceback (most recent call last)",
      "\u001b[36mCell\u001b[39m\u001b[36m \u001b[39m\u001b[32mIn[1]\u001b[39m\u001b[32m, line 1\u001b[39m\n\u001b[32m----> \u001b[39m\u001b[32m1\u001b[39m \u001b[43mplt\u001b[49m.scatter(jet3_flat[\u001b[32m0\u001b[39m:\u001b[32m35\u001b[39m] , jet4_flat[\u001b[32m0\u001b[39m:\u001b[32m35\u001b[39m]);\n\u001b[32m      2\u001b[39m plt.scatter(jet3_flat[\u001b[32m35\u001b[39m:\u001b[32m70\u001b[39m] , jet4_flat[\u001b[32m35\u001b[39m:\u001b[32m70\u001b[39m]);\n\u001b[32m      3\u001b[39m plt.scatter(jet3_flat[\u001b[32m70\u001b[39m:\u001b[32m105\u001b[39m] , jet4_flat[\u001b[32m70\u001b[39m:\u001b[32m105\u001b[39m]);\n",
      "\u001b[31mNameError\u001b[39m: name 'plt' is not defined"
     ]
    }
   ],
   "source": [
    "plt.scatter(jet3_flat[0:35] , jet4_flat[0:35]);\n",
    "plt.scatter(jet3_flat[35:70] , jet4_flat[35:70]);\n",
    "plt.scatter(jet3_flat[70:105] , jet4_flat[70:105]);"
   ]
  },
  {
   "cell_type": "code",
   "execution_count": null,
   "id": "807c5948-85ed-43ea-a676-253bc8321be8",
   "metadata": {},
   "outputs": [],
   "source": [
    "test_data = jets_ncut[0:10]\n",
    "for event in test_data: \n",
    "    test_combo = ak.combinations(test_data , 2)\n",
    "    test_mod = [test_combo, test_combo, test_combo, test_combo, test_combo, test_combo, test_combo, test_combo]\n",
    "    test_crazy = ak.cartesian(test_mod)"
   ]
  },
  {
   "cell_type": "code",
   "execution_count": null,
   "id": "b8cc5f86-01be-4b59-be7a-7b42916e60f1",
   "metadata": {},
   "outputs": [],
   "source": [
    "test_crazy"
   ]
  },
  {
   "cell_type": "markdown",
   "id": "39cf1d9c-3ad8-4fbd-b230-8bdd82dcb253",
   "metadata": {},
   "source": [
    "## Quark and Gluon Jets"
   ]
  },
  {
   "cell_type": "code",
   "execution_count": 81,
   "id": "6ebf2103-b61d-4120-ba67-1967dd884a12",
   "metadata": {},
   "outputs": [],
   "source": [
    "ak_test = ak.Array([\n",
    "[1,2,3,4,5,6,7,8]\n",
    "])\n",
    "combo1=[]\n",
    "combo2=[]\n",
    "ak_comb = ak.combinations(ak_test, 2)\n",
    "ak_combII = ak.combinations(ak_comb,4,fields=[\"j1\", \"j2\", \"j3\", \"j4\"])\n",
    "for unique in ak_combII: \n",
    "    for stuff in unique: \n",
    "        if len(set(ak.ravel([stuff.j1.to_list(),stuff.j2.to_list(),stuff.j3.to_list(),stuff.j4.to_list()]))) == 8: \n",
    "            combo1.append(stuff)"
   ]
  },
  {
   "cell_type": "code",
   "execution_count": 60,
   "id": "2f8f7d7a-69ae-484c-bbbb-c9489134e98b",
   "metadata": {},
   "outputs": [
    {
     "data": {
      "text/plain": [
       "2"
      ]
     },
     "execution_count": 60,
     "metadata": {},
     "output_type": "execute_result"
    }
   ],
   "source": [
    "len(unique.j1[0].to_list())"
   ]
  },
  {
   "cell_type": "code",
   "execution_count": 79,
   "id": "d966425d-8d46-4a77-8048-c4a4a3cfa9ed",
   "metadata": {},
   "outputs": [
    {
     "data": {
      "text/html": [
       "<pre>[5,\n",
       " 6,\n",
       " 6,\n",
       " 7,\n",
       " 8,\n",
       " 7,\n",
       " 8,\n",
       " 8]\n",
       "---------------\n",
       "backend: cpu\n",
       "nbytes: 64 B\n",
       "type: 8 * int64</pre>"
      ],
      "text/plain": [
       "<Array [5, 6, 6, 7, 8, 7, 8, 8] type='8 * int64'>"
      ]
     },
     "execution_count": 79,
     "metadata": {},
     "output_type": "execute_result"
    }
   ],
   "source": [
    "ak.ravel([stuff.j1.to_list(),stuff.j2.to_list(),stuff.j3.to_list(),stuff.j4.to_list()])"
   ]
  },
  {
   "cell_type": "code",
   "execution_count": 88,
   "id": "88cbda05-7714-440f-894b-018d0d8a04f9",
   "metadata": {},
   "outputs": [
    {
     "data": {
      "text/plain": [
       "105"
      ]
     },
     "execution_count": 88,
     "metadata": {},
     "output_type": "execute_result"
    }
   ],
   "source": [
    "len(combo1)"
   ]
  },
  {
   "cell_type": "code",
   "execution_count": null,
   "id": "bb0ecbe7-1e45-47d7-9f65-d588ebdb8791",
   "metadata": {},
   "outputs": [],
   "source": [
    "ac[0][13:18]"
   ]
  },
  {
   "cell_type": "code",
   "execution_count": null,
   "id": "9d644b57-067c-42d8-bce9-51f18c36e554",
   "metadata": {},
   "outputs": [],
   "source": [
    "ac[0][18:22]"
   ]
  },
  {
   "cell_type": "code",
   "execution_count": null,
   "id": "a8bb08e8-2ef9-4ac2-8cb1-424c2794459c",
   "metadata": {},
   "outputs": [],
   "source": [
    "ac[0][22:25]"
   ]
  },
  {
   "cell_type": "code",
   "execution_count": null,
   "id": "7fed1651-e378-434f-bdb1-223ea36ff822",
   "metadata": {},
   "outputs": [],
   "source": [
    "ac[0][25:27]"
   ]
  },
  {
   "cell_type": "code",
   "execution_count": null,
   "id": "4d8c3840-efea-4b6b-a5b4-6e2f415ee358",
   "metadata": {},
   "outputs": [],
   "source": [
    "ac[0][27]"
   ]
  },
  {
   "cell_type": "code",
   "execution_count": null,
   "id": "16630f82-1bbc-42e2-b094-ea419706e8cc",
   "metadata": {},
   "outputs": [],
   "source": [
    "fields = jets.fields\n",
    "print(fields)\n",
    "\n",
    "for i in range(0,100):\n",
    "    output = \"\"\n",
    "    for jet in jets[i]:\n",
    "        for f in fields:\n",
    "            output += f'{f:6s}: {jet[f]:8.4f}  '\n",
    "        output += '\\n'\n",
    "    print(output)"
   ]
  },
  {
   "cell_type": "code",
   "execution_count": null,
   "id": "5124d261-261b-40e3-a1a7-845b00d97c3b",
   "metadata": {},
   "outputs": [],
   "source": []
  }
 ],
 "metadata": {
  "kernelspec": {
   "display_name": "Python 3 (ipykernel)",
   "language": "python",
   "name": "python3"
  },
  "language_info": {
   "codemirror_mode": {
    "name": "ipython",
    "version": 3
   },
   "file_extension": ".py",
   "mimetype": "text/x-python",
   "name": "python",
   "nbconvert_exporter": "python",
   "pygments_lexer": "ipython3",
   "version": "3.11.13"
  }
 },
 "nbformat": 4,
 "nbformat_minor": 5
}
