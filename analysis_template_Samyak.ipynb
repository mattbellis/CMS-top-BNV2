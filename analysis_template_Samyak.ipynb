{
 "cells": [
  {
   "cell_type": "markdown",
   "id": "bd03606f-4095-4934-a6ca-967f623f8a73",
   "metadata": {},
   "source": [
    "# Install or upgrade libraries\n",
    "\n",
    "It might be that you are running with the latest libraries and that they all work together fine. \n",
    "\n",
    "Running the following cell takes a minute or so but ensures that you have a consistent set of python tools. "
   ]
  },
  {
   "cell_type": "code",
   "execution_count": 2,
   "id": "43fe6edd-2ae6-4e0e-b143-c6198e14f79d",
   "metadata": {},
   "outputs": [
    {
     "name": "stdout",
     "output_type": "stream",
     "text": [
      "sys.version = '3.11.12 | packaged by conda-forge | (main, Apr 10 2025, 22:23:25) [GCC 13.3.0]'\n",
      "\n"
     ]
    }
   ],
   "source": [
    "import sys\n",
    "print(f\"{sys.version = }\\n\")\n"
   ]
  },
  {
   "cell_type": "code",
   "execution_count": 3,
   "id": "3c3fc0fa-3975-4b80-aa87-898c99c88b2b",
   "metadata": {},
   "outputs": [],
   "source": [
    "# If there are issues with fsspect-xrootd not being found, run this outside of Jupyter-notebook and restart\n",
    "# !pip install --upgrade fsspec-xrootd"
   ]
  },
  {
   "cell_type": "code",
   "execution_count": 4,
   "id": "f599a70a-2b2d-4492-9e03-fc3f5e037d6c",
   "metadata": {},
   "outputs": [
    {
     "name": "stdout",
     "output_type": "stream",
     "text": [
      "Requirement already satisfied: pip in /home/samyak/micromamba/envs/pyhep/lib/python3.11/site-packages (25.1.1)\n",
      "Requirement already satisfied: futures in /home/samyak/micromamba/envs/pyhep/lib/python3.11/site-packages (3.0.5)\n",
      "Requirement already satisfied: coffea in /home/samyak/micromamba/envs/pyhep/lib/python3.11/site-packages (2025.3.0)\n",
      "Requirement already satisfied: aiohttp in /home/samyak/micromamba/envs/pyhep/lib/python3.11/site-packages (from coffea) (3.12.4)\n",
      "Requirement already satisfied: awkward>=2.6.7 in /home/samyak/micromamba/envs/pyhep/lib/python3.11/site-packages (from coffea) (2.8.3)\n",
      "Requirement already satisfied: cachetools in /home/samyak/micromamba/envs/pyhep/lib/python3.11/site-packages (from coffea) (6.0.0)\n",
      "Requirement already satisfied: cloudpickle>=1.2.3 in /home/samyak/micromamba/envs/pyhep/lib/python3.11/site-packages (from coffea) (3.1.1)\n",
      "Requirement already satisfied: correctionlib>=2.6.0 in /home/samyak/micromamba/envs/pyhep/lib/python3.11/site-packages (from coffea) (2.7.0)\n",
      "Requirement already satisfied: dask-awkward>=2025.2.0 in /home/samyak/micromamba/envs/pyhep/lib/python3.11/site-packages (from coffea) (2025.3.0)\n",
      "Requirement already satisfied: dask-histogram>=2025.2.0 in /home/samyak/micromamba/envs/pyhep/lib/python3.11/site-packages (from coffea) (2025.2.0)\n",
      "Requirement already satisfied: dask>=2024.3.0 in /home/samyak/micromamba/envs/pyhep/lib/python3.11/site-packages (from dask[array]>=2024.3.0->coffea) (2025.5.1)\n",
      "Requirement already satisfied: fsspec-xrootd>=0.2.3 in /home/samyak/micromamba/envs/pyhep/lib/python3.11/site-packages (from coffea) (0.5.1)\n",
      "Requirement already satisfied: hist>=2 in /home/samyak/micromamba/envs/pyhep/lib/python3.11/site-packages (from coffea) (2.8.1)\n",
      "Requirement already satisfied: lz4 in /home/samyak/micromamba/envs/pyhep/lib/python3.11/site-packages (from coffea) (4.3.3)\n",
      "Requirement already satisfied: matplotlib>=3 in /home/samyak/micromamba/envs/pyhep/lib/python3.11/site-packages (from coffea) (3.10.3)\n",
      "Requirement already satisfied: mplhep>=0.1.18 in /home/samyak/micromamba/envs/pyhep/lib/python3.11/site-packages (from coffea) (0.3.59)\n",
      "Requirement already satisfied: numba>=0.58.1 in /home/samyak/micromamba/envs/pyhep/lib/python3.11/site-packages (from coffea) (0.61.2)\n",
      "Requirement already satisfied: numpy>=1.22 in /home/samyak/micromamba/envs/pyhep/lib/python3.11/site-packages (from coffea) (1.26.4)\n",
      "Requirement already satisfied: packaging in /home/samyak/micromamba/envs/pyhep/lib/python3.11/site-packages (from coffea) (25.0)\n",
      "Requirement already satisfied: pandas in /home/samyak/micromamba/envs/pyhep/lib/python3.11/site-packages (from coffea) (2.2.3)\n",
      "Requirement already satisfied: pyarrow>=6.0.0 in /home/samyak/micromamba/envs/pyhep/lib/python3.11/site-packages (from coffea) (18.0.0)\n",
      "Requirement already satisfied: requests in /home/samyak/micromamba/envs/pyhep/lib/python3.11/site-packages (from coffea) (2.32.3)\n",
      "Requirement already satisfied: scipy>=1.1.0 in /home/samyak/micromamba/envs/pyhep/lib/python3.11/site-packages (from coffea) (1.15.2)\n",
      "Requirement already satisfied: toml>=0.10.2 in /home/samyak/micromamba/envs/pyhep/lib/python3.11/site-packages (from coffea) (0.10.2)\n",
      "Requirement already satisfied: tqdm>=4.27.0 in /home/samyak/micromamba/envs/pyhep/lib/python3.11/site-packages (from coffea) (4.67.1)\n",
      "Requirement already satisfied: uproot>=5.3.11 in /home/samyak/micromamba/envs/pyhep/lib/python3.11/site-packages (from coffea) (5.6.2)\n",
      "Requirement already satisfied: vector!=1.6.0,>=1.4.1 in /home/samyak/micromamba/envs/pyhep/lib/python3.11/site-packages (from coffea) (1.6.2)\n",
      "Requirement already satisfied: awkward-cpp==46 in /home/samyak/micromamba/envs/pyhep/lib/python3.11/site-packages (from awkward>=2.6.7->coffea) (46)\n",
      "Requirement already satisfied: fsspec>=2022.11.0 in /home/samyak/micromamba/envs/pyhep/lib/python3.11/site-packages (from awkward>=2.6.7->coffea) (2025.5.1)\n",
      "Requirement already satisfied: importlib-metadata>=4.13.0 in /home/samyak/micromamba/envs/pyhep/lib/python3.11/site-packages (from awkward>=2.6.7->coffea) (8.7.0)\n",
      "Requirement already satisfied: pydantic>=2 in /home/samyak/micromamba/envs/pyhep/lib/python3.11/site-packages (from correctionlib>=2.6.0->coffea) (2.11.4)\n",
      "Requirement already satisfied: rich in /home/samyak/micromamba/envs/pyhep/lib/python3.11/site-packages (from correctionlib>=2.6.0->coffea) (14.0.0)\n",
      "Requirement already satisfied: click>=8.1 in /home/samyak/micromamba/envs/pyhep/lib/python3.11/site-packages (from dask>=2024.3.0->dask[array]>=2024.3.0->coffea) (8.2.1)\n",
      "Requirement already satisfied: partd>=1.4.0 in /home/samyak/micromamba/envs/pyhep/lib/python3.11/site-packages (from dask>=2024.3.0->dask[array]>=2024.3.0->coffea) (1.4.2)\n",
      "Requirement already satisfied: pyyaml>=5.3.1 in /home/samyak/micromamba/envs/pyhep/lib/python3.11/site-packages (from dask>=2024.3.0->dask[array]>=2024.3.0->coffea) (6.0.2)\n",
      "Requirement already satisfied: toolz>=0.10.0 in /home/samyak/micromamba/envs/pyhep/lib/python3.11/site-packages (from dask>=2024.3.0->dask[array]>=2024.3.0->coffea) (1.0.0)\n",
      "Requirement already satisfied: typing-extensions>=4.8.0 in /home/samyak/micromamba/envs/pyhep/lib/python3.11/site-packages (from dask-awkward>=2025.2.0->coffea) (4.13.2)\n",
      "Requirement already satisfied: boost-histogram>=1.3.2 in /home/samyak/micromamba/envs/pyhep/lib/python3.11/site-packages (from dask-histogram>=2025.2.0->coffea) (1.5.2)\n",
      "Requirement already satisfied: histoprint>=2.2.0 in /home/samyak/micromamba/envs/pyhep/lib/python3.11/site-packages (from hist>=2->coffea) (2.6.0)\n",
      "Requirement already satisfied: uhi>=0.2.1 in /home/samyak/micromamba/envs/pyhep/lib/python3.11/site-packages (from histoprint>=2.2.0->hist>=2->coffea) (0.5.0)\n",
      "Requirement already satisfied: zipp>=3.20 in /home/samyak/micromamba/envs/pyhep/lib/python3.11/site-packages (from importlib-metadata>=4.13.0->awkward>=2.6.7->coffea) (3.22.0)\n",
      "Requirement already satisfied: contourpy>=1.0.1 in /home/samyak/micromamba/envs/pyhep/lib/python3.11/site-packages (from matplotlib>=3->coffea) (1.3.2)\n",
      "Requirement already satisfied: cycler>=0.10 in /home/samyak/micromamba/envs/pyhep/lib/python3.11/site-packages (from matplotlib>=3->coffea) (0.12.1)\n",
      "Requirement already satisfied: fonttools>=4.22.0 in /home/samyak/micromamba/envs/pyhep/lib/python3.11/site-packages (from matplotlib>=3->coffea) (4.58.1)\n",
      "Requirement already satisfied: kiwisolver>=1.3.1 in /home/samyak/micromamba/envs/pyhep/lib/python3.11/site-packages (from matplotlib>=3->coffea) (1.4.7)\n",
      "Requirement already satisfied: pillow>=8 in /home/samyak/micromamba/envs/pyhep/lib/python3.11/site-packages (from matplotlib>=3->coffea) (11.2.1)\n",
      "Requirement already satisfied: pyparsing>=2.3.1 in /home/samyak/micromamba/envs/pyhep/lib/python3.11/site-packages (from matplotlib>=3->coffea) (3.2.3)\n",
      "Requirement already satisfied: python-dateutil>=2.7 in /home/samyak/micromamba/envs/pyhep/lib/python3.11/site-packages (from matplotlib>=3->coffea) (2.9.0.post0)\n",
      "Requirement already satisfied: mplhep-data>=0.0.4 in /home/samyak/micromamba/envs/pyhep/lib/python3.11/site-packages (from mplhep>=0.1.18->coffea) (0.0.4)\n",
      "Requirement already satisfied: llvmlite<0.45,>=0.44.0dev0 in /home/samyak/micromamba/envs/pyhep/lib/python3.11/site-packages (from numba>=0.58.1->coffea) (0.44.0)\n",
      "Requirement already satisfied: locket in /home/samyak/micromamba/envs/pyhep/lib/python3.11/site-packages (from partd>=1.4.0->dask>=2024.3.0->dask[array]>=2024.3.0->coffea) (1.0.0)\n",
      "Requirement already satisfied: annotated-types>=0.6.0 in /home/samyak/micromamba/envs/pyhep/lib/python3.11/site-packages (from pydantic>=2->correctionlib>=2.6.0->coffea) (0.7.0)\n",
      "Requirement already satisfied: pydantic-core==2.33.2 in /home/samyak/micromamba/envs/pyhep/lib/python3.11/site-packages (from pydantic>=2->correctionlib>=2.6.0->coffea) (2.33.2)\n",
      "Requirement already satisfied: typing-inspection>=0.4.0 in /home/samyak/micromamba/envs/pyhep/lib/python3.11/site-packages (from pydantic>=2->correctionlib>=2.6.0->coffea) (0.4.1)\n",
      "Requirement already satisfied: six>=1.5 in /home/samyak/micromamba/envs/pyhep/lib/python3.11/site-packages (from python-dateutil>=2.7->matplotlib>=3->coffea) (1.17.0)\n",
      "Requirement already satisfied: cramjam>=2.5.0 in /home/samyak/micromamba/envs/pyhep/lib/python3.11/site-packages (from uproot>=5.3.11->coffea) (2.10.0)\n",
      "Requirement already satisfied: xxhash in /home/samyak/micromamba/envs/pyhep/lib/python3.11/site-packages (from uproot>=5.3.11->coffea) (3.5.0)\n",
      "Requirement already satisfied: aiohappyeyeballs>=2.5.0 in /home/samyak/micromamba/envs/pyhep/lib/python3.11/site-packages (from aiohttp->coffea) (2.6.1)\n",
      "Requirement already satisfied: aiosignal>=1.1.2 in /home/samyak/micromamba/envs/pyhep/lib/python3.11/site-packages (from aiohttp->coffea) (1.3.2)\n",
      "Requirement already satisfied: attrs>=17.3.0 in /home/samyak/micromamba/envs/pyhep/lib/python3.11/site-packages (from aiohttp->coffea) (25.3.0)\n",
      "Requirement already satisfied: frozenlist>=1.1.1 in /home/samyak/micromamba/envs/pyhep/lib/python3.11/site-packages (from aiohttp->coffea) (1.6.0)\n",
      "Requirement already satisfied: multidict<7.0,>=4.5 in /home/samyak/micromamba/envs/pyhep/lib/python3.11/site-packages (from aiohttp->coffea) (6.4.4)\n",
      "Requirement already satisfied: propcache>=0.2.0 in /home/samyak/micromamba/envs/pyhep/lib/python3.11/site-packages (from aiohttp->coffea) (0.3.1)\n",
      "Requirement already satisfied: yarl<2.0,>=1.17.0 in /home/samyak/micromamba/envs/pyhep/lib/python3.11/site-packages (from aiohttp->coffea) (1.20.0)\n",
      "Requirement already satisfied: idna>=2.0 in /home/samyak/micromamba/envs/pyhep/lib/python3.11/site-packages (from yarl<2.0,>=1.17.0->aiohttp->coffea) (3.10)\n",
      "Requirement already satisfied: pytz>=2020.1 in /home/samyak/micromamba/envs/pyhep/lib/python3.11/site-packages (from pandas->coffea) (2025.2)\n",
      "Requirement already satisfied: tzdata>=2022.7 in /home/samyak/micromamba/envs/pyhep/lib/python3.11/site-packages (from pandas->coffea) (2025.2)\n",
      "Requirement already satisfied: charset_normalizer<4,>=2 in /home/samyak/micromamba/envs/pyhep/lib/python3.11/site-packages (from requests->coffea) (3.4.2)\n",
      "Requirement already satisfied: urllib3<3,>=1.21.1 in /home/samyak/micromamba/envs/pyhep/lib/python3.11/site-packages (from requests->coffea) (2.4.0)\n",
      "Requirement already satisfied: certifi>=2017.4.17 in /home/samyak/micromamba/envs/pyhep/lib/python3.11/site-packages (from requests->coffea) (2025.4.26)\n",
      "Requirement already satisfied: markdown-it-py>=2.2.0 in /home/samyak/micromamba/envs/pyhep/lib/python3.11/site-packages (from rich->correctionlib>=2.6.0->coffea) (3.0.0)\n",
      "Requirement already satisfied: pygments<3.0.0,>=2.13.0 in /home/samyak/micromamba/envs/pyhep/lib/python3.11/site-packages (from rich->correctionlib>=2.6.0->coffea) (2.19.1)\n",
      "Requirement already satisfied: mdurl~=0.1 in /home/samyak/micromamba/envs/pyhep/lib/python3.11/site-packages (from markdown-it-py>=2.2.0->rich->correctionlib>=2.6.0->coffea) (0.1.2)\n",
      "Requirement already satisfied: awkward in /home/samyak/micromamba/envs/pyhep/lib/python3.11/site-packages (2.8.3)\n",
      "Requirement already satisfied: awkward-cpp==46 in /home/samyak/micromamba/envs/pyhep/lib/python3.11/site-packages (from awkward) (46)\n",
      "Requirement already satisfied: fsspec>=2022.11.0 in /home/samyak/micromamba/envs/pyhep/lib/python3.11/site-packages (from awkward) (2025.5.1)\n",
      "Requirement already satisfied: importlib-metadata>=4.13.0 in /home/samyak/micromamba/envs/pyhep/lib/python3.11/site-packages (from awkward) (8.7.0)\n",
      "Requirement already satisfied: numpy>=1.18.0 in /home/samyak/micromamba/envs/pyhep/lib/python3.11/site-packages (from awkward) (1.26.4)\n",
      "Requirement already satisfied: packaging in /home/samyak/micromamba/envs/pyhep/lib/python3.11/site-packages (from awkward) (25.0)\n",
      "Requirement already satisfied: zipp>=3.20 in /home/samyak/micromamba/envs/pyhep/lib/python3.11/site-packages (from importlib-metadata>=4.13.0->awkward) (3.22.0)\n",
      "Requirement already satisfied: uproot in /home/samyak/micromamba/envs/pyhep/lib/python3.11/site-packages (5.6.2)\n",
      "Requirement already satisfied: awkward>=2.4.6 in /home/samyak/micromamba/envs/pyhep/lib/python3.11/site-packages (from uproot) (2.8.3)\n",
      "Requirement already satisfied: cramjam>=2.5.0 in /home/samyak/micromamba/envs/pyhep/lib/python3.11/site-packages (from uproot) (2.10.0)\n",
      "Requirement already satisfied: fsspec in /home/samyak/micromamba/envs/pyhep/lib/python3.11/site-packages (from uproot) (2025.5.1)\n",
      "Requirement already satisfied: numpy in /home/samyak/micromamba/envs/pyhep/lib/python3.11/site-packages (from uproot) (1.26.4)\n",
      "Requirement already satisfied: packaging in /home/samyak/micromamba/envs/pyhep/lib/python3.11/site-packages (from uproot) (25.0)\n",
      "Requirement already satisfied: xxhash in /home/samyak/micromamba/envs/pyhep/lib/python3.11/site-packages (from uproot) (3.5.0)\n",
      "Requirement already satisfied: awkward-cpp==46 in /home/samyak/micromamba/envs/pyhep/lib/python3.11/site-packages (from awkward>=2.4.6->uproot) (46)\n",
      "Requirement already satisfied: importlib-metadata>=4.13.0 in /home/samyak/micromamba/envs/pyhep/lib/python3.11/site-packages (from awkward>=2.4.6->uproot) (8.7.0)\n",
      "Requirement already satisfied: zipp>=3.20 in /home/samyak/micromamba/envs/pyhep/lib/python3.11/site-packages (from importlib-metadata>=4.13.0->awkward>=2.4.6->uproot) (3.22.0)\n",
      "Requirement already satisfied: fsspec-xrootd in /home/samyak/micromamba/envs/pyhep/lib/python3.11/site-packages (0.5.1)\n",
      "Requirement already satisfied: fsspec in /home/samyak/micromamba/envs/pyhep/lib/python3.11/site-packages (from fsspec-xrootd) (2025.5.1)\n",
      "Requirement already satisfied: vector in /home/samyak/micromamba/envs/pyhep/lib/python3.11/site-packages (1.6.2)\n",
      "Requirement already satisfied: numpy>=1.13.3 in /home/samyak/micromamba/envs/pyhep/lib/python3.11/site-packages (from vector) (1.26.4)\n",
      "Requirement already satisfied: packaging>=19 in /home/samyak/micromamba/envs/pyhep/lib/python3.11/site-packages (from vector) (25.0)\n",
      "Requirement already satisfied: pandas in /home/samyak/micromamba/envs/pyhep/lib/python3.11/site-packages (2.2.3)\n",
      "Collecting pandas\n",
      "  Downloading pandas-2.3.0-cp311-cp311-manylinux_2_17_x86_64.manylinux2014_x86_64.whl.metadata (91 kB)\n",
      "Requirement already satisfied: numpy>=1.23.2 in /home/samyak/micromamba/envs/pyhep/lib/python3.11/site-packages (from pandas) (1.26.4)\n",
      "Requirement already satisfied: python-dateutil>=2.8.2 in /home/samyak/micromamba/envs/pyhep/lib/python3.11/site-packages (from pandas) (2.9.0.post0)\n",
      "Requirement already satisfied: pytz>=2020.1 in /home/samyak/micromamba/envs/pyhep/lib/python3.11/site-packages (from pandas) (2025.2)\n",
      "Requirement already satisfied: tzdata>=2022.7 in /home/samyak/micromamba/envs/pyhep/lib/python3.11/site-packages (from pandas) (2025.2)\n",
      "Requirement already satisfied: six>=1.5 in /home/samyak/micromamba/envs/pyhep/lib/python3.11/site-packages (from python-dateutil>=2.8.2->pandas) (1.17.0)\n",
      "Downloading pandas-2.3.0-cp311-cp311-manylinux_2_17_x86_64.manylinux2014_x86_64.whl (12.4 MB)\n",
      "\u001b[2K   \u001b[38;2;114;156;31m━━━━━━━━━━━━━━━━━━━━━━━━━━━━━━━━━━━━━━━━\u001b[0m \u001b[32m12.4/12.4 MB\u001b[0m \u001b[31m57.1 MB/s\u001b[0m eta \u001b[36m0:00:00\u001b[0m0m eta \u001b[36m0:00:01\u001b[0m\n",
      "\u001b[?25hInstalling collected packages: pandas\n",
      "  Attempting uninstall: pandas\n",
      "    Found existing installation: pandas 2.2.3\n",
      "    Uninstalling pandas-2.2.3:\n",
      "      Successfully uninstalled pandas-2.2.3\n",
      "Successfully installed pandas-2.3.0\n",
      "Requirement already satisfied: matplotlib in /home/samyak/micromamba/envs/pyhep/lib/python3.11/site-packages (3.10.3)\n",
      "Requirement already satisfied: contourpy>=1.0.1 in /home/samyak/micromamba/envs/pyhep/lib/python3.11/site-packages (from matplotlib) (1.3.2)\n",
      "Requirement already satisfied: cycler>=0.10 in /home/samyak/micromamba/envs/pyhep/lib/python3.11/site-packages (from matplotlib) (0.12.1)\n",
      "Requirement already satisfied: fonttools>=4.22.0 in /home/samyak/micromamba/envs/pyhep/lib/python3.11/site-packages (from matplotlib) (4.58.1)\n",
      "Requirement already satisfied: kiwisolver>=1.3.1 in /home/samyak/micromamba/envs/pyhep/lib/python3.11/site-packages (from matplotlib) (1.4.7)\n",
      "Requirement already satisfied: numpy>=1.23 in /home/samyak/micromamba/envs/pyhep/lib/python3.11/site-packages (from matplotlib) (1.26.4)\n",
      "Requirement already satisfied: packaging>=20.0 in /home/samyak/micromamba/envs/pyhep/lib/python3.11/site-packages (from matplotlib) (25.0)\n",
      "Requirement already satisfied: pillow>=8 in /home/samyak/micromamba/envs/pyhep/lib/python3.11/site-packages (from matplotlib) (11.2.1)\n",
      "Requirement already satisfied: pyparsing>=2.3.1 in /home/samyak/micromamba/envs/pyhep/lib/python3.11/site-packages (from matplotlib) (3.2.3)\n",
      "Requirement already satisfied: python-dateutil>=2.7 in /home/samyak/micromamba/envs/pyhep/lib/python3.11/site-packages (from matplotlib) (2.9.0.post0)\n",
      "Requirement already satisfied: six>=1.5 in /home/samyak/micromamba/envs/pyhep/lib/python3.11/site-packages (from python-dateutil>=2.7->matplotlib) (1.17.0)\n"
     ]
    }
   ],
   "source": [
    "#'''\n",
    "!pip install --upgrade pip\n",
    "\n",
    "!pip install futures \n",
    "\n",
    "!pip install --user --upgrade coffea\n",
    "\n",
    "!pip install --upgrade awkward\n",
    "!pip install --upgrade uproot\n",
    "\n",
    "!pip install --upgrade fsspec-xrootd\n",
    "\n",
    "!pip install vector\n",
    "\n",
    "!pip install --upgrade pandas\n",
    "\n",
    "\n",
    "!pip install --upgrade matplotlib\n",
    "#'''"
   ]
  },
  {
   "cell_type": "markdown",
   "id": "8dabf953-ba6f-4fb0-b27d-b7de01a4437b",
   "metadata": {},
   "source": [
    "We've also prepared some helper code that makes it easier to work with the data in this lesson.\n",
    "\n",
    "You can see the code [here](https://github.com/cms-opendata-workshop/workshop2024-lesson-event-selection/blob/main/instructors/dpoa_workshop_utilities.py) but we will explain the functions and data objects in this notebook. \n",
    "\n",
    "Let's download it first. "
   ]
  },
  {
   "cell_type": "code",
   "execution_count": 5,
   "id": "4ffabd1e-4faa-4c99-b123-c2808d43ee46",
   "metadata": {},
   "outputs": [
    {
     "name": "stdout",
     "output_type": "stream",
     "text": [
      "--2025-06-05 10:15:48--  https://raw.githubusercontent.com/cms-opendata-workshop/workshop2024-lesson-event-selection/main/instructors/dpoa_workshop_utilities.py\n",
      "Resolving raw.githubusercontent.com (raw.githubusercontent.com)... 185.199.111.133, 185.199.108.133, 185.199.110.133, ...\n",
      "Connecting to raw.githubusercontent.com (raw.githubusercontent.com)|185.199.111.133|:443... connected.\n",
      "HTTP request sent, awaiting response... 200 OK\n",
      "Length: 9657 (9.4K) [text/plain]\n",
      "Saving to: ‘dpoa_workshop_utilities.py.1’\n",
      "\n",
      "dpoa_workshop_utili 100%[===================>]   9.43K  --.-KB/s    in 0s      \n",
      "\n",
      "2025-06-05 10:15:48 (31.3 MB/s) - ‘dpoa_workshop_utilities.py.1’ saved [9657/9657]\n",
      "\n"
     ]
    }
   ],
   "source": [
    "!wget https://raw.githubusercontent.com/cms-opendata-workshop/workshop2024-lesson-event-selection/main/instructors/dpoa_workshop_utilities.py"
   ]
  },
  {
   "cell_type": "markdown",
   "id": "23a9c230-3250-427a-b5e5-933960c93ab7",
   "metadata": {},
   "source": [
    "## Imports\n",
    "\n",
    "Import all the libraries we will need and check their versions, in case you run into issues. "
   ]
  },
  {
   "cell_type": "code",
   "execution_count": 6,
   "id": "48b47c51-bcd2-481b-b238-30184aee249b",
   "metadata": {},
   "outputs": [],
   "source": [
    "%load_ext autoreload\n",
    "%autoreload 2\n",
    "\n",
    "# The classics\n",
    "import numpy as np\n",
    "import matplotlib.pylab as plt\n",
    "import matplotlib # To get the version\n",
    "\n",
    "import pandas as pd\n",
    "\n",
    "# The newcomers\n",
    "import awkward as ak\n",
    "import uproot\n",
    "\n",
    "import vector\n",
    "vector.register_awkward()\n",
    "\n",
    "import requests\n",
    "import os\n",
    "\n",
    "import time\n",
    "\n",
    "import json\n",
    "\n",
    "import dpoa_workshop_utilities\n",
    "from dpoa_workshop_utilities import nanoaod_filenames\n",
    "from dpoa_workshop_utilities import get_files_for_dataset\n",
    "from dpoa_workshop_utilities import pretty_print\n",
    "from dpoa_workshop_utilities import build_lumi_mask\n",
    "\n",
    "import sys"
   ]
  },
  {
   "cell_type": "code",
   "execution_count": 7,
   "id": "a96e2967-08e7-4317-8e1b-93df0d7b7f93",
   "metadata": {},
   "outputs": [
    {
     "name": "stdout",
     "output_type": "stream",
     "text": [
      "Versions --------\n",
      "\n",
      "sys.version = '3.11.12 | packaged by conda-forge | (main, Apr 10 2025, 22:23:25) [GCC 13.3.0]'\n",
      "\n",
      "ak.__version__ = '2.8.3'\n",
      "\n",
      "uproot.__version__ = '5.6.2'\n",
      "\n",
      "np.__version__ = '1.26.4'\n",
      "\n",
      "matplotlib.__version__ = '3.10.3'\n",
      "\n",
      "vector.__version__ = '1.6.2'\n",
      "\n",
      "pd.__version__ = '2.3.0'\n",
      "\n"
     ]
    }
   ],
   "source": [
    "print(\"Versions --------\\n\")\n",
    "print(f\"{sys.version = }\\n\")\n",
    "print(f\"{ak.__version__ = }\\n\")\n",
    "print(f\"{uproot.__version__ = }\\n\")\n",
    "print(f\"{np.__version__ = }\\n\")\n",
    "print(f\"{matplotlib.__version__ = }\\n\")\n",
    "print(f\"{vector.__version__ = }\\n\")\n",
    "print(f\"{pd.__version__ = }\\n\")"
   ]
  },
  {
   "cell_type": "markdown",
   "id": "b467ced2-a6d9-4d48-b1d7-27534fcc4cef",
   "metadata": {},
   "source": [
    "# Opening a file\n",
    "\n",
    "Let's open and explore a sample file. \n",
    "\n",
    "We'll be getting the data from [here](https://opendata.cern.ch/record/67993).\n",
    "\n",
    "This is some Monte Carlo that contains simulations of a top-antitop pair being created in a proton-proton collision at CMS. \n",
    "\n",
    "One top decays leptonically and the other decays hadronically. \n",
    "\n",
    "**Do you know what leptonically and hadronically mean? If not, do a bit of research.**\n",
    "\n",
    "When you go to open the file, it might take 10-30 seconds at this step if you are working with the larger file."
   ]
  },
  {
   "cell_type": "code",
   "execution_count": 8,
   "id": "8d021a10-7b23-4204-8f1b-a85c527fd640",
   "metadata": {},
   "outputs": [
    {
     "name": "stdout",
     "output_type": "stream",
     "text": [
      "Opening...root://eospublic.cern.ch//eos/opendata/cms/mc/RunIISummer20UL16NanoAODv9/TTToSemiLeptonic_TuneCP5_13TeV-powheg-pythia8/NANOAODSIM/106X_mcRun2_asymptotic_v17-v1/120000/7D120E49-E712-B74B-9E1C-67F2D0057995.root\n",
      "nevents = 168000\n"
     ]
    }
   ],
   "source": [
    "# For testing\n",
    "# Big file\n",
    "#filename = 'root://eospublic.cern.ch//eos/opendata/cms/mc/RunIISummer20UL16NanoAODv9/TTToSemiLeptonic_TuneCP5_13TeV-powheg-pythia8/NANOAODSIM/106X_mcRun2_asymptotic_v17-v1/120000/08FCB2ED-176B-064B-85AB-37B898773B98.root'\n",
    "\n",
    "# Smaller file, better for prototyping your code as things will run faster\n",
    "filename = 'root://eospublic.cern.ch//eos/opendata/cms/mc/RunIISummer20UL16NanoAODv9/TTToSemiLeptonic_TuneCP5_13TeV-powheg-pythia8/NANOAODSIM/106X_mcRun2_asymptotic_v17-v1/120000/7D120E49-E712-B74B-9E1C-67F2D0057995.root'\n",
    "\n",
    "print(f\"Opening...{filename}\")\n",
    "f = uproot.open(filename)\n",
    "\n",
    "events = f['Events']\n",
    "\n",
    "nevents = events.num_entries\n",
    "\n",
    "print(f\"{nevents = }\")"
   ]
  },
  {
   "cell_type": "markdown",
   "id": "6958d27f-abac-4a25-9419-80f47ee05de9",
   "metadata": {},
   "source": [
    "The `events` object is a `TTree` implementation in python and behaves like a dictionary. This means \n",
    "we can get all the keys if we want. "
   ]
  },
  {
   "cell_type": "code",
   "execution_count": 9,
   "id": "eed85383-d1e7-4142-aba4-19c77d20ad86",
   "metadata": {},
   "outputs": [],
   "source": [
    "# Uncomment the following line to print all the keys\n",
    "\n",
    "#print(events.keys())"
   ]
  },
  {
   "cell_type": "markdown",
   "id": "d93956f8-3ebc-4483-a78f-08383df897fa",
   "metadata": {},
   "source": [
    "Again, we have provided you with a helper function called `pretty_print` that will print subsets of the keys, based on strings\n",
    "that you require or ignore. \n",
    "\n",
    "It will also format that output based on how many characters you want in a column (you are limited to 80 characters per line). \n",
    "\n",
    "Here is some example usage. "
   ]
  },
  {
   "cell_type": "code",
   "execution_count": 10,
   "id": "753e6931-609a-4dc3-a032-3c25df01cf02",
   "metadata": {},
   "outputs": [
    {
     "name": "stdout",
     "output_type": "stream",
     "text": [
      "CorrT1METJet_area                        CorrT1METJet_eta                         \n",
      "CorrT1METJet_muonSubtrFactor             CorrT1METJet_phi                         \n",
      "CorrT1METJet_rawPt                       GenJet_eta                               \n",
      "GenJet_mass                              GenJet_phi                               \n",
      "GenJet_pt                                Jet_area                                 \n",
      "Jet_btagCSVV2                            Jet_btagDeepB                            \n",
      "Jet_btagDeepCvB                          Jet_btagDeepCvL                          \n",
      "Jet_btagDeepFlavB                        Jet_btagDeepFlavCvB                      \n",
      "Jet_btagDeepFlavCvL                      Jet_btagDeepFlavQG                       \n",
      "Jet_chEmEF                               Jet_chFPV0EF                             \n",
      "Jet_chHEF                                Jet_eta                                  \n",
      "Jet_hfsigmaEtaEta                        Jet_hfsigmaPhiPhi                        \n",
      "Jet_mass                                 Jet_muEF                                 \n",
      "Jet_muonSubtrFactor                      Jet_neEmEF                               \n",
      "Jet_neHEF                                Jet_phi                                  \n",
      "Jet_pt                                   Jet_puIdDisc                             \n",
      "Jet_qgl                                  Jet_rawFactor                            \n",
      "Jet_bRegCorr                             Jet_bRegRes                              \n",
      "Jet_cRegCorr                             Jet_cRegRes                              \n",
      "Jet_electronIdx1                         Jet_electronIdx2                         \n",
      "Jet_hfadjacentEtaStripsSize              Jet_hfcentralEtaStripSize                \n",
      "Jet_jetId                                Jet_muonIdx1                             \n",
      "Jet_muonIdx2                             Jet_nElectrons                           \n",
      "Jet_nMuons                               Jet_puId                                 \n",
      "Jet_nConstituents                        SoftActivityJet_eta                      \n",
      "SoftActivityJet_phi                      SoftActivityJet_pt                       \n",
      "SubJet_btagCSVV2                         SubJet_btagDeepB                         \n",
      "SubJet_eta                               SubJet_mass                              \n",
      "SubJet_n2b1                              SubJet_n3b1                              \n",
      "SubJet_phi                               SubJet_pt                                \n",
      "SubJet_rawFactor                         SubJet_tau1                              \n",
      "SubJet_tau2                              SubJet_tau3                              \n",
      "SubJet_tau4                              GenJet_partonFlavour                     \n",
      "GenJet_hadronFlavour                     Jet_genJetIdx                            \n",
      "Jet_hadronFlavour                        Jet_partonFlavour                        \n",
      "Jet_cleanmask                            SubJet_hadronFlavour                     \n",
      "SubJet_nBHadrons                         SubJet_nCHadrons                         \n",
      "L1_Jet32_DoubleMu_10_0_dPhi_Jet_Mu0_Max0p4_dPhi_Mu_Mu_Min1p0 \n",
      "L1_Jet32_Mu0_EG10_dPhi_Jet_Mu_Max0p4_dPhi_Mu_EG_Min1p0 L1_TripleJet_84_68_48_VBF                \n",
      "L1_TripleJet_88_72_56_VBF                L1_TripleJet_92_76_64_VBF                \n",
      "HLT_QuadPFJet_BTagCSV_p016_p11_VBF_Mqq200 HLT_QuadPFJet_BTagCSV_p016_VBF_Mqq460    \n",
      "HLT_QuadPFJet_BTagCSV_p016_p11_VBF_Mqq240 HLT_QuadPFJet_BTagCSV_p016_VBF_Mqq500    \n",
      "HLT_QuadPFJet_VBF                        HLT_L1_TripleJet_VBF                     \n"
     ]
    }
   ],
   "source": [
    "# Pretty print all the keys with the default format\n",
    "#pretty_print(events.keys())\n",
    "\n",
    "# Pretty print keys with 30 characters per column, for keys that contain `FatJet`\n",
    "#pretty_print(events.keys(), fmt='30s', require='FatJet')\n",
    "\n",
    "# Pretty print keys with 40 characters per column, for keys that contain `Muon` and `Iso` but ignore ones with `HLT`\n",
    "#pretty_print(events.keys(), fmt='40s', require=['Muon', 'Iso'], ignore='HLT')\n",
    "\n",
    "# Pretty print keys with 40 characters per column, for keys that contain `HLT` and `TkMu50`\n",
    "#pretty_print(events.keys(), fmt='40s', require=['HLT', 'TkMu50'])\n",
    "\n",
    "# Pretty print keys with 40 characters per column, for keys that contain `HLT`\n",
    "#pretty_print(events.keys(), fmt='40s', require='HLT')\n",
    "\n",
    "# Pretty print keys with 40 characters per column, for keys that contain `Jet_` but ignore ones with `Fat`\n",
    "pretty_print(events.keys(), fmt='40s', require='Jet_', ignore='Fat')\n",
    "\n",
    "# Pretty print keys with 40 characters per column, for keys that contain `PuppiMET` but ignore ones with `Raw`\n",
    "#pretty_print(events.keys(), fmt='40s', require='PuppiMET', ignore='Raw')"
   ]
  },
  {
   "cell_type": "markdown",
   "id": "789ae07e-32bd-4d0a-86eb-062d9aa2cbc9",
   "metadata": {},
   "source": [
    "## Extract some data\n",
    "\n",
    "We're going to pull out subsets of the data in order to do our analysis. \n",
    "\n",
    "As a reminder, you can find a list of the variable names in each dataset on the CERN Open Data Portal page for that dataset, for example, [here](https://opendata.cern.ch/eos/opendata/cms/dataset-semantics/NanoAODSIM/75156/ZprimeToTT_M2000_W20_TuneCP2_PSweights_13TeV-madgraph-pythiaMLM-pythia8_doc.html).\n",
    "\n",
    "We're going to work with the following sets of variables\n",
    "* `FatJet` for jets that are merges\n",
    "* `Jet` for non-merged jets\n",
    "* `Muon` for muons\n",
    "* `PuppiMET` which is missing energy in the transverse plane (MET) for pileup per particle identification (Puppi)\n",
    "\n",
    "Running this cell might take a little bit if you are running over the bigger file. However, once you pull out the values, later calculations are much faster. "
   ]
  },
  {
   "cell_type": "code",
   "execution_count": 11,
   "id": "ecdfee36-c6ae-4b6a-be8a-bb86ef962c8b",
   "metadata": {},
   "outputs": [],
   "source": [
    "# Jets ---------------------------------------------------\n",
    "# B-tagging variable\n",
    "jet_btag = events['Jet_btagDeepB'].array()\n",
    "\n",
    "# Measure of quality of measurement of jet\n",
    "jet_jetid = events['Jet_jetId'].array()\n",
    "\n",
    "# 4-momentum in pt, eta, phi, mass \n",
    "jet_pt = events['Jet_pt'].array()\n",
    "jet_eta = events['Jet_eta'].array()\n",
    "jet_phi = events['Jet_phi'].array()\n",
    "jet_mass = events['Jet_mass'].array()\n",
    "\n",
    "\n",
    "# Muons ---------------------------------------------------\n",
    "# Muon isolation\n",
    "muon_iso = events['Muon_miniIsoId'].array()\n",
    "\n",
    "# Measure of quality of how well the muon is reconstructed\n",
    "muon_tightId = events['Muon_tightId'].array()\n",
    "\n",
    "# 4-momentum in pt, eta, phi, mass \n",
    "muon_pt = events['Muon_pt'].array()\n",
    "muon_eta = events['Muon_eta'].array()\n",
    "muon_phi = events['Muon_phi'].array()\n",
    "muon_mass = events['Muon_mass'].array()\n",
    "\n",
    "\n",
    "# MET ------------------------------------------------------\n",
    "# 3-momentum in pt, eta, phi, mass \n",
    "met_pt = events['PuppiMET_pt'].array()\n",
    "met_eta = 0*events['PuppiMET_pt'].array()  # Fix this to be 0\n",
    "met_phi = events['PuppiMET_phi'].array() "
   ]
  },
  {
   "cell_type": "markdown",
   "id": "d078e004-1635-4fda-8443-9f0a85e772dc",
   "metadata": {},
   "source": [
    "# What comes next?"
   ]
  },
  {
   "cell_type": "code",
   "execution_count": 12,
   "id": "68c3607f-e77c-49ed-907e-57894a88eced",
   "metadata": {},
   "outputs": [
    {
     "name": "stdout",
     "output_type": "stream",
     "text": [
      "This was the change\n"
     ]
    }
   ],
   "source": [
    "print(\"This was the change\")"
   ]
  },
  {
   "cell_type": "code",
   "execution_count": null,
   "id": "ab85d063-5d53-4d36-8631-4cc58a206816",
   "metadata": {},
   "outputs": [],
   "source": []
  }
 ],
 "metadata": {
  "kernelspec": {
   "display_name": "Python 3 (ipykernel)",
   "language": "python",
   "name": "python3"
  },
  "language_info": {
   "codemirror_mode": {
    "name": "ipython",
    "version": 3
   },
   "file_extension": ".py",
   "mimetype": "text/x-python",
   "name": "python",
   "nbconvert_exporter": "python",
   "pygments_lexer": "ipython3",
   "version": "3.11.12"
  }
 },
 "nbformat": 4,
 "nbformat_minor": 5
}
